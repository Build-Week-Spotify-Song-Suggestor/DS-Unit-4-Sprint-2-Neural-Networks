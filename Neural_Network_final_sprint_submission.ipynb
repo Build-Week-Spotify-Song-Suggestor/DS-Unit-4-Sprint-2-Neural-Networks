{
  "nbformat": 4,
  "nbformat_minor": 0,
  "metadata": {
    "kernelspec": {
      "display_name": "Python 3",
      "language": "python",
      "name": "python3"
    },
    "language_info": {
      "codemirror_mode": {
        "name": "ipython",
        "version": 3
      },
      "file_extension": ".py",
      "mimetype": "text/x-python",
      "name": "python",
      "nbconvert_exporter": "python",
      "pygments_lexer": "ipython3",
      "version": "3.7.4"
    },
    "colab": {
      "name": "Neural Network final sprint submission",
      "provenance": [],
      "collapsed_sections": []
    },
    "accelerator": "GPU"
  },
  "cells": [
    {
      "cell_type": "markdown",
      "metadata": {
        "id": "d1Zq6IVunozI"
      },
      "source": [
        "\n",
        "## Autograded Notebook (Canvas & CodeGrade)\n",
        "\n",
        "This notebook will be automatically graded. It is designed to test your answers and award points for the correct answers. Following the instructions for each Task carefully.\n",
        "Instructions\n",
        "\n",
        "- **Download** this notebook as you would any other ipynb file \n",
        "- **Upload** to Google Colab or work locally (if you have that set-up)\n",
        "- **Delete** `raise NotImplementedError()`\n",
        "\n",
        "- **Write** your code in the `# YOUR CODE HERE` space\n",
        "\n",
        "\n",
        "- **Execute** the Test cells that contain assert statements - these help you check your work (others contain hidden tests that will be checked when you submit through Canvas)\n",
        "\n",
        "- **Save** your notebook when you are finished\n",
        "- **Download** as a ipynb file (if working in Colab)\n",
        "- **Upload** your complete notebook to Canvas (there will be additional instructions in Slack and/or Canvas)\n",
        "\n"
      ]
    },
    {
      "cell_type": "markdown",
      "metadata": {
        "id": "K1vHSb5onozO"
      },
      "source": [
        "<img align=\"left\" src=\"https://lever-client-logos.s3.amazonaws.com/864372b1-534c-480e-acd5-9711f850815c-1524247202159.png\" width=200>\n",
        "<br></br>\n",
        "<br></br>\n",
        "\n",
        "## *Data Science Unit 4 Sprint 2*\n",
        "\n",
        "# Sprint Challenge - Neural Network Foundations\n",
        "\n",
        "Table of Problems\n",
        "\n",
        "1. [Defining Neural Networks](#Q1)\n",
        "2. [Simple Perceptron](#Q2)\n",
        "    - Perceptron\n",
        "    - Multilayer Perceptron\n",
        "    - Analyze and Compare\n",
        "4. [Keras MMP](#Q3)"
      ]
    },
    {
      "cell_type": "markdown",
      "metadata": {
        "deletable": false,
        "editable": false,
        "nbgrader": {
          "cell_type": "markdown",
          "checksum": "a2d017ba3200be3890c0b67eda283c48",
          "grade": false,
          "grade_id": "cell-621a8b86bacf295a",
          "locked": true,
          "points": 0,
          "schema_version": 3,
          "solution": false,
          "task": true
        },
        "id": "beMMOa_NnozQ"
      },
      "source": [
        "<a id=\"Q1\"></a>\n",
        "## 1. Defining Neural Networks \n",
        "\n",
        "Write *your own* definitions for the following terms:\n",
        "\n",
        "- **Neuron:**\n",
        "\n",
        "- **Input Layer:** \n",
        "\n",
        "- **Hidden Layer:** \n",
        "\n",
        "- **Output Layer:**\n",
        "\n",
        "- **Activation:** "
      ]
    },
    {
      "cell_type": "markdown",
      "metadata": {
        "deletable": false,
        "nbgrader": {
          "cell_type": "markdown",
          "checksum": "7233c31461609b21a7fc2651afb12632",
          "grade": true,
          "grade_id": "cell-6adae65226f09553",
          "locked": false,
          "points": 0,
          "schema_version": 3,
          "solution": true,
          "task": false
        },
        "id": "MQqm49GKnozQ"
      },
      "source": [
        "Neuron: The Nodes of a Neural Network. These represent the values after a calculation is made depending on the weights that procede it and then pass the sum of those calculations to the next layer.\r\n",
        "\r\n",
        "Input Layer:The first layer of a nueral network. These represent the values before any weights are caluculated. This layer requires an input dimension.\r\n",
        "\r\n",
        "\r\n",
        "Hidden Layer:The layers between the input layer and the output layer. there is at least one hidden layer and can be as many as designated by the creator of the network.\r\n",
        "\r\n",
        "\r\n",
        "Output Layer:This layer represents the finalized value of the calculations performed after the input layer and by each of the hidden layers. The amount of Neurons here should match the amount of classes in a multiclassification model (softfmax) and as few as one in a binarey classifiaction model(sigmoid)\r\n",
        "\r\n",
        "\r\n",
        "Activation Function: The function that determines the output of a nueron, such as sigmoid (0-off, 1-on), reLU, leaky reLU, tanf, and softmax."
      ]
    },
    {
      "cell_type": "markdown",
      "metadata": {
        "deletable": false,
        "editable": false,
        "nbgrader": {
          "cell_type": "markdown",
          "checksum": "bb49a3d32ff92032e5bc641764d86ca4",
          "grade": false,
          "grade_id": "cell-d64f1de9e9458dc7",
          "locked": true,
          "points": 0,
          "schema_version": 3,
          "solution": false,
          "task": true
        },
        "id": "xWnm2UChnozR"
      },
      "source": [
        "Explain how back propagation works as if you were explaining it to a five year-old. Use your own words, but feel free to reference external materials for this question. "
      ]
    },
    {
      "cell_type": "markdown",
      "metadata": {
        "deletable": false,
        "nbgrader": {
          "cell_type": "markdown",
          "checksum": "ceb3f64a4b1b18346decf75c8f5567d2",
          "grade": true,
          "grade_id": "cell-cef20b23d4e0b056",
          "locked": false,
          "points": 0,
          "schema_version": 3,
          "solution": true,
          "task": false
        },
        "id": "Tg7RSq26nozS"
      },
      "source": [
        "The process of sending input all the way through a neraul network, deciding how bad the resulting predicted answers made by the network are, and then going backwards through and making the adjustments that would make those predictions better, over and over again until we get predictions that are as best as we can possibly get, is called 'back propagation'.\r\n"
      ]
    },
    {
      "cell_type": "markdown",
      "metadata": {
        "deletable": false,
        "editable": false,
        "nbgrader": {
          "cell_type": "markdown",
          "checksum": "f57b11b197b768f69957260035113f43",
          "grade": false,
          "grade_id": "cell-e013d19857352d79",
          "locked": true,
          "points": 0,
          "schema_version": 3,
          "solution": false,
          "task": true
        },
        "id": "UV8PJ-QLnozT"
      },
      "source": [
        "Remember our Simple Perceptron Class from Monday. In a simple prediction describe the process of making a prediction. How do you go from inputs to predicted output."
      ]
    },
    {
      "cell_type": "markdown",
      "metadata": {
        "deletable": false,
        "nbgrader": {
          "cell_type": "markdown",
          "checksum": "d746de6391012340f8548821850a621c",
          "grade": true,
          "grade_id": "cell-53c7cc36db9d7983",
          "locked": false,
          "points": 0,
          "schema_version": 3,
          "solution": true,
          "task": false
        },
        "id": "9eU1_murnozU"
      },
      "source": [
        "\r\n",
        "The input is taken into the network, multiplied by the weights as determined by the activation function and sent to each connected neuron in the hiddenlayer. Those neurons sum all of the resulting values, and any bias that is required by the network architecture and pass them to the output layer determined by the activation function with that neuron's associated weights. If there are multiple nerons in the output layer, the highest score wins the prediction. if there is just one, it will result in the output either being 'on', or 'off'.\r\n",
        "\r\n",
        "\r\n"
      ]
    },
    {
      "cell_type": "markdown",
      "metadata": {
        "id": "YlRtqvbpnozU"
      },
      "source": [
        "<a id=\"Q2\"></a>\n",
        "## 2. Simple Perceptron\n",
        "\n",
        "In this question, you will build two neural networks using Tensorflow Keras. After you build these two models, compare the results of the model."
      ]
    },
    {
      "cell_type": "code",
      "metadata": {
        "id": "tUpQO84XnozV"
      },
      "source": [
        "\"\"\"\n",
        "Our Dataset\n",
        "\"\"\"\n",
        "import numpy as np\n",
        "\n",
        "\n",
        "rng = np.random.RandomState(0)\n",
        "\n",
        "\"Use this X & y in the following 2 models\"\n",
        "X = rng.randn(300, 2)\n",
        "y = np.array(np.logical_xor(X[:, 0] > 0, X[:, 1] > 0), \n",
        "             dtype=int)"
      ],
      "execution_count": 51,
      "outputs": []
    },
    {
      "cell_type": "code",
      "metadata": {
        "colab": {
          "base_uri": "https://localhost:8080/"
        },
        "id": "vBdFX1HuoTlB",
        "outputId": "08e3e8f6-d7e1-4221-f0f5-66381cd83907"
      },
      "source": [
        "X.shape, y.shape"
      ],
      "execution_count": 52,
      "outputs": [
        {
          "output_type": "execute_result",
          "data": {
            "text/plain": [
              "((300, 2), (300,))"
            ]
          },
          "metadata": {
            "tags": []
          },
          "execution_count": 52
        }
      ]
    },
    {
      "cell_type": "markdown",
      "metadata": {
        "id": "zA7_Yl0AnozW"
      },
      "source": [
        "### Simple Perceptron\n",
        "Construct a simple perceptron using Keras. \n",
        "\n",
        "You model should have `1 dense layer` with a `single neuron` and a `sigmoid activation function`. \n",
        "\n",
        "\n",
        "Your model should be called `model1` and make sure to save the results of your fit statement to a variable called `h1`. \n"
      ]
    },
    {
      "cell_type": "code",
      "metadata": {
        "deletable": false,
        "nbgrader": {
          "cell_type": "code",
          "checksum": "ed5db44c2ae01d03f766beeeca1a7f0a",
          "grade": false,
          "grade_id": "cell-427690628f9c900b",
          "locked": false,
          "schema_version": 3,
          "solution": true,
          "task": false
        },
        "colab": {
          "base_uri": "https://localhost:8080/"
        },
        "id": "mlvqu1HNnozX",
        "outputId": "875620ac-ffd8-47d1-c671-05c56c4fa6f1"
      },
      "source": [
        "#import tensorflow\n",
        "import tensorflow as tf\n",
        "from tensorflow.keras.layers import Dense\n",
        "from tensorflow.keras.models import Sequential\n",
        "from tensorflow.keras.layers import Dense\n",
        "\n",
        "# build and fit model\n",
        "\n",
        "# YOUR CODE HERE\n",
        "\n",
        "model1 = tf.keras.Sequential([Dense(1, activation='sigmoid')])\n",
        "\n",
        "model1.compile(loss='binary_crossentropy', \n",
        "              optimizer='SGD', \n",
        "              metrics=['accuracy'])\n",
        "\n",
        "h1 = model1.fit(X, y, \n",
        "          epochs=10,\n",
        "          validation_split=0.2 \n",
        "          )"
      ],
      "execution_count": 53,
      "outputs": [
        {
          "output_type": "stream",
          "text": [
            "Epoch 1/10\n",
            "1/8 [==>...........................] - ETA: 1s - loss: 0.7804 - accuracy: 0.6562WARNING:tensorflow:6 out of the last 11 calls to <function Model.make_test_function.<locals>.test_function at 0x7f66387699d8> triggered tf.function retracing. Tracing is expensive and the excessive number of tracings could be due to (1) creating @tf.function repeatedly in a loop, (2) passing tensors with different shapes, (3) passing Python objects instead of tensors. For (1), please define your @tf.function outside of the loop. For (2), @tf.function has experimental_relax_shapes=True option that relaxes argument shapes that can avoid unnecessary retracing. For (3), please refer to https://www.tensorflow.org/guide/function#controlling_retracing and https://www.tensorflow.org/api_docs/python/tf/function for  more details.\n",
            "8/8 [==============================] - 0s 21ms/step - loss: 0.8425 - accuracy: 0.5766 - val_loss: 1.0521 - val_accuracy: 0.3833\n",
            "Epoch 2/10\n",
            "8/8 [==============================] - 0s 7ms/step - loss: 0.8277 - accuracy: 0.5890 - val_loss: 1.0467 - val_accuracy: 0.3833\n",
            "Epoch 3/10\n",
            "8/8 [==============================] - 0s 7ms/step - loss: 0.8136 - accuracy: 0.6068 - val_loss: 1.0415 - val_accuracy: 0.3833\n",
            "Epoch 4/10\n",
            "8/8 [==============================] - 0s 7ms/step - loss: 0.8164 - accuracy: 0.6184 - val_loss: 1.0363 - val_accuracy: 0.3833\n",
            "Epoch 5/10\n",
            "8/8 [==============================] - 0s 6ms/step - loss: 0.8427 - accuracy: 0.5570 - val_loss: 1.0311 - val_accuracy: 0.4000\n",
            "Epoch 6/10\n",
            "8/8 [==============================] - 0s 6ms/step - loss: 0.8290 - accuracy: 0.5873 - val_loss: 1.0261 - val_accuracy: 0.4000\n",
            "Epoch 7/10\n",
            "8/8 [==============================] - 0s 6ms/step - loss: 0.8445 - accuracy: 0.5695 - val_loss: 1.0211 - val_accuracy: 0.4000\n",
            "Epoch 8/10\n",
            "8/8 [==============================] - 0s 6ms/step - loss: 0.8015 - accuracy: 0.6037 - val_loss: 1.0159 - val_accuracy: 0.4000\n",
            "Epoch 9/10\n",
            "8/8 [==============================] - 0s 6ms/step - loss: 0.8219 - accuracy: 0.5817 - val_loss: 1.0109 - val_accuracy: 0.4000\n",
            "Epoch 10/10\n",
            "8/8 [==============================] - 0s 6ms/step - loss: 0.8286 - accuracy: 0.5842 - val_loss: 1.0062 - val_accuracy: 0.4000\n"
          ],
          "name": "stdout"
        }
      ]
    },
    {
      "cell_type": "code",
      "metadata": {
        "deletable": false,
        "editable": false,
        "nbgrader": {
          "cell_type": "code",
          "checksum": "36f7f830036d0443ca8e8ba0f17b2a4e",
          "grade": true,
          "grade_id": "cell-bf2ae566afacde8c",
          "locked": true,
          "points": 1,
          "schema_version": 3,
          "solution": false,
          "task": false
        },
        "id": "qyrqjoVZnozY"
      },
      "source": [
        "# Visible test\n",
        "assert len(model1.get_config()[\"layers\"]) == 2, \"Make sure you only create 1 Dense layer.\"\n",
        "assert len(h1.epoch) <=10, \"Did you make sure to set epochs to 10 or less?\""
      ],
      "execution_count": 54,
      "outputs": []
    },
    {
      "cell_type": "code",
      "metadata": {
        "deletable": false,
        "editable": false,
        "nbgrader": {
          "cell_type": "code",
          "checksum": "95d3ee2935a0de64f2a5a22460520e69",
          "grade": true,
          "grade_id": "cell-a957e14380b2f508",
          "locked": true,
          "points": 1,
          "schema_version": 3,
          "solution": false,
          "task": false
        },
        "id": "7BT2wXa5nozY"
      },
      "source": [
        "# Hidden tests - you will see the results when you submit to Canvas"
      ],
      "execution_count": 55,
      "outputs": []
    },
    {
      "cell_type": "markdown",
      "metadata": {
        "id": "LK5sw3f6nozZ"
      },
      "source": [
        "### Multi-Layer Perceptron\n",
        "Now construct a multi-layer perceptron using. Here are some architecture suggestions: \n",
        "- `2` Hidden Layers\n",
        "- `5-32` Neurons in the Hidden Layers\n",
        "- Your pick of activation function and optimizer\n",
        "- Incorporate the `Callback function` below into your model\n",
        "- Set epochs to `100`\n",
        "\n",
        "Your model should be called `model2` and make sure to save the results of your fit statement to a variable called `h2`. "
      ]
    },
    {
      "cell_type": "code",
      "metadata": {
        "id": "ru-wvVCNnoza"
      },
      "source": [
        "import tensorflow as tf\n",
        "\n",
        "class myCallback(tf.keras.callbacks.Callback): \n",
        "    def on_epoch_end(self, epoch, logs={}): \n",
        "        if(logs.get('accuracy') > .99999):   \n",
        "            self.model.stop_training = True"
      ],
      "execution_count": 56,
      "outputs": []
    },
    {
      "cell_type": "code",
      "metadata": {
        "deletable": false,
        "nbgrader": {
          "cell_type": "code",
          "checksum": "314337f29c8cd7f38224a31687a86b12",
          "grade": false,
          "grade_id": "cell-77523c4c64743f16",
          "locked": false,
          "schema_version": 3,
          "solution": true,
          "task": false
        },
        "colab": {
          "base_uri": "https://localhost:8080/"
        },
        "id": "JeEpiyI8nozb",
        "outputId": "256fe46c-16a3-4f46-8d32-2869d04731f4"
      },
      "source": [
        "# build and fit model\n",
        "\n",
        "# YOUR CODE HERE\n",
        "model2 = tf.keras.Sequential([\n",
        "      Dense(32, activation='relu'),\n",
        "      Dense(16, activation='relu'),\n",
        "      Dense(1, activation='sigmoid')\n",
        "  ])\n",
        "\n",
        "model2.compile(loss='binary_crossentropy', \n",
        "              optimizer='adam', \n",
        "              metrics=['accuracy'])\n",
        "\n",
        "h2 = model2.fit(X, y, \n",
        "          epochs=100, \n",
        "          validation_split=0.2,\n",
        "          callbacks=[myCallback()])"
      ],
      "execution_count": 57,
      "outputs": [
        {
          "output_type": "stream",
          "text": [
            "Epoch 1/100\n",
            "8/8 [==============================] - 0s 21ms/step - loss: 0.6774 - accuracy: 0.6140 - val_loss: 0.6554 - val_accuracy: 0.7333\n",
            "Epoch 2/100\n",
            "8/8 [==============================] - 0s 7ms/step - loss: 0.6515 - accuracy: 0.8361 - val_loss: 0.6315 - val_accuracy: 0.8667\n",
            "Epoch 3/100\n",
            "8/8 [==============================] - 0s 7ms/step - loss: 0.6200 - accuracy: 0.9408 - val_loss: 0.6084 - val_accuracy: 0.9000\n",
            "Epoch 4/100\n",
            "8/8 [==============================] - 0s 6ms/step - loss: 0.5937 - accuracy: 0.9781 - val_loss: 0.5873 - val_accuracy: 0.9167\n",
            "Epoch 5/100\n",
            "8/8 [==============================] - 0s 6ms/step - loss: 0.5784 - accuracy: 0.9549 - val_loss: 0.5680 - val_accuracy: 0.9167\n",
            "Epoch 6/100\n",
            "8/8 [==============================] - 0s 7ms/step - loss: 0.5498 - accuracy: 0.9480 - val_loss: 0.5502 - val_accuracy: 0.9167\n",
            "Epoch 7/100\n",
            "8/8 [==============================] - 0s 6ms/step - loss: 0.5375 - accuracy: 0.9447 - val_loss: 0.5330 - val_accuracy: 0.9167\n",
            "Epoch 8/100\n",
            "8/8 [==============================] - 0s 6ms/step - loss: 0.5126 - accuracy: 0.9555 - val_loss: 0.5166 - val_accuracy: 0.9167\n",
            "Epoch 9/100\n",
            "8/8 [==============================] - 0s 7ms/step - loss: 0.5009 - accuracy: 0.9557 - val_loss: 0.4998 - val_accuracy: 0.9167\n",
            "Epoch 10/100\n",
            "8/8 [==============================] - 0s 6ms/step - loss: 0.4880 - accuracy: 0.9625 - val_loss: 0.4842 - val_accuracy: 0.9167\n",
            "Epoch 11/100\n",
            "8/8 [==============================] - 0s 7ms/step - loss: 0.4655 - accuracy: 0.9544 - val_loss: 0.4673 - val_accuracy: 0.9167\n",
            "Epoch 12/100\n",
            "8/8 [==============================] - 0s 6ms/step - loss: 0.4304 - accuracy: 0.9773 - val_loss: 0.4511 - val_accuracy: 0.9167\n",
            "Epoch 13/100\n",
            "8/8 [==============================] - 0s 6ms/step - loss: 0.4336 - accuracy: 0.9658 - val_loss: 0.4355 - val_accuracy: 0.9167\n",
            "Epoch 14/100\n",
            "8/8 [==============================] - 0s 6ms/step - loss: 0.4259 - accuracy: 0.9611 - val_loss: 0.4204 - val_accuracy: 0.9333\n",
            "Epoch 15/100\n",
            "8/8 [==============================] - 0s 6ms/step - loss: 0.4021 - accuracy: 0.9715 - val_loss: 0.4045 - val_accuracy: 0.9333\n",
            "Epoch 16/100\n",
            "8/8 [==============================] - 0s 6ms/step - loss: 0.3803 - accuracy: 0.9793 - val_loss: 0.3909 - val_accuracy: 0.9333\n",
            "Epoch 17/100\n",
            "8/8 [==============================] - 0s 7ms/step - loss: 0.3531 - accuracy: 0.9797 - val_loss: 0.3773 - val_accuracy: 0.9500\n",
            "Epoch 18/100\n",
            "8/8 [==============================] - 0s 6ms/step - loss: 0.3626 - accuracy: 0.9704 - val_loss: 0.3637 - val_accuracy: 0.9500\n",
            "Epoch 19/100\n",
            "8/8 [==============================] - 0s 7ms/step - loss: 0.3439 - accuracy: 0.9784 - val_loss: 0.3506 - val_accuracy: 0.9500\n",
            "Epoch 20/100\n",
            "8/8 [==============================] - 0s 7ms/step - loss: 0.3228 - accuracy: 0.9880 - val_loss: 0.3391 - val_accuracy: 0.9333\n",
            "Epoch 21/100\n",
            "8/8 [==============================] - 0s 7ms/step - loss: 0.3033 - accuracy: 0.9838 - val_loss: 0.3262 - val_accuracy: 0.9500\n",
            "Epoch 22/100\n",
            "8/8 [==============================] - 0s 8ms/step - loss: 0.2899 - accuracy: 0.9865 - val_loss: 0.3159 - val_accuracy: 0.9333\n",
            "Epoch 23/100\n",
            "8/8 [==============================] - 0s 27ms/step - loss: 0.2932 - accuracy: 0.9730 - val_loss: 0.3041 - val_accuracy: 0.9500\n",
            "Epoch 24/100\n",
            "8/8 [==============================] - 0s 7ms/step - loss: 0.2744 - accuracy: 0.9865 - val_loss: 0.2932 - val_accuracy: 0.9500\n",
            "Epoch 25/100\n",
            "8/8 [==============================] - 0s 6ms/step - loss: 0.2722 - accuracy: 0.9865 - val_loss: 0.2835 - val_accuracy: 0.9500\n",
            "Epoch 26/100\n",
            "8/8 [==============================] - 0s 6ms/step - loss: 0.2445 - accuracy: 0.9843 - val_loss: 0.2727 - val_accuracy: 0.9667\n",
            "Epoch 27/100\n",
            "8/8 [==============================] - 0s 6ms/step - loss: 0.2464 - accuracy: 0.9840 - val_loss: 0.2625 - val_accuracy: 0.9667\n",
            "Epoch 28/100\n",
            "8/8 [==============================] - 0s 6ms/step - loss: 0.2503 - accuracy: 0.9779 - val_loss: 0.2535 - val_accuracy: 0.9667\n",
            "Epoch 29/100\n",
            "8/8 [==============================] - 0s 6ms/step - loss: 0.2421 - accuracy: 0.9850 - val_loss: 0.2462 - val_accuracy: 0.9500\n",
            "Epoch 30/100\n",
            "8/8 [==============================] - 0s 6ms/step - loss: 0.2292 - accuracy: 0.9889 - val_loss: 0.2397 - val_accuracy: 0.9667\n",
            "Epoch 31/100\n",
            "8/8 [==============================] - 0s 6ms/step - loss: 0.2173 - accuracy: 0.9719 - val_loss: 0.2356 - val_accuracy: 0.9667\n",
            "Epoch 32/100\n",
            "8/8 [==============================] - 0s 6ms/step - loss: 0.1968 - accuracy: 0.9897 - val_loss: 0.2271 - val_accuracy: 0.9667\n",
            "Epoch 33/100\n",
            "8/8 [==============================] - 0s 6ms/step - loss: 0.1969 - accuracy: 0.9806 - val_loss: 0.2189 - val_accuracy: 0.9667\n",
            "Epoch 34/100\n",
            "8/8 [==============================] - 0s 6ms/step - loss: 0.1821 - accuracy: 0.9906 - val_loss: 0.2114 - val_accuracy: 0.9667\n",
            "Epoch 35/100\n",
            "8/8 [==============================] - 0s 7ms/step - loss: 0.1901 - accuracy: 0.9917 - val_loss: 0.2042 - val_accuracy: 0.9667\n",
            "Epoch 36/100\n",
            "8/8 [==============================] - 0s 6ms/step - loss: 0.1828 - accuracy: 0.9912 - val_loss: 0.1991 - val_accuracy: 0.9667\n",
            "Epoch 37/100\n",
            "8/8 [==============================] - 0s 6ms/step - loss: 0.1794 - accuracy: 0.9844 - val_loss: 0.1937 - val_accuracy: 0.9667\n",
            "Epoch 38/100\n",
            "8/8 [==============================] - 0s 6ms/step - loss: 0.1751 - accuracy: 0.9893 - val_loss: 0.1899 - val_accuracy: 0.9667\n",
            "Epoch 39/100\n",
            "8/8 [==============================] - 0s 7ms/step - loss: 0.1715 - accuracy: 0.9870 - val_loss: 0.1867 - val_accuracy: 0.9667\n",
            "Epoch 40/100\n",
            "8/8 [==============================] - 0s 7ms/step - loss: 0.1599 - accuracy: 0.9787 - val_loss: 0.1815 - val_accuracy: 0.9667\n",
            "Epoch 41/100\n",
            "8/8 [==============================] - 0s 6ms/step - loss: 0.1635 - accuracy: 0.9852 - val_loss: 0.1788 - val_accuracy: 0.9667\n",
            "Epoch 42/100\n",
            "8/8 [==============================] - 0s 6ms/step - loss: 0.1556 - accuracy: 0.9888 - val_loss: 0.1735 - val_accuracy: 0.9667\n",
            "Epoch 43/100\n",
            "8/8 [==============================] - 0s 6ms/step - loss: 0.1500 - accuracy: 0.9908 - val_loss: 0.1695 - val_accuracy: 0.9667\n",
            "Epoch 44/100\n",
            "8/8 [==============================] - 0s 6ms/step - loss: 0.1380 - accuracy: 0.9939 - val_loss: 0.1643 - val_accuracy: 0.9667\n",
            "Epoch 45/100\n",
            "8/8 [==============================] - 0s 6ms/step - loss: 0.1607 - accuracy: 0.9851 - val_loss: 0.1607 - val_accuracy: 0.9667\n",
            "Epoch 46/100\n",
            "8/8 [==============================] - 0s 6ms/step - loss: 0.1326 - accuracy: 0.9939 - val_loss: 0.1572 - val_accuracy: 0.9667\n",
            "Epoch 47/100\n",
            "8/8 [==============================] - 0s 6ms/step - loss: 0.1546 - accuracy: 0.9886 - val_loss: 0.1541 - val_accuracy: 0.9667\n",
            "Epoch 48/100\n",
            "8/8 [==============================] - 0s 7ms/step - loss: 0.1400 - accuracy: 0.9955 - val_loss: 0.1502 - val_accuracy: 0.9667\n",
            "Epoch 49/100\n",
            "8/8 [==============================] - 0s 6ms/step - loss: 0.1173 - accuracy: 0.9977 - val_loss: 0.1468 - val_accuracy: 0.9667\n",
            "Epoch 50/100\n",
            "8/8 [==============================] - 0s 6ms/step - loss: 0.1373 - accuracy: 0.9908 - val_loss: 0.1445 - val_accuracy: 0.9667\n",
            "Epoch 51/100\n",
            "8/8 [==============================] - 0s 6ms/step - loss: 0.1274 - accuracy: 0.9964 - val_loss: 0.1434 - val_accuracy: 0.9667\n",
            "Epoch 52/100\n",
            "8/8 [==============================] - 0s 7ms/step - loss: 0.1241 - accuracy: 0.9980 - val_loss: 0.1404 - val_accuracy: 0.9667\n",
            "Epoch 53/100\n",
            "8/8 [==============================] - 0s 6ms/step - loss: 0.1283 - accuracy: 0.9900 - val_loss: 0.1367 - val_accuracy: 0.9667\n",
            "Epoch 54/100\n",
            "8/8 [==============================] - 0s 6ms/step - loss: 0.1096 - accuracy: 0.9933 - val_loss: 0.1329 - val_accuracy: 0.9833\n",
            "Epoch 55/100\n",
            "8/8 [==============================] - 0s 6ms/step - loss: 0.1099 - accuracy: 0.9926 - val_loss: 0.1323 - val_accuracy: 0.9833\n",
            "Epoch 56/100\n",
            "8/8 [==============================] - 0s 7ms/step - loss: 0.1105 - accuracy: 0.9953 - val_loss: 0.1310 - val_accuracy: 0.9667\n",
            "Epoch 57/100\n",
            "8/8 [==============================] - 0s 6ms/step - loss: 0.1132 - accuracy: 0.9944 - val_loss: 0.1285 - val_accuracy: 0.9667\n",
            "Epoch 58/100\n",
            "8/8 [==============================] - 0s 8ms/step - loss: 0.1071 - accuracy: 0.9881 - val_loss: 0.1249 - val_accuracy: 0.9833\n",
            "Epoch 59/100\n",
            "8/8 [==============================] - 0s 7ms/step - loss: 0.1059 - accuracy: 0.9973 - val_loss: 0.1219 - val_accuracy: 0.9833\n",
            "Epoch 60/100\n",
            "8/8 [==============================] - 0s 6ms/step - loss: 0.1084 - accuracy: 0.9935 - val_loss: 0.1221 - val_accuracy: 0.9667\n",
            "Epoch 61/100\n",
            "8/8 [==============================] - 0s 6ms/step - loss: 0.1114 - accuracy: 0.9955 - val_loss: 0.1203 - val_accuracy: 0.9833\n",
            "Epoch 62/100\n",
            "8/8 [==============================] - 0s 6ms/step - loss: 0.1114 - accuracy: 0.9886 - val_loss: 0.1197 - val_accuracy: 0.9667\n",
            "Epoch 63/100\n",
            "8/8 [==============================] - 0s 6ms/step - loss: 0.1041 - accuracy: 1.0000 - val_loss: 0.1147 - val_accuracy: 0.9833\n"
          ],
          "name": "stdout"
        }
      ]
    },
    {
      "cell_type": "code",
      "metadata": {
        "deletable": false,
        "editable": false,
        "nbgrader": {
          "cell_type": "code",
          "checksum": "612b9128f3a57d18c3019b2a12ace3c8",
          "grade": true,
          "grade_id": "cell-770612ca24334d8a",
          "locked": true,
          "points": 1,
          "schema_version": 3,
          "solution": false,
          "task": false
        },
        "id": "gYCi8M1Unozc"
      },
      "source": [
        "# Visible test\n",
        "assert len(model2.get_config()[\"layers\"]) == 4, \"You should have 4 layers: Input, hidden 1, hidden 2, output.\"\n",
        "assert 5 <= model2.get_config()[\"layers\"][1][\"config\"][\"units\"] <= 32, \"You should have 5 - 32 units in hidden layer 1, but don't.\"\n",
        "assert 5 <= model2.get_config()[\"layers\"][2][\"config\"][\"units\"] <= 32, \"You should have 5 - 32 units in hidden layer 2, but don't.\"\n",
        "assert h2.params[\"epochs\"] == 100, \"You didn't set epochs to 100.\"\n",
        "\n",
        "# Hidden tests - you will see the results when you submit to Canvas"
      ],
      "execution_count": 58,
      "outputs": []
    },
    {
      "cell_type": "markdown",
      "metadata": {
        "id": "oVdAG5Qpnoze"
      },
      "source": [
        "### Analyze and Compare\n",
        "\n",
        "**Before you Start**: You will need to install an additional library for this next segment. Install the package `mlxtend` into the environment you are using for the sprint challenge.\n",
        "\n",
        "\n",
        "The cells below generate decision boundary plots of your models (`model1` & `model2`). Review the plots."
      ]
    },
    {
      "cell_type": "code",
      "metadata": {
        "colab": {
          "base_uri": "https://localhost:8080/"
        },
        "id": "vjcXz9RAqAXW",
        "outputId": "e6036944-3ddc-4f80-d454-df62fb09c847"
      },
      "source": [
        "!pip install mlxtend "
      ],
      "execution_count": 59,
      "outputs": [
        {
          "output_type": "stream",
          "text": [
            "Requirement already satisfied: mlxtend in /usr/local/lib/python3.6/dist-packages (0.14.0)\n",
            "Requirement already satisfied: setuptools in /usr/local/lib/python3.6/dist-packages (from mlxtend) (53.0.0)\n",
            "Requirement already satisfied: scipy>=0.17 in /usr/local/lib/python3.6/dist-packages (from mlxtend) (1.4.1)\n",
            "Requirement already satisfied: matplotlib>=1.5.1 in /usr/local/lib/python3.6/dist-packages (from mlxtend) (3.2.2)\n",
            "Requirement already satisfied: pandas>=0.17.1 in /usr/local/lib/python3.6/dist-packages (from mlxtend) (1.1.5)\n",
            "Requirement already satisfied: numpy>=1.10.4 in /usr/local/lib/python3.6/dist-packages (from mlxtend) (1.19.5)\n",
            "Requirement already satisfied: scikit-learn>=0.18 in /usr/local/lib/python3.6/dist-packages (from mlxtend) (0.22.2.post1)\n",
            "Requirement already satisfied: python-dateutil>=2.1 in /usr/local/lib/python3.6/dist-packages (from matplotlib>=1.5.1->mlxtend) (2.8.1)\n",
            "Requirement already satisfied: kiwisolver>=1.0.1 in /usr/local/lib/python3.6/dist-packages (from matplotlib>=1.5.1->mlxtend) (1.3.1)\n",
            "Requirement already satisfied: cycler>=0.10 in /usr/local/lib/python3.6/dist-packages (from matplotlib>=1.5.1->mlxtend) (0.10.0)\n",
            "Requirement already satisfied: pyparsing!=2.0.4,!=2.1.2,!=2.1.6,>=2.0.1 in /usr/local/lib/python3.6/dist-packages (from matplotlib>=1.5.1->mlxtend) (2.4.7)\n",
            "Requirement already satisfied: pytz>=2017.2 in /usr/local/lib/python3.6/dist-packages (from pandas>=0.17.1->mlxtend) (2018.9)\n",
            "Requirement already satisfied: joblib>=0.11 in /usr/local/lib/python3.6/dist-packages (from scikit-learn>=0.18->mlxtend) (1.0.0)\n",
            "Requirement already satisfied: six>=1.5 in /usr/local/lib/python3.6/dist-packages (from python-dateutil>=2.1->matplotlib>=1.5.1->mlxtend) (1.15.0)\n"
          ],
          "name": "stdout"
        }
      ]
    },
    {
      "cell_type": "code",
      "metadata": {
        "colab": {
          "base_uri": "https://localhost:8080/",
          "height": 445
        },
        "id": "FjDkbelcnozf",
        "outputId": "d4348063-0ab3-42dc-f642-399d75e11c20"
      },
      "source": [
        "import matplotlib.pyplot as plt\n",
        "from mlxtend.plotting import plot_decision_regions\n",
        "\n",
        "\n",
        "fig = plt.figure(figsize=(12,6))\n",
        "\n",
        "for clf, hist, name, grd in zip([model1,model2], [h1, h2],['Perceptron', 'Multi-Layer Perceptron'],[1,2]):\n",
        "\n",
        "    ax = plt.subplot(1,2, grd)\n",
        "    fig = plot_decision_regions(X=X, y=y, clf=clf, legend=2)\n",
        "    title = f\"{name} with {hist.history['accuracy'][-1]:,.2f} Accuracy\"\n",
        "    plt.title(title)\n",
        "\n",
        "plt.show()"
      ],
      "execution_count": 60,
      "outputs": [
        {
          "output_type": "stream",
          "text": [
            "/usr/local/lib/python3.6/dist-packages/mlxtend/plotting/decision_regions.py:244: MatplotlibDeprecationWarning: Passing unsupported keyword arguments to axis() will raise a TypeError in 3.3.\n",
            "  ax.axis(xmin=xx.min(), xmax=xx.max(), y_min=yy.min(), y_max=yy.max())\n"
          ],
          "name": "stderr"
        },
        {
          "output_type": "display_data",
          "data": {
            "image/png": "[encoded data removed]",
            "text/plain": [
              "<Figure size 864x432 with 2 Axes>"
            ]
          },
          "metadata": {
            "tags": [],
            "needs_background": "light"
          }
        }
      ]
    },
    {
      "cell_type": "markdown",
      "metadata": {
        "deletable": false,
        "editable": false,
        "nbgrader": {
          "cell_type": "markdown",
          "checksum": "dfefeea12a0993da5cf2b70ee858f890",
          "grade": false,
          "grade_id": "cell-b1bde9222e35b3fc",
          "locked": true,
          "points": 0,
          "schema_version": 3,
          "solution": false,
          "task": true
        },
        "id": "LOtiZ286nozg"
      },
      "source": [
        "Why does the Perceptron (`model1`) only achieve ~70% accuracy? What is the architectural property of the Multi-Layer Perceptron that allows it more accurately learn the relationship between X and y? \n",
        "\n",
        "Why might this property be useful in more complex data such as images?"
      ]
    },
    {
      "cell_type": "markdown",
      "metadata": {
        "deletable": false,
        "nbgrader": {
          "cell_type": "markdown",
          "checksum": "e01b50ff508342b905c5a4cdbd7d2dc4",
          "grade": true,
          "grade_id": "cell-302694c508c8da0e",
          "locked": false,
          "points": 0,
          "schema_version": 3,
          "solution": true,
          "task": false
        },
        "id": "NY4y-EIinozh"
      },
      "source": [
        "\r\n",
        "In model1 the data can only be split into on one category or the other by one calculation. There is no single linear separation of the data that can possibly contain only the correct labels. the model does its best to get the least amount of loss (the fewest errors) but a single sigmoid function cannot classify the data at a higher rate given this dataset.\r\n",
        "\r\n",
        "With multiple layers, the second model does a perfect job of determining wich class the data should fall into.\r\n",
        "\r\n",
        "If (x < 0 AND y < 0) OR (x > 0 AND y > 0), the point usually fits into category 0.\r\n",
        "\r\n",
        "If (x < 0 AND y > 0) OR (x > 0 AND y < 0), the point usually fits into category 1.\r\n",
        "\r\n",
        "Non-linear separation would be useful in image recognition with even more layers because the color, saturation, position, and relational postion of each pixel could all determine wether a colection of pixels represents a certain type of image or not.\r\n"
      ]
    },
    {
      "cell_type": "markdown",
      "metadata": {
        "id": "yRMr9HM4nozh"
      },
      "source": [
        "## 3. Keras MMP <a id=\"Q3\"></a>\n",
        "\n",
        "- Implement a Multilayer Perceptron architecture of your choosing using the Keras library. \n",
        "- Train your model and report its baseline accuracy. \n",
        "- Then `hyperparameter tune two parameters each with no more than 3 values each`\n",
        "    - Due to limited computational resources on CodeGrade `DO NOT INCLUDE ADDITIONAL PARAMETERS OR VALUES PLEASE`\n",
        "- Report your optimized model's accuracy\n",
        "- Use the Heart Disease Dataset (binary classification)\n",
        "- Use an appropriate loss function for a binary classification task\n",
        "- Use an appropriate activation function on the final layer of your network.\n",
        "- Train your model using verbose output for ease of grading.\n",
        "- Use GridSearchCV to hyperparameter tune your model. \n",
        "    - **Use `n_jobs` = 1**\n",
        "- When hyperparameter tuning, show you work by adding code cells for each new experiment.\n",
        "- Report the accuracy for each combination of hyperparameters as you test them so that we can easily see which resulted in the highest accuracy."
      ]
    },
    {
      "cell_type": "code",
      "metadata": {
        "inputHidden": false,
        "jupyter": {
          "outputs_hidden": false
        },
        "outputHidden": false,
        "colab": {
          "base_uri": "https://localhost:8080/",
          "height": 221
        },
        "id": "mv39hT80nozi",
        "outputId": "4f237aed-0c4e-456c-8b0c-942f547cee07"
      },
      "source": [
        "import pandas as pd\n",
        "from sklearn.preprocessing import StandardScaler\n",
        "\n",
        "# load data\n",
        "data_path = 'https://raw.githubusercontent.com/ryanleeallred/datasets/master/heart.csv'\n",
        "df = pd.read_csv(data_path)\n",
        "df = df.sample(frac=1)\n",
        "print(df.shape)\n",
        "df.head()"
      ],
      "execution_count": 61,
      "outputs": [
        {
          "output_type": "stream",
          "text": [
            "(303, 14)\n"
          ],
          "name": "stdout"
        },
        {
          "output_type": "execute_result",
          "data": {
            "text/html": [
              "<div>\n",
              "<style scoped>\n",
              "    .dataframe tbody tr th:only-of-type {\n",
              "        vertical-align: middle;\n",
              "    }\n",
              "\n",
              "    .dataframe tbody tr th {\n",
              "        vertical-align: top;\n",
              "    }\n",
              "\n",
              "    .dataframe thead th {\n",
              "        text-align: right;\n",
              "    }\n",
              "</style>\n",
              "<table border=\"1\" class=\"dataframe\">\n",
              "  <thead>\n",
              "    <tr style=\"text-align: right;\">\n",
              "      <th></th>\n",
              "      <th>age</th>\n",
              "      <th>sex</th>\n",
              "      <th>cp</th>\n",
              "      <th>trestbps</th>\n",
              "      <th>chol</th>\n",
              "      <th>fbs</th>\n",
              "      <th>restecg</th>\n",
              "      <th>thalach</th>\n",
              "      <th>exang</th>\n",
              "      <th>oldpeak</th>\n",
              "      <th>slope</th>\n",
              "      <th>ca</th>\n",
              "      <th>thal</th>\n",
              "      <th>target</th>\n",
              "    </tr>\n",
              "  </thead>\n",
              "  <tbody>\n",
              "    <tr>\n",
              "      <th>247</th>\n",
              "      <td>66</td>\n",
              "      <td>1</td>\n",
              "      <td>1</td>\n",
              "      <td>160</td>\n",
              "      <td>246</td>\n",
              "      <td>0</td>\n",
              "      <td>1</td>\n",
              "      <td>120</td>\n",
              "      <td>1</td>\n",
              "      <td>0.0</td>\n",
              "      <td>1</td>\n",
              "      <td>3</td>\n",
              "      <td>1</td>\n",
              "      <td>0</td>\n",
              "    </tr>\n",
              "    <tr>\n",
              "      <th>58</th>\n",
              "      <td>34</td>\n",
              "      <td>1</td>\n",
              "      <td>3</td>\n",
              "      <td>118</td>\n",
              "      <td>182</td>\n",
              "      <td>0</td>\n",
              "      <td>0</td>\n",
              "      <td>174</td>\n",
              "      <td>0</td>\n",
              "      <td>0.0</td>\n",
              "      <td>2</td>\n",
              "      <td>0</td>\n",
              "      <td>2</td>\n",
              "      <td>1</td>\n",
              "    </tr>\n",
              "    <tr>\n",
              "      <th>48</th>\n",
              "      <td>53</td>\n",
              "      <td>0</td>\n",
              "      <td>2</td>\n",
              "      <td>128</td>\n",
              "      <td>216</td>\n",
              "      <td>0</td>\n",
              "      <td>0</td>\n",
              "      <td>115</td>\n",
              "      <td>0</td>\n",
              "      <td>0.0</td>\n",
              "      <td>2</td>\n",
              "      <td>0</td>\n",
              "      <td>0</td>\n",
              "      <td>1</td>\n",
              "    </tr>\n",
              "    <tr>\n",
              "      <th>267</th>\n",
              "      <td>49</td>\n",
              "      <td>1</td>\n",
              "      <td>2</td>\n",
              "      <td>118</td>\n",
              "      <td>149</td>\n",
              "      <td>0</td>\n",
              "      <td>0</td>\n",
              "      <td>126</td>\n",
              "      <td>0</td>\n",
              "      <td>0.8</td>\n",
              "      <td>2</td>\n",
              "      <td>3</td>\n",
              "      <td>2</td>\n",
              "      <td>0</td>\n",
              "    </tr>\n",
              "    <tr>\n",
              "      <th>296</th>\n",
              "      <td>63</td>\n",
              "      <td>0</td>\n",
              "      <td>0</td>\n",
              "      <td>124</td>\n",
              "      <td>197</td>\n",
              "      <td>0</td>\n",
              "      <td>1</td>\n",
              "      <td>136</td>\n",
              "      <td>1</td>\n",
              "      <td>0.0</td>\n",
              "      <td>1</td>\n",
              "      <td>0</td>\n",
              "      <td>2</td>\n",
              "      <td>0</td>\n",
              "    </tr>\n",
              "  </tbody>\n",
              "</table>\n",
              "</div>"
            ],
            "text/plain": [
              "     age  sex  cp  trestbps  chol  fbs  ...  exang  oldpeak  slope  ca  thal  target\n",
              "247   66    1   1       160   246    0  ...      1      0.0      1   3     1       0\n",
              "58    34    1   3       118   182    0  ...      0      0.0      2   0     2       1\n",
              "48    53    0   2       128   216    0  ...      0      0.0      2   0     0       1\n",
              "267   49    1   2       118   149    0  ...      0      0.8      2   3     2       0\n",
              "296   63    0   0       124   197    0  ...      1      0.0      1   0     2       0\n",
              "\n",
              "[5 rows x 14 columns]"
            ]
          },
          "metadata": {
            "tags": []
          },
          "execution_count": 61
        }
      ]
    },
    {
      "cell_type": "code",
      "metadata": {
        "deletable": false,
        "nbgrader": {
          "cell_type": "code",
          "checksum": "22de1dc5d17d7a0bc674d082c33e8b65",
          "grade": false,
          "grade_id": "cell-85dc40f19f5a1d6b",
          "locked": false,
          "schema_version": 3,
          "solution": true,
          "task": false
        },
        "id": "Gzfex4ARnozl"
      },
      "source": [
        "# Create an input matrix named 'X' store it in a 2D numpy array\n",
        "\n",
        "# Create an output vector for the labels named 'Y', store it in 1D numpy array\n",
        "\n",
        "# YOUR CODE HERE\n",
        "from sklearn.model_selection import train_test_split\n",
        "#Splitting the data\n",
        "X = df[df.columns.drop('target')]\n",
        "Y = df['target']\n",
        "X_train, X_test, Y_train, Y_test = train_test_split(\n",
        "    X, Y, test_size=0.20,\n",
        "    stratify= Y,\n",
        "    random_state=17)"
      ],
      "execution_count": 62,
      "outputs": []
    },
    {
      "cell_type": "code",
      "metadata": {
        "colab": {
          "base_uri": "https://localhost:8080/"
        },
        "id": "2YOSj-Icr2FQ",
        "outputId": "c88f889a-f584-44bc-a01e-7165a905cea8"
      },
      "source": [
        "\r\n",
        "X_train.shape, Y_train.shape, X_test.shape, Y_test.shape"
      ],
      "execution_count": 63,
      "outputs": [
        {
          "output_type": "execute_result",
          "data": {
            "text/plain": [
              "((242, 13), (242,), (61, 13), (61,))"
            ]
          },
          "metadata": {
            "tags": []
          },
          "execution_count": 63
        }
      ]
    },
    {
      "cell_type": "code",
      "metadata": {
        "deletable": false,
        "editable": false,
        "nbgrader": {
          "cell_type": "code",
          "checksum": "825d4f808810a2a8d6301d7453afe478",
          "grade": true,
          "grade_id": "cell-c17c686c974edc2e",
          "locked": true,
          "points": 1,
          "schema_version": 3,
          "solution": false,
          "task": false
        },
        "id": "e5dseOU4nozm"
      },
      "source": [
        "# Visible Testing\n",
        "assert X.shape[0] == 303, \"Did you drop/lose some rows in X? Did you properly load and split the data?\"\n",
        "assert X.shape[1] == 13, \"Did you drop/lose some columns in X? Did you properly load and split the data?\"\n",
        "assert len(Y)== 303, \"Did you drop/lose some rows in Y? Did you properly load and split the data?\""
      ],
      "execution_count": 64,
      "outputs": []
    },
    {
      "cell_type": "code",
      "metadata": {
        "id": "8aQA8Hzdnozn"
      },
      "source": [
        "# Imports to add GridSearch and the classifier\n",
        "\n",
        "from sklearn.model_selection import GridSearchCV\n",
        "from tensorflow.keras.wrappers.scikit_learn import KerasClassifier\n",
        "import os\n",
        "\n",
        "from sklearn.preprocessing import StandardScaler\n",
        "from tensorflow.keras.callbacks import ModelCheckpoint, EarlyStopping, TensorBoard"
      ],
      "execution_count": 65,
      "outputs": []
    },
    {
      "cell_type": "code",
      "metadata": {
        "deletable": false,
        "nbgrader": {
          "cell_type": "code",
          "checksum": "475835631ff6a34028443dbf604bd922",
          "grade": false,
          "grade_id": "cell-cfc5517cd0b6fa64",
          "locked": false,
          "schema_version": 3,
          "solution": true,
          "task": false
        },
        "id": "_KMFtHcDnozo"
      },
      "source": [
        "# Create a function named 'create_model' that returns a complied keras model -  required for KerasClassifier\n",
        "# YOUR CODE HERE\n",
        "scaler = StandardScaler()\n",
        "X_train_fit = scaler.fit_transform(X_train)\n",
        "X_test_fit = scaler.fit_transform(X_test)\n",
        "\n",
        "#create the model\n",
        "tf.random.set_seed(17)\n",
        "logdir = os.path.join(\"logs\", \"EarlyStopping-Loss\")\n",
        "\n",
        "stop = EarlyStopping(monitor='val_loss', min_delta=0.001, patience=5)\n",
        "\n",
        "\n",
        "model = tf.keras.Sequential([\n",
        "    Dense(128, activation='relu', input_dim= 13),\n",
        "    Dense(64, activation='relu'),\n",
        "    Dense(32, activation='relu'),\n",
        "    Dense(1, activation='sigmoid')\n",
        "])\n",
        "model.compile(loss='binary_crossentropy', optimizer='adam', metrics=['accuracy'])"
      ],
      "execution_count": 66,
      "outputs": []
    },
    {
      "cell_type": "code",
      "metadata": {
        "colab": {
          "base_uri": "https://localhost:8080/"
        },
        "id": "x5mavMobthvC",
        "outputId": "39b44a2a-cb2e-413b-8ef7-6ad8c21a6bc5"
      },
      "source": [
        "model.summary()"
      ],
      "execution_count": 67,
      "outputs": [
        {
          "output_type": "stream",
          "text": [
            "Model: \"sequential_21\"\n",
            "_________________________________________________________________\n",
            "Layer (type)                 Output Shape              Param #   \n",
            "=================================================================\n",
            "dense_72 (Dense)             (None, 128)               1792      \n",
            "_________________________________________________________________\n",
            "dense_73 (Dense)             (None, 64)                8256      \n",
            "_________________________________________________________________\n",
            "dense_74 (Dense)             (None, 32)                2080      \n",
            "_________________________________________________________________\n",
            "dense_75 (Dense)             (None, 1)                 33        \n",
            "=================================================================\n",
            "Total params: 12,161\n",
            "Trainable params: 12,161\n",
            "Non-trainable params: 0\n",
            "_________________________________________________________________\n"
          ],
          "name": "stdout"
        }
      ]
    },
    {
      "cell_type": "code",
      "metadata": {
        "colab": {
          "base_uri": "https://localhost:8080/"
        },
        "id": "n5mOMZMLtnb1",
        "outputId": "ac63338f-23b0-4447-9a01-60675a87c4e8"
      },
      "source": [
        "\r\n",
        "#baseline fit\r\n",
        "model.fit(X_train_fit, Y_train, epochs=72, \r\n",
        "          validation_data=(X_test_fit,Y_test),\r\n",
        "          callbacks=[myCallback(), stop])"
      ],
      "execution_count": 68,
      "outputs": [
        {
          "output_type": "stream",
          "text": [
            "Epoch 1/72\n",
            "8/8 [==============================] - 1s 23ms/step - loss: 0.6709 - accuracy: 0.5914 - val_loss: 0.5845 - val_accuracy: 0.8033\n",
            "Epoch 2/72\n",
            "8/8 [==============================] - 0s 7ms/step - loss: 0.5523 - accuracy: 0.7979 - val_loss: 0.4995 - val_accuracy: 0.8361\n",
            "Epoch 3/72\n",
            "8/8 [==============================] - 0s 6ms/step - loss: 0.4565 - accuracy: 0.8476 - val_loss: 0.4256 - val_accuracy: 0.7869\n",
            "Epoch 4/72\n",
            "8/8 [==============================] - 0s 6ms/step - loss: 0.3814 - accuracy: 0.8439 - val_loss: 0.3807 - val_accuracy: 0.8525\n",
            "Epoch 5/72\n",
            "8/8 [==============================] - 0s 6ms/step - loss: 0.3414 - accuracy: 0.8558 - val_loss: 0.3492 - val_accuracy: 0.8689\n",
            "Epoch 6/72\n",
            "8/8 [==============================] - 0s 7ms/step - loss: 0.3651 - accuracy: 0.8459 - val_loss: 0.3440 - val_accuracy: 0.8689\n",
            "Epoch 7/72\n",
            "8/8 [==============================] - 0s 6ms/step - loss: 0.3080 - accuracy: 0.8724 - val_loss: 0.3396 - val_accuracy: 0.8689\n",
            "Epoch 8/72\n",
            "8/8 [==============================] - 0s 6ms/step - loss: 0.2519 - accuracy: 0.8944 - val_loss: 0.3389 - val_accuracy: 0.8689\n",
            "Epoch 9/72\n",
            "8/8 [==============================] - 0s 6ms/step - loss: 0.2954 - accuracy: 0.8763 - val_loss: 0.3377 - val_accuracy: 0.8852\n",
            "Epoch 10/72\n",
            "8/8 [==============================] - 0s 7ms/step - loss: 0.2682 - accuracy: 0.8836 - val_loss: 0.3412 - val_accuracy: 0.8525\n",
            "Epoch 11/72\n",
            "8/8 [==============================] - 0s 6ms/step - loss: 0.2414 - accuracy: 0.8963 - val_loss: 0.3384 - val_accuracy: 0.8525\n",
            "Epoch 12/72\n",
            "8/8 [==============================] - 0s 6ms/step - loss: 0.1991 - accuracy: 0.9173 - val_loss: 0.3474 - val_accuracy: 0.8525\n",
            "Epoch 13/72\n",
            "8/8 [==============================] - 0s 6ms/step - loss: 0.2262 - accuracy: 0.9129 - val_loss: 0.3493 - val_accuracy: 0.8525\n",
            "Epoch 14/72\n",
            "8/8 [==============================] - 0s 8ms/step - loss: 0.2351 - accuracy: 0.9082 - val_loss: 0.3523 - val_accuracy: 0.8361\n"
          ],
          "name": "stdout"
        },
        {
          "output_type": "execute_result",
          "data": {
            "text/plain": [
              "<tensorflow.python.keras.callbacks.History at 0x7f65dc068320>"
            ]
          },
          "metadata": {
            "tags": []
          },
          "execution_count": 68
        }
      ]
    },
    {
      "cell_type": "code",
      "metadata": {
        "colab": {
          "base_uri": "https://localhost:8080/"
        },
        "id": "8yFTSRXAtwPs",
        "outputId": "4efe2811-93c3-4c79-9815-360af7183419"
      },
      "source": [
        "model.evaluate(X_train_fit, Y_train)"
      ],
      "execution_count": 69,
      "outputs": [
        {
          "output_type": "stream",
          "text": [
            "8/8 [==============================] - 0s 2ms/step - loss: 0.1980 - accuracy: 0.9256\n"
          ],
          "name": "stdout"
        },
        {
          "output_type": "execute_result",
          "data": {
            "text/plain": [
              "[0.19803255796432495, 0.9256198406219482]"
            ]
          },
          "metadata": {
            "tags": []
          },
          "execution_count": 69
        }
      ]
    },
    {
      "cell_type": "code",
      "metadata": {
        "id": "OZOvkE8Rt4UI"
      },
      "source": [
        "\r\n",
        "# Function to create model, required for KerasClassifier\r\n",
        "def create_model(units=16):\r\n",
        "    # create model\r\n",
        "    model = tf.keras.Sequential()\r\n",
        "    model.add(Dense(units, input_dim=13, activation='relu'))\r\n",
        "    model.add(Dense(units, activation='relu'))\r\n",
        "    model.add(Dense(units, activation='relu'))\r\n",
        "    model.add(Dense(1, activation='sigmoid'))\r\n",
        "    # compile model\r\n",
        "    model.compile(loss='binary_crossentropy', optimizer='adam', metrics=['accuracy'])\r\n",
        "    return model"
      ],
      "execution_count": 70,
      "outputs": []
    },
    {
      "cell_type": "code",
      "metadata": {
        "colab": {
          "base_uri": "https://localhost:8080/"
        },
        "id": "og85gDxNnozp",
        "outputId": "4d2d61b9-9299-4c31-cc3f-9ad6aa139e5e"
      },
      "source": [
        "type(create_model())"
      ],
      "execution_count": 71,
      "outputs": [
        {
          "output_type": "execute_result",
          "data": {
            "text/plain": [
              "tensorflow.python.keras.engine.sequential.Sequential"
            ]
          },
          "metadata": {
            "tags": []
          },
          "execution_count": 71
        }
      ]
    },
    {
      "cell_type": "code",
      "metadata": {
        "deletable": false,
        "editable": false,
        "nbgrader": {
          "cell_type": "code",
          "checksum": "7b906697afb0a3b52cd19e9548eae6a7",
          "grade": true,
          "grade_id": "cell-fac25126eaf1eee4",
          "locked": true,
          "points": 1,
          "schema_version": 3,
          "solution": false,
          "task": false
        },
        "id": "ETRaQyoOnozp"
      },
      "source": [
        "# Visible Testing\n",
        "assert create_model().__module__ == 'tensorflow.python.keras.engine.sequential', \"create_model should return a keras model that was created using the Sequential class.\""
      ],
      "execution_count": 72,
      "outputs": []
    },
    {
      "cell_type": "code",
      "metadata": {
        "deletable": false,
        "nbgrader": {
          "cell_type": "code",
          "checksum": "0412c74b7803790452d4914d99995dd2",
          "grade": false,
          "grade_id": "cell-fbc3d0a07230078c",
          "locked": false,
          "schema_version": 3,
          "solution": true,
          "task": false
        },
        "id": "jHIhV1iinozq"
      },
      "source": [
        "# Pass 'create_model' into KerasClassifier, store KerasClassifier to a variable named 'model'\n",
        "# YOUR CODE HERE\n",
        "model = KerasClassifier(build_fn=create_model, verbose=1)"
      ],
      "execution_count": 73,
      "outputs": []
    },
    {
      "cell_type": "code",
      "metadata": {
        "deletable": false,
        "editable": false,
        "nbgrader": {
          "cell_type": "code",
          "checksum": "0442c29a94065e922c5ae929976a52ab",
          "grade": true,
          "grade_id": "cell-464e7506993775f2",
          "locked": true,
          "points": 1,
          "schema_version": 3,
          "solution": false,
          "task": false
        },
        "id": "bOYAgTrbnozr"
      },
      "source": [
        "# Visible Testing\n",
        "assert model.__module__ == 'tensorflow.python.keras.wrappers.scikit_learn', \"model should be a instance of KerasClassifier.\""
      ],
      "execution_count": 74,
      "outputs": []
    },
    {
      "cell_type": "code",
      "metadata": {
        "deletable": false,
        "nbgrader": {
          "cell_type": "code",
          "checksum": "f522d3a9a4bb90f7231d1be98d067c62",
          "grade": false,
          "grade_id": "cell-985c0425f3b1304d",
          "locked": false,
          "schema_version": 3,
          "solution": true,
          "task": false
        },
        "id": "HBqhUTiRnozs"
      },
      "source": [
        "# Define the grid search parameters inside a dictionary named 'param_grid' \n",
        "# Use 2 hyper-parameters with no more than 3 possible values for each \n",
        "\n",
        "# YOUR CODE HERE\n",
        "param_grid = {'batch_size': [32],\n",
        "              'epochs': [20]\n",
        "              }"
      ],
      "execution_count": 75,
      "outputs": []
    },
    {
      "cell_type": "code",
      "metadata": {
        "deletable": false,
        "editable": false,
        "nbgrader": {
          "cell_type": "code",
          "checksum": "a551fd8278b30c1318c036f6ad43b503",
          "grade": true,
          "grade_id": "cell-c765b5db5489d7a2",
          "locked": true,
          "points": 1,
          "schema_version": 3,
          "solution": false,
          "task": false
        },
        "id": "jpt48Ddnnozt"
      },
      "source": [
        "assert len(param_grid.keys()) == 2, \"Did you create a param dict with 2 hyper-parameters as keys?\""
      ],
      "execution_count": 76,
      "outputs": []
    },
    {
      "cell_type": "code",
      "metadata": {
        "deletable": false,
        "nbgrader": {
          "cell_type": "code",
          "checksum": "2ea6312f4bc1f42809196b696037dd52",
          "grade": false,
          "grade_id": "cell-7cfb4315eab5031c",
          "locked": false,
          "schema_version": 3,
          "solution": true,
          "task": false
        },
        "colab": {
          "base_uri": "https://localhost:8080/"
        },
        "id": "qw76t1_Pnozt",
        "outputId": "a027deec-74ef-4da2-e898-0a53ec2fb8bf"
      },
      "source": [
        "# Create Grid Search object and name it 'gs'\n",
        "# Run Grid Search \n",
        "# YOUR CODE HERE\n",
        "\n",
        "gs = GridSearchCV(estimator=model, param_grid=param_grid, n_jobs=1)\n",
        "grid_result = gs.fit(X_train_fit, Y_train)"
      ],
      "execution_count": 77,
      "outputs": [
        {
          "output_type": "stream",
          "text": [
            "Epoch 1/20\n",
            "7/7 [==============================] - 0s 3ms/step - loss: 0.6916 - accuracy: 0.5391\n",
            "Epoch 2/20\n",
            "7/7 [==============================] - 0s 3ms/step - loss: 0.6671 - accuracy: 0.6042\n",
            "Epoch 3/20\n",
            "7/7 [==============================] - 0s 3ms/step - loss: 0.6490 - accuracy: 0.6719\n",
            "Epoch 4/20\n",
            "7/7 [==============================] - 0s 3ms/step - loss: 0.6287 - accuracy: 0.7129\n",
            "Epoch 5/20\n",
            "7/7 [==============================] - 0s 3ms/step - loss: 0.6123 - accuracy: 0.7083\n",
            "Epoch 6/20\n",
            "7/7 [==============================] - 0s 3ms/step - loss: 0.6125 - accuracy: 0.7126\n",
            "Epoch 7/20\n",
            "7/7 [==============================] - 0s 3ms/step - loss: 0.5825 - accuracy: 0.7440\n",
            "Epoch 8/20\n",
            "7/7 [==============================] - 0s 3ms/step - loss: 0.5639 - accuracy: 0.7527\n",
            "Epoch 9/20\n",
            "7/7 [==============================] - 0s 3ms/step - loss: 0.5529 - accuracy: 0.7602\n",
            "Epoch 10/20\n",
            "7/7 [==============================] - 0s 3ms/step - loss: 0.5323 - accuracy: 0.7864\n",
            "Epoch 11/20\n",
            "7/7 [==============================] - 0s 3ms/step - loss: 0.5292 - accuracy: 0.7810\n",
            "Epoch 12/20\n",
            "7/7 [==============================] - 0s 3ms/step - loss: 0.4969 - accuracy: 0.7850\n",
            "Epoch 13/20\n",
            "7/7 [==============================] - 0s 3ms/step - loss: 0.4768 - accuracy: 0.8148\n",
            "Epoch 14/20\n",
            "7/7 [==============================] - 0s 3ms/step - loss: 0.4551 - accuracy: 0.8224\n",
            "Epoch 15/20\n",
            "7/7 [==============================] - 0s 4ms/step - loss: 0.4481 - accuracy: 0.8209\n",
            "Epoch 16/20\n",
            "7/7 [==============================] - 0s 3ms/step - loss: 0.4516 - accuracy: 0.7976\n",
            "Epoch 17/20\n",
            "7/7 [==============================] - 0s 3ms/step - loss: 0.4505 - accuracy: 0.8092\n",
            "Epoch 18/20\n",
            "7/7 [==============================] - 0s 5ms/step - loss: 0.4322 - accuracy: 0.8059\n",
            "Epoch 19/20\n",
            "7/7 [==============================] - 0s 3ms/step - loss: 0.4105 - accuracy: 0.8270\n",
            "Epoch 20/20\n",
            "7/7 [==============================] - 0s 3ms/step - loss: 0.4545 - accuracy: 0.7925\n",
            "2/2 [==============================] - 0s 6ms/step - loss: 0.5258 - accuracy: 0.7143\n",
            "Epoch 1/20\n",
            "7/7 [==============================] - 0s 3ms/step - loss: 0.6821 - accuracy: 0.6446\n",
            "Epoch 2/20\n",
            "7/7 [==============================] - 0s 3ms/step - loss: 0.6517 - accuracy: 0.7176\n",
            "Epoch 3/20\n",
            "7/7 [==============================] - 0s 4ms/step - loss: 0.6338 - accuracy: 0.7383\n",
            "Epoch 4/20\n",
            "7/7 [==============================] - 0s 3ms/step - loss: 0.6174 - accuracy: 0.7298\n",
            "Epoch 5/20\n",
            "7/7 [==============================] - 0s 3ms/step - loss: 0.5969 - accuracy: 0.7576\n",
            "Epoch 6/20\n",
            "7/7 [==============================] - 0s 3ms/step - loss: 0.6014 - accuracy: 0.7520\n",
            "Epoch 7/20\n",
            "7/7 [==============================] - 0s 3ms/step - loss: 0.5804 - accuracy: 0.7687\n",
            "Epoch 8/20\n",
            "7/7 [==============================] - 0s 3ms/step - loss: 0.5595 - accuracy: 0.7815\n",
            "Epoch 9/20\n",
            "7/7 [==============================] - 0s 3ms/step - loss: 0.5474 - accuracy: 0.7609\n",
            "Epoch 10/20\n",
            "7/7 [==============================] - 0s 3ms/step - loss: 0.5192 - accuracy: 0.7714\n",
            "Epoch 11/20\n",
            "7/7 [==============================] - 0s 3ms/step - loss: 0.5315 - accuracy: 0.7771\n",
            "Epoch 12/20\n",
            "7/7 [==============================] - 0s 3ms/step - loss: 0.4941 - accuracy: 0.8081\n",
            "Epoch 13/20\n",
            "7/7 [==============================] - 0s 3ms/step - loss: 0.4702 - accuracy: 0.8210\n",
            "Epoch 14/20\n",
            "7/7 [==============================] - 0s 3ms/step - loss: 0.4561 - accuracy: 0.8083\n",
            "Epoch 15/20\n",
            "7/7 [==============================] - 0s 3ms/step - loss: 0.4448 - accuracy: 0.8007\n",
            "Epoch 16/20\n",
            "7/7 [==============================] - 0s 3ms/step - loss: 0.4247 - accuracy: 0.8257\n",
            "Epoch 17/20\n",
            "7/7 [==============================] - 0s 3ms/step - loss: 0.4475 - accuracy: 0.7897\n",
            "Epoch 18/20\n",
            "7/7 [==============================] - 0s 3ms/step - loss: 0.4277 - accuracy: 0.8023\n",
            "Epoch 19/20\n",
            "7/7 [==============================] - 0s 3ms/step - loss: 0.4071 - accuracy: 0.8276\n",
            "Epoch 20/20\n",
            "7/7 [==============================] - 0s 3ms/step - loss: 0.4267 - accuracy: 0.8074\n",
            "2/2 [==============================] - 0s 3ms/step - loss: 0.3335 - accuracy: 0.8163\n",
            "Epoch 1/20\n",
            "7/7 [==============================] - 0s 3ms/step - loss: 0.7416 - accuracy: 0.5559\n",
            "Epoch 2/20\n",
            "7/7 [==============================] - 0s 3ms/step - loss: 0.7069 - accuracy: 0.5676\n",
            "Epoch 3/20\n",
            "7/7 [==============================] - 0s 3ms/step - loss: 0.7002 - accuracy: 0.5529\n",
            "Epoch 4/20\n",
            "7/7 [==============================] - 0s 3ms/step - loss: 0.6771 - accuracy: 0.5852\n",
            "Epoch 5/20\n",
            "7/7 [==============================] - 0s 3ms/step - loss: 0.6815 - accuracy: 0.5688\n",
            "Epoch 6/20\n",
            "7/7 [==============================] - 0s 3ms/step - loss: 0.6598 - accuracy: 0.5863\n",
            "Epoch 7/20\n",
            "7/7 [==============================] - 0s 3ms/step - loss: 0.6579 - accuracy: 0.5753\n",
            "Epoch 8/20\n",
            "7/7 [==============================] - 0s 3ms/step - loss: 0.6592 - accuracy: 0.5552\n",
            "Epoch 9/20\n",
            "7/7 [==============================] - 0s 3ms/step - loss: 0.6569 - accuracy: 0.5212\n",
            "Epoch 10/20\n",
            "7/7 [==============================] - 0s 3ms/step - loss: 0.6342 - accuracy: 0.5629\n",
            "Epoch 11/20\n",
            "7/7 [==============================] - 0s 3ms/step - loss: 0.6295 - accuracy: 0.5742\n",
            "Epoch 12/20\n",
            "7/7 [==============================] - 0s 3ms/step - loss: 0.6132 - accuracy: 0.6044\n",
            "Epoch 13/20\n",
            "7/7 [==============================] - 0s 3ms/step - loss: 0.6011 - accuracy: 0.5952\n",
            "Epoch 14/20\n",
            "7/7 [==============================] - 0s 3ms/step - loss: 0.6081 - accuracy: 0.5916\n",
            "Epoch 15/20\n",
            "7/7 [==============================] - 0s 3ms/step - loss: 0.5999 - accuracy: 0.5856\n",
            "Epoch 16/20\n",
            "7/7 [==============================] - 0s 3ms/step - loss: 0.5559 - accuracy: 0.6618\n",
            "Epoch 17/20\n",
            "7/7 [==============================] - 0s 3ms/step - loss: 0.5658 - accuracy: 0.6372\n",
            "Epoch 18/20\n",
            "7/7 [==============================] - 0s 3ms/step - loss: 0.5376 - accuracy: 0.7040\n",
            "Epoch 19/20\n",
            "7/7 [==============================] - 0s 3ms/step - loss: 0.5121 - accuracy: 0.7856\n",
            "Epoch 20/20\n",
            "7/7 [==============================] - 0s 3ms/step - loss: 0.5177 - accuracy: 0.8147\n",
            "2/2 [==============================] - 0s 4ms/step - loss: 0.6209 - accuracy: 0.6250\n",
            "Epoch 1/20\n",
            "7/7 [==============================] - 0s 3ms/step - loss: 0.6810 - accuracy: 0.5798\n",
            "Epoch 2/20\n",
            "7/7 [==============================] - 0s 3ms/step - loss: 0.6434 - accuracy: 0.7106\n",
            "Epoch 3/20\n",
            "7/7 [==============================] - 0s 3ms/step - loss: 0.6275 - accuracy: 0.7195\n",
            "Epoch 4/20\n",
            "7/7 [==============================] - 0s 3ms/step - loss: 0.6087 - accuracy: 0.7287\n",
            "Epoch 5/20\n",
            "7/7 [==============================] - 0s 3ms/step - loss: 0.5839 - accuracy: 0.7704\n",
            "Epoch 6/20\n",
            "7/7 [==============================] - 0s 4ms/step - loss: 0.5768 - accuracy: 0.7711\n",
            "Epoch 7/20\n",
            "7/7 [==============================] - 0s 3ms/step - loss: 0.5502 - accuracy: 0.8070\n",
            "Epoch 8/20\n",
            "7/7 [==============================] - 0s 3ms/step - loss: 0.5478 - accuracy: 0.7594\n",
            "Epoch 9/20\n",
            "7/7 [==============================] - 0s 3ms/step - loss: 0.5346 - accuracy: 0.7532\n",
            "Epoch 10/20\n",
            "7/7 [==============================] - 0s 3ms/step - loss: 0.5104 - accuracy: 0.7682\n",
            "Epoch 11/20\n",
            "7/7 [==============================] - 0s 4ms/step - loss: 0.4989 - accuracy: 0.7935\n",
            "Epoch 12/20\n",
            "7/7 [==============================] - 0s 3ms/step - loss: 0.4730 - accuracy: 0.7847\n",
            "Epoch 13/20\n",
            "7/7 [==============================] - 0s 3ms/step - loss: 0.4504 - accuracy: 0.8141\n",
            "Epoch 14/20\n",
            "7/7 [==============================] - 0s 3ms/step - loss: 0.4474 - accuracy: 0.8034\n",
            "Epoch 15/20\n",
            "7/7 [==============================] - 0s 3ms/step - loss: 0.4552 - accuracy: 0.7911\n",
            "Epoch 16/20\n",
            "7/7 [==============================] - 0s 3ms/step - loss: 0.3811 - accuracy: 0.8607\n",
            "Epoch 17/20\n",
            "7/7 [==============================] - 0s 3ms/step - loss: 0.3954 - accuracy: 0.8419\n",
            "Epoch 18/20\n",
            "7/7 [==============================] - 0s 4ms/step - loss: 0.3906 - accuracy: 0.8363\n",
            "Epoch 19/20\n",
            "7/7 [==============================] - 0s 3ms/step - loss: 0.3567 - accuracy: 0.8592\n",
            "Epoch 20/20\n",
            "7/7 [==============================] - 0s 3ms/step - loss: 0.3922 - accuracy: 0.8272\n",
            "WARNING:tensorflow:5 out of the last 43 calls to <function Model.make_test_function.<locals>.test_function at 0x7f66388009d8> triggered tf.function retracing. Tracing is expensive and the excessive number of tracings could be due to (1) creating @tf.function repeatedly in a loop, (2) passing tensors with different shapes, (3) passing Python objects instead of tensors. For (1), please define your @tf.function outside of the loop. For (2), @tf.function has experimental_relax_shapes=True option that relaxes argument shapes that can avoid unnecessary retracing. For (3), please refer to https://www.tensorflow.org/guide/function#controlling_retracing and https://www.tensorflow.org/api_docs/python/tf/function for  more details.\n",
            "2/2 [==============================] - 0s 5ms/step - loss: 0.4320 - accuracy: 0.7917\n",
            "Epoch 1/20\n",
            "7/7 [==============================] - 0s 4ms/step - loss: 0.6670 - accuracy: 0.6239\n",
            "Epoch 2/20\n",
            "7/7 [==============================] - 0s 3ms/step - loss: 0.6491 - accuracy: 0.6579\n",
            "Epoch 3/20\n",
            "7/7 [==============================] - 0s 3ms/step - loss: 0.6161 - accuracy: 0.6771\n",
            "Epoch 4/20\n",
            "7/7 [==============================] - 0s 3ms/step - loss: 0.5933 - accuracy: 0.7093\n",
            "Epoch 5/20\n",
            "7/7 [==============================] - 0s 3ms/step - loss: 0.5963 - accuracy: 0.6466\n",
            "Epoch 6/20\n",
            "7/7 [==============================] - 0s 3ms/step - loss: 0.5766 - accuracy: 0.6638\n",
            "Epoch 7/20\n",
            "7/7 [==============================] - 0s 3ms/step - loss: 0.5708 - accuracy: 0.7010\n",
            "Epoch 8/20\n",
            "7/7 [==============================] - 0s 3ms/step - loss: 0.5468 - accuracy: 0.7448\n",
            "Epoch 9/20\n",
            "7/7 [==============================] - 0s 4ms/step - loss: 0.5208 - accuracy: 0.7614\n",
            "Epoch 10/20\n",
            "7/7 [==============================] - 0s 3ms/step - loss: 0.5193 - accuracy: 0.7508\n",
            "Epoch 11/20\n",
            "7/7 [==============================] - 0s 3ms/step - loss: 0.4955 - accuracy: 0.7553\n",
            "Epoch 12/20\n",
            "7/7 [==============================] - 0s 3ms/step - loss: 0.4445 - accuracy: 0.7770\n",
            "Epoch 13/20\n",
            "7/7 [==============================] - 0s 3ms/step - loss: 0.4558 - accuracy: 0.7618\n",
            "Epoch 14/20\n",
            "7/7 [==============================] - 0s 3ms/step - loss: 0.4203 - accuracy: 0.8126\n",
            "Epoch 15/20\n",
            "7/7 [==============================] - 0s 3ms/step - loss: 0.4516 - accuracy: 0.7872\n",
            "Epoch 16/20\n",
            "7/7 [==============================] - 0s 3ms/step - loss: 0.4013 - accuracy: 0.8142\n",
            "Epoch 17/20\n",
            "7/7 [==============================] - 0s 3ms/step - loss: 0.3840 - accuracy: 0.8405\n",
            "Epoch 18/20\n",
            "7/7 [==============================] - 0s 3ms/step - loss: 0.3716 - accuracy: 0.8323\n",
            "Epoch 19/20\n",
            "7/7 [==============================] - 0s 3ms/step - loss: 0.3690 - accuracy: 0.8407\n",
            "Epoch 20/20\n",
            "7/7 [==============================] - 0s 3ms/step - loss: 0.3939 - accuracy: 0.8229\n",
            "WARNING:tensorflow:6 out of the last 45 calls to <function Model.make_test_function.<locals>.test_function at 0x7f65b8407950> triggered tf.function retracing. Tracing is expensive and the excessive number of tracings could be due to (1) creating @tf.function repeatedly in a loop, (2) passing tensors with different shapes, (3) passing Python objects instead of tensors. For (1), please define your @tf.function outside of the loop. For (2), @tf.function has experimental_relax_shapes=True option that relaxes argument shapes that can avoid unnecessary retracing. For (3), please refer to https://www.tensorflow.org/guide/function#controlling_retracing and https://www.tensorflow.org/api_docs/python/tf/function for  more details.\n",
            "2/2 [==============================] - 0s 8ms/step - loss: 0.6193 - accuracy: 0.7083\n",
            "Epoch 1/20\n",
            "8/8 [==============================] - 0s 3ms/step - loss: 0.6784 - accuracy: 0.5391\n",
            "Epoch 2/20\n",
            "8/8 [==============================] - 0s 3ms/step - loss: 0.6651 - accuracy: 0.5537\n",
            "Epoch 3/20\n",
            "8/8 [==============================] - 0s 3ms/step - loss: 0.6580 - accuracy: 0.5329\n",
            "Epoch 4/20\n",
            "8/8 [==============================] - 0s 3ms/step - loss: 0.6413 - accuracy: 0.5752\n",
            "Epoch 5/20\n",
            "8/8 [==============================] - 0s 3ms/step - loss: 0.6127 - accuracy: 0.6387\n",
            "Epoch 6/20\n",
            "8/8 [==============================] - 0s 3ms/step - loss: 0.6042 - accuracy: 0.6592\n",
            "Epoch 7/20\n",
            "8/8 [==============================] - 0s 3ms/step - loss: 0.6035 - accuracy: 0.6785\n",
            "Epoch 8/20\n",
            "8/8 [==============================] - 0s 3ms/step - loss: 0.5876 - accuracy: 0.7069\n",
            "Epoch 9/20\n",
            "8/8 [==============================] - 0s 3ms/step - loss: 0.5606 - accuracy: 0.7231\n",
            "Epoch 10/20\n",
            "8/8 [==============================] - 0s 3ms/step - loss: 0.5428 - accuracy: 0.7359\n",
            "Epoch 11/20\n",
            "8/8 [==============================] - 0s 3ms/step - loss: 0.5257 - accuracy: 0.7648\n",
            "Epoch 12/20\n",
            "8/8 [==============================] - 0s 3ms/step - loss: 0.5004 - accuracy: 0.7899\n",
            "Epoch 13/20\n",
            "8/8 [==============================] - 0s 3ms/step - loss: 0.5119 - accuracy: 0.7940\n",
            "Epoch 14/20\n",
            "8/8 [==============================] - 0s 3ms/step - loss: 0.4991 - accuracy: 0.8035\n",
            "Epoch 15/20\n",
            "8/8 [==============================] - 0s 3ms/step - loss: 0.4873 - accuracy: 0.8217\n",
            "Epoch 16/20\n",
            "8/8 [==============================] - 0s 3ms/step - loss: 0.4549 - accuracy: 0.8102\n",
            "Epoch 17/20\n",
            "8/8 [==============================] - 0s 3ms/step - loss: 0.4310 - accuracy: 0.8345\n",
            "Epoch 18/20\n",
            "8/8 [==============================] - 0s 3ms/step - loss: 0.4499 - accuracy: 0.8144\n",
            "Epoch 19/20\n",
            "8/8 [==============================] - 0s 3ms/step - loss: 0.4227 - accuracy: 0.8095\n",
            "Epoch 20/20\n",
            "8/8 [==============================] - 0s 3ms/step - loss: 0.4070 - accuracy: 0.8363\n"
          ],
          "name": "stdout"
        }
      ]
    },
    {
      "cell_type": "code",
      "metadata": {
        "colab": {
          "base_uri": "https://localhost:8080/"
        },
        "id": "NTkBGwtRnozu",
        "outputId": "6bcae1bb-a6d5-462a-f356-a5dcf8799275"
      },
      "source": [
        "# your grid_result object should be able to run in this code \n",
        "print(f\"Best: {grid_result.best_score_} using {grid_result.best_params_}\")\n",
        "means = grid_result.cv_results_['mean_test_score']\n",
        "stds = grid_result.cv_results_['std_test_score']\n",
        "params = grid_result.cv_results_['params']\n",
        "for mean, stdev, param in zip(means, stds, params):\n",
        "    print(f\"Means: {mean}, Stdev: {stdev} with: {param}\") "
      ],
      "execution_count": 78,
      "outputs": [
        {
          "output_type": "stream",
          "text": [
            "Best: 0.7311224579811096 using {'batch_size': 32, 'epochs': 20}\n",
            "Means: 0.7311224579811096, Stdev: 0.06780875892133999 with: {'batch_size': 32, 'epochs': 20}\n"
          ],
          "name": "stdout"
        }
      ]
    }
  ]
}