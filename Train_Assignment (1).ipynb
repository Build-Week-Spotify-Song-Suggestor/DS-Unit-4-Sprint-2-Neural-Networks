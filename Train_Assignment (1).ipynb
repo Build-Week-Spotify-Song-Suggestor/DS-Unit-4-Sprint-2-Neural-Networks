{
  "nbformat": 4,
  "nbformat_minor": 0,
  "metadata": {
    "colab": {
      "name": "Train_Assignment.ipynb",
      "provenance": [],
      "collapsed_sections": []
    },
    "kernelspec": {
      "display_name": "Python 3",
      "language": "python",
      "name": "python3"
    },
    "language_info": {
      "codemirror_mode": {
        "name": "ipython",
        "version": 3
      },
      "file_extension": ".py",
      "mimetype": "text/x-python",
      "name": "python",
      "nbconvert_exporter": "python",
      "pygments_lexer": "ipython3",
      "version": "3.7.3"
    },
    "nteract": {
      "version": "0.22.4"
    }
  },
  "cells": [
    {
      "cell_type": "markdown",
      "metadata": {
        "id": "NGGrt9EYlCqY"
      },
      "source": [
        "<img align=\"left\" src=\"https://lever-client-logos.s3.amazonaws.com/864372b1-534c-480e-acd5-9711f850815c-1524247202159.png\" width=200>\n",
        "<br></br>\n",
        "<br></br>\n",
        "\n",
        "# Train Practice\n",
        "\n",
        "## *Data Science Unit 4 Sprint 2 Assignment 2*\n",
        "\n",
        "Continue to use TensorFlow Keras & a sample of the [Quickdraw dataset](https://github.com/googlecreativelab/quickdraw-dataset) to build a sketch classification model. The dataset has been sampled to only 10 classes and 10000 observations per class. Please build a baseline classification model then run a few experiments with different optimizers and learning rates. \n",
        "\n",
        "*Don't forgot to switch to GPU on Colab!*"
      ]
    },
    {
      "cell_type": "markdown",
      "metadata": {
        "id": "ptJ2b3wk62Ud"
      },
      "source": [
        "### Write a function to load your data\n",
        "\n",
        "Wrap yesterday's preprocessing steps into a function that returns four items:\n",
        "* X_train\n",
        "* y_train\n",
        "* X_test\n",
        "* y_test\n",
        "\n",
        "Your function should accept a `path` to the data as a argument."
      ]
    },
    {
      "cell_type": "code",
      "metadata": {
        "id": "7jNtAO2Yw8wv"
      },
      "source": [
        "# Imports \n",
        "import io\n",
        "import requests\n",
        "import numpy as np\n",
        "import pandas as pd\n",
        "from sklearn.model_selection import train_test_split\n",
        "\n",
        "# Tensorflow\n",
        "import tensorflow as tf \n",
        "from tensorflow.keras import Sequential\n",
        "from tensorflow.keras.layers import Dense\n",
        "from tensorflow.keras.optimizers import Adam, Adamax, Ftrl, Nadam, RMSprop, SGD\n",
        "\n",
        "# Plotting\n",
        "import seaborn as sns\n",
        "sns.set()\n",
        "import matplotlib.pyplot as plt\n",
        "%matplotlib inline"
      ],
      "execution_count": null,
      "outputs": []
    },
    {
      "cell_type": "code",
      "metadata": {
        "id": "nJsIsrvp7O3e"
      },
      "source": [
        "\n",
        "def load_quickdraw10(path):\n",
        "  '''\n",
        "  Function to load dataset\n",
        "  '''\n",
        "  response = requests.get(path)\n",
        "  response.raise_for_status()\n",
        "  data = np.load(io.BytesIO(response.content))\n",
        "\n",
        "  X = data['arr_0']\n",
        "  y = data['arr_1']\n",
        "\n",
        "  X = X / 255\n",
        "\n",
        "  # Split 20% test, stratified on y\n",
        "  X_train, X_test, y_train, y_test = train_test_split(X, y, test_size=0.2, \n",
        "                                                      stratify=y, \n",
        "                                                      random_state=42)\n",
        "\n",
        "  return X_train, y_train, X_test, y_test"
      ],
      "execution_count": null,
      "outputs": []
    },
    {
      "cell_type": "code",
      "metadata": {
        "colab": {
          "base_uri": "https://localhost:8080/"
        },
        "id": "gehHnyW3xN3e",
        "outputId": "703ea135-8663-41eb-8bf2-c5414154f262"
      },
      "source": [
        "X_train, y_train, X_test, y_test = load_quickdraw10(\n",
        "    'https://github.com/lukiepookieofficial/DS-Unit-4-Sprint-2-Neural-Networks/blob/main/quickdraw10.npz?raw=true')\n",
        "\n",
        "# Look at the size of all my data now\n",
        "print('X_train: ', X_train.shape)\n",
        "print('y_train: ', y_train.shape)\n",
        "print('X_test: ', X_test.shape)\n",
        "print('y_test: ', y_test.shape)"
      ],
      "execution_count": null,
      "outputs": [
        {
          "output_type": "stream",
          "text": [
            "X_train:  (80000, 784)\n",
            "y_train:  (80000,)\n",
            "X_test:  (20000, 784)\n",
            "y_test:  (20000,)\n"
          ],
          "name": "stdout"
        }
      ]
    },
    {
      "cell_type": "markdown",
      "metadata": {
        "id": "l-6PxI6H5__2"
      },
      "source": [
        "### Write a Model Function\n",
        "Using your model from yesterday, write a function called `create_model` which returns a compiled TensorFlow Keras Sequential Model suitable for classifying the QuickDraw-10 dataset. Include parameters for the following: \n",
        "* Learning Rate\n",
        "* Optimizer"
      ]
    },
    {
      "cell_type": "code",
      "metadata": {
        "id": "nEREYT-3wI1f",
        "colab": {
          "base_uri": "https://localhost:8080/"
        },
        "outputId": "b43c199d-bfc7-4249-84a4-431149d56aa5"
      },
      "source": [
        "\n",
        "def create_model(act, lr, opt):\n",
        "  '''\n",
        "  Function to return a compiled TensorFlow Keras Sequential\n",
        "    model for classifying the QuickDraw-10 dataset.\n",
        "\n",
        "  Args:\n",
        "    act : string : Activator for the hidden layers of the model\n",
        "    lr  : int    : Learning rate for the optimizer\n",
        "    opt : class  : Optimizer to run on the model\n",
        "  '''\n",
        "  # Instantiate the model\n",
        "  model = Sequential([\n",
        "                      Dense(128, activation=act, input_dim=784),\n",
        "                      Dense(64, activation=act),\n",
        "                      Dense(32, activation=act),\n",
        "                      Dense(10, activation='softmax')\n",
        "  ])\n",
        "\n",
        "  model.compile(loss='sparse_categorical_crossentropy',\n",
        "                optimizer=opt(learning_rate=lr),\n",
        "                metrics=['accuracy'])\n",
        "  \n",
        "  return model\n",
        "\n",
        "# Use function to create a default model\n",
        "model = create_model('relu', 0.01, SGD)\n",
        "\n",
        "# Look at the model summary\n",
        "model.summary()"
      ],
      "execution_count": null,
      "outputs": [
        {
          "output_type": "stream",
          "text": [
            "Model: \"sequential\"\n",
            "_________________________________________________________________\n",
            "Layer (type)                 Output Shape              Param #   \n",
            "=================================================================\n",
            "dense (Dense)                (None, 128)               100480    \n",
            "_________________________________________________________________\n",
            "dense_1 (Dense)              (None, 64)                8256      \n",
            "_________________________________________________________________\n",
            "dense_2 (Dense)              (None, 32)                2080      \n",
            "_________________________________________________________________\n",
            "dense_3 (Dense)              (None, 10)                330       \n",
            "=================================================================\n",
            "Total params: 111,146\n",
            "Trainable params: 111,146\n",
            "Non-trainable params: 0\n",
            "_________________________________________________________________\n"
          ],
          "name": "stdout"
        }
      ]
    },
    {
      "cell_type": "markdown",
      "metadata": {
        "id": "f0pCkh8C7eGL"
      },
      "source": [
        "### Experiment with Batch Size\n",
        "* Run 5 experiments with various batch sizes of your choice. \n",
        "* Visualize the results\n",
        "* Write up an analysis of the experiments and select the \"best\" performing model among your experiments. Make sure to compare against your model's performance yesterday. "
      ]
    },
    {
      "cell_type": "code",
      "metadata": {
        "id": "USXjs7Hk71Hy",
        "colab": {
          "base_uri": "https://localhost:8080/"
        },
        "outputId": "cdea61b8-a6e6-47a3-b658-b7afee55fa29"
      },
      "source": [
        "# Use function to create a default model\n",
        "model = create_model('relu', 0.01, SGD)\n",
        "\n",
        "# Batch size experiment #1\n",
        "bs32 = model.fit(\n",
        "  X_train, y_train,\n",
        "  epochs=25,\n",
        "  batch_size=32,\n",
        "  validation_data=(X_test, y_test)\n",
        ")"
      ],
      "execution_count": null,
      "outputs": [
        {
          "output_type": "stream",
          "text": [
            "Epoch 1/25\n",
            "2500/2500 [==============================] - 5s 2ms/step - loss: 1.0894 - accuracy: 0.6668 - val_loss: 0.8041 - val_accuracy: 0.7652\n",
            "Epoch 2/25\n",
            "2500/2500 [==============================] - 4s 2ms/step - loss: 0.7387 - accuracy: 0.7820 - val_loss: 0.6642 - val_accuracy: 0.8058\n",
            "Epoch 3/25\n",
            "2500/2500 [==============================] - 4s 2ms/step - loss: 0.6354 - accuracy: 0.8126 - val_loss: 0.5931 - val_accuracy: 0.8242\n",
            "Epoch 4/25\n",
            "2500/2500 [==============================] - 4s 2ms/step - loss: 0.5671 - accuracy: 0.8329 - val_loss: 0.5542 - val_accuracy: 0.8354\n",
            "Epoch 5/25\n",
            "2500/2500 [==============================] - 4s 2ms/step - loss: 0.5213 - accuracy: 0.8455 - val_loss: 0.5169 - val_accuracy: 0.8460\n",
            "Epoch 6/25\n",
            "2500/2500 [==============================] - 4s 2ms/step - loss: 0.4868 - accuracy: 0.8562 - val_loss: 0.5145 - val_accuracy: 0.8468\n",
            "Epoch 7/25\n",
            "2500/2500 [==============================] - 4s 2ms/step - loss: 0.4595 - accuracy: 0.8640 - val_loss: 0.4798 - val_accuracy: 0.8571\n",
            "Epoch 8/25\n",
            "2500/2500 [==============================] - 4s 2ms/step - loss: 0.4366 - accuracy: 0.8711 - val_loss: 0.4721 - val_accuracy: 0.8611\n",
            "Epoch 9/25\n",
            "2500/2500 [==============================] - 4s 2ms/step - loss: 0.4173 - accuracy: 0.8763 - val_loss: 0.4821 - val_accuracy: 0.8554\n",
            "Epoch 10/25\n",
            "2500/2500 [==============================] - 4s 2ms/step - loss: 0.3999 - accuracy: 0.8816 - val_loss: 0.4587 - val_accuracy: 0.8640\n",
            "Epoch 11/25\n",
            "2500/2500 [==============================] - 4s 2ms/step - loss: 0.3833 - accuracy: 0.8863 - val_loss: 0.4649 - val_accuracy: 0.8640\n",
            "Epoch 12/25\n",
            "2500/2500 [==============================] - 4s 2ms/step - loss: 0.3692 - accuracy: 0.8906 - val_loss: 0.4528 - val_accuracy: 0.8675\n",
            "Epoch 13/25\n",
            "2500/2500 [==============================] - 4s 2ms/step - loss: 0.3559 - accuracy: 0.8948 - val_loss: 0.4583 - val_accuracy: 0.8649\n",
            "Epoch 14/25\n",
            "2500/2500 [==============================] - 4s 2ms/step - loss: 0.3432 - accuracy: 0.8978 - val_loss: 0.4518 - val_accuracy: 0.8667\n",
            "Epoch 15/25\n",
            "2500/2500 [==============================] - 4s 2ms/step - loss: 0.3319 - accuracy: 0.9027 - val_loss: 0.4484 - val_accuracy: 0.8687\n",
            "Epoch 16/25\n",
            "2500/2500 [==============================] - 4s 2ms/step - loss: 0.3209 - accuracy: 0.9056 - val_loss: 0.4488 - val_accuracy: 0.8680\n",
            "Epoch 17/25\n",
            "2500/2500 [==============================] - 4s 2ms/step - loss: 0.3101 - accuracy: 0.9079 - val_loss: 0.4454 - val_accuracy: 0.8709\n",
            "Epoch 18/25\n",
            "2500/2500 [==============================] - 4s 2ms/step - loss: 0.3007 - accuracy: 0.9112 - val_loss: 0.4593 - val_accuracy: 0.8663\n",
            "Epoch 19/25\n",
            "2500/2500 [==============================] - 5s 2ms/step - loss: 0.2904 - accuracy: 0.9148 - val_loss: 0.4521 - val_accuracy: 0.8691\n",
            "Epoch 20/25\n",
            "2500/2500 [==============================] - 4s 2ms/step - loss: 0.2805 - accuracy: 0.9179 - val_loss: 0.4581 - val_accuracy: 0.8701\n",
            "Epoch 21/25\n",
            "2500/2500 [==============================] - 4s 2ms/step - loss: 0.2725 - accuracy: 0.9192 - val_loss: 0.4876 - val_accuracy: 0.8612\n",
            "Epoch 22/25\n",
            "2500/2500 [==============================] - 4s 2ms/step - loss: 0.2643 - accuracy: 0.9211 - val_loss: 0.4688 - val_accuracy: 0.8688\n",
            "Epoch 23/25\n",
            "2500/2500 [==============================] - 4s 2ms/step - loss: 0.2547 - accuracy: 0.9246 - val_loss: 0.4793 - val_accuracy: 0.8658\n",
            "Epoch 24/25\n",
            "2500/2500 [==============================] - 4s 2ms/step - loss: 0.2464 - accuracy: 0.9279 - val_loss: 0.4885 - val_accuracy: 0.8684\n",
            "Epoch 25/25\n",
            "2500/2500 [==============================] - 4s 2ms/step - loss: 0.2387 - accuracy: 0.9296 - val_loss: 0.5019 - val_accuracy: 0.8606\n"
          ],
          "name": "stdout"
        }
      ]
    },
    {
      "cell_type": "code",
      "metadata": {
        "colab": {
          "base_uri": "https://localhost:8080/"
        },
        "id": "ezhpbQMnxm1E",
        "outputId": "73f340bd-7ec4-419b-a015-9fac2b38f111"
      },
      "source": [
        "# Use function to create a default model\n",
        "model = create_model('relu', 0.01, SGD)\n",
        "\n",
        "# Batch size experiment #2\n",
        "bs256 = model.fit(\n",
        "  X_train, y_train,\n",
        "  epochs=25,\n",
        "  batch_size=256,\n",
        "  validation_data=(X_test, y_test)\n",
        ")"
      ],
      "execution_count": null,
      "outputs": [
        {
          "output_type": "stream",
          "text": [
            "Epoch 1/25\n",
            "313/313 [==============================] - 2s 5ms/step - loss: 2.0617 - accuracy: 0.3143 - val_loss: 1.6522 - val_accuracy: 0.5396\n",
            "Epoch 2/25\n",
            "313/313 [==============================] - 1s 5ms/step - loss: 1.3242 - accuracy: 0.6152 - val_loss: 1.1124 - val_accuracy: 0.6623\n",
            "Epoch 3/25\n",
            "313/313 [==============================] - 1s 5ms/step - loss: 1.0399 - accuracy: 0.6888 - val_loss: 0.9617 - val_accuracy: 0.7093\n",
            "Epoch 4/25\n",
            "313/313 [==============================] - 1s 5ms/step - loss: 0.9350 - accuracy: 0.7239 - val_loss: 0.8927 - val_accuracy: 0.7380\n",
            "Epoch 5/25\n",
            "313/313 [==============================] - 1s 5ms/step - loss: 0.8778 - accuracy: 0.7431 - val_loss: 0.8462 - val_accuracy: 0.7494\n",
            "Epoch 6/25\n",
            "313/313 [==============================] - 1s 5ms/step - loss: 0.8387 - accuracy: 0.7556 - val_loss: 0.8125 - val_accuracy: 0.7614\n",
            "Epoch 7/25\n",
            "313/313 [==============================] - 1s 5ms/step - loss: 0.8085 - accuracy: 0.7652 - val_loss: 0.7895 - val_accuracy: 0.7707\n",
            "Epoch 8/25\n",
            "313/313 [==============================] - 1s 5ms/step - loss: 0.7832 - accuracy: 0.7731 - val_loss: 0.7649 - val_accuracy: 0.7771\n",
            "Epoch 9/25\n",
            "313/313 [==============================] - 1s 5ms/step - loss: 0.7608 - accuracy: 0.7796 - val_loss: 0.7487 - val_accuracy: 0.7812\n",
            "Epoch 10/25\n",
            "313/313 [==============================] - 1s 5ms/step - loss: 0.7412 - accuracy: 0.7866 - val_loss: 0.7305 - val_accuracy: 0.7856\n",
            "Epoch 11/25\n",
            "313/313 [==============================] - 1s 5ms/step - loss: 0.7225 - accuracy: 0.7920 - val_loss: 0.7153 - val_accuracy: 0.7914\n",
            "Epoch 12/25\n",
            "313/313 [==============================] - 1s 5ms/step - loss: 0.7060 - accuracy: 0.7964 - val_loss: 0.6992 - val_accuracy: 0.7976\n",
            "Epoch 13/25\n",
            "313/313 [==============================] - 1s 5ms/step - loss: 0.6905 - accuracy: 0.8012 - val_loss: 0.6851 - val_accuracy: 0.8005\n",
            "Epoch 14/25\n",
            "313/313 [==============================] - 1s 5ms/step - loss: 0.6761 - accuracy: 0.8054 - val_loss: 0.6747 - val_accuracy: 0.8029\n",
            "Epoch 15/25\n",
            "313/313 [==============================] - 2s 5ms/step - loss: 0.6626 - accuracy: 0.8082 - val_loss: 0.6609 - val_accuracy: 0.8081\n",
            "Epoch 16/25\n",
            "313/313 [==============================] - 2s 5ms/step - loss: 0.6503 - accuracy: 0.8117 - val_loss: 0.6510 - val_accuracy: 0.8087\n",
            "Epoch 17/25\n",
            "313/313 [==============================] - 2s 5ms/step - loss: 0.6388 - accuracy: 0.8154 - val_loss: 0.6401 - val_accuracy: 0.8137\n",
            "Epoch 18/25\n",
            "313/313 [==============================] - 2s 5ms/step - loss: 0.6278 - accuracy: 0.8170 - val_loss: 0.6375 - val_accuracy: 0.8134\n",
            "Epoch 19/25\n",
            "313/313 [==============================] - 2s 5ms/step - loss: 0.6170 - accuracy: 0.8209 - val_loss: 0.6260 - val_accuracy: 0.8173\n",
            "Epoch 20/25\n",
            "313/313 [==============================] - 2s 5ms/step - loss: 0.6072 - accuracy: 0.8232 - val_loss: 0.6186 - val_accuracy: 0.8202\n",
            "Epoch 21/25\n",
            "313/313 [==============================] - 2s 5ms/step - loss: 0.5978 - accuracy: 0.8256 - val_loss: 0.6103 - val_accuracy: 0.8203\n",
            "Epoch 22/25\n",
            "313/313 [==============================] - 1s 5ms/step - loss: 0.5883 - accuracy: 0.8283 - val_loss: 0.6009 - val_accuracy: 0.8236\n",
            "Epoch 23/25\n",
            "313/313 [==============================] - 1s 5ms/step - loss: 0.5802 - accuracy: 0.8298 - val_loss: 0.5935 - val_accuracy: 0.8246\n",
            "Epoch 24/25\n",
            "313/313 [==============================] - 1s 5ms/step - loss: 0.5717 - accuracy: 0.8329 - val_loss: 0.5888 - val_accuracy: 0.8271\n",
            "Epoch 25/25\n",
            "313/313 [==============================] - 1s 5ms/step - loss: 0.5637 - accuracy: 0.8352 - val_loss: 0.5824 - val_accuracy: 0.8270\n"
          ],
          "name": "stdout"
        }
      ]
    },
    {
      "cell_type": "code",
      "metadata": {
        "colab": {
          "base_uri": "https://localhost:8080/"
        },
        "id": "1kXAO6VsxrkZ",
        "outputId": "88fbdc4a-9d5b-49ae-fcca-e2afab6d662b"
      },
      "source": [
        "# Use function to create a default model\n",
        "model = create_model('relu', 0.01, SGD)\n",
        "\n",
        "# Batch size experiment #3\n",
        "bs512 = model.fit(\n",
        "  X_train, y_train,\n",
        "  epochs=25,\n",
        "  batch_size=512,\n",
        "  validation_data=(X_test, y_test)\n",
        ")"
      ],
      "execution_count": null,
      "outputs": [
        {
          "output_type": "stream",
          "text": [
            "Epoch 1/25\n",
            "157/157 [==============================] - 1s 9ms/step - loss: 2.1686 - accuracy: 0.2211 - val_loss: 1.9721 - val_accuracy: 0.3038\n",
            "Epoch 2/25\n",
            "157/157 [==============================] - 1s 8ms/step - loss: 1.7818 - accuracy: 0.3782 - val_loss: 1.5952 - val_accuracy: 0.4576\n",
            "Epoch 3/25\n",
            "157/157 [==============================] - 1s 8ms/step - loss: 1.4674 - accuracy: 0.5384 - val_loss: 1.3403 - val_accuracy: 0.5940\n",
            "Epoch 4/25\n",
            "157/157 [==============================] - 1s 8ms/step - loss: 1.2637 - accuracy: 0.6221 - val_loss: 1.1773 - val_accuracy: 0.6484\n",
            "Epoch 5/25\n",
            "157/157 [==============================] - 1s 8ms/step - loss: 1.1311 - accuracy: 0.6644 - val_loss: 1.0719 - val_accuracy: 0.6804\n",
            "Epoch 6/25\n",
            "157/157 [==============================] - 1s 8ms/step - loss: 1.0456 - accuracy: 0.6909 - val_loss: 1.0023 - val_accuracy: 0.7010\n",
            "Epoch 7/25\n",
            "157/157 [==============================] - 1s 8ms/step - loss: 0.9870 - accuracy: 0.7093 - val_loss: 0.9543 - val_accuracy: 0.7167\n",
            "Epoch 8/25\n",
            "157/157 [==============================] - 1s 8ms/step - loss: 0.9446 - accuracy: 0.7226 - val_loss: 0.9188 - val_accuracy: 0.7266\n",
            "Epoch 9/25\n",
            "157/157 [==============================] - 1s 8ms/step - loss: 0.9121 - accuracy: 0.7331 - val_loss: 0.8911 - val_accuracy: 0.7334\n",
            "Epoch 10/25\n",
            "157/157 [==============================] - 1s 8ms/step - loss: 0.8862 - accuracy: 0.7408 - val_loss: 0.8676 - val_accuracy: 0.7452\n",
            "Epoch 11/25\n",
            "157/157 [==============================] - 1s 8ms/step - loss: 0.8643 - accuracy: 0.7478 - val_loss: 0.8488 - val_accuracy: 0.7510\n",
            "Epoch 12/25\n",
            "157/157 [==============================] - 1s 8ms/step - loss: 0.8455 - accuracy: 0.7543 - val_loss: 0.8325 - val_accuracy: 0.7516\n",
            "Epoch 13/25\n",
            "157/157 [==============================] - 1s 8ms/step - loss: 0.8288 - accuracy: 0.7591 - val_loss: 0.8162 - val_accuracy: 0.7595\n",
            "Epoch 14/25\n",
            "157/157 [==============================] - 1s 8ms/step - loss: 0.8137 - accuracy: 0.7633 - val_loss: 0.8023 - val_accuracy: 0.7625\n",
            "Epoch 15/25\n",
            "157/157 [==============================] - 1s 8ms/step - loss: 0.7999 - accuracy: 0.7674 - val_loss: 0.7934 - val_accuracy: 0.7633\n",
            "Epoch 16/25\n",
            "157/157 [==============================] - 1s 8ms/step - loss: 0.7873 - accuracy: 0.7709 - val_loss: 0.7767 - val_accuracy: 0.7710\n",
            "Epoch 17/25\n",
            "157/157 [==============================] - 1s 8ms/step - loss: 0.7754 - accuracy: 0.7745 - val_loss: 0.7675 - val_accuracy: 0.7728\n",
            "Epoch 18/25\n",
            "157/157 [==============================] - 1s 8ms/step - loss: 0.7643 - accuracy: 0.7780 - val_loss: 0.7587 - val_accuracy: 0.7742\n",
            "Epoch 19/25\n",
            "157/157 [==============================] - 1s 8ms/step - loss: 0.7543 - accuracy: 0.7802 - val_loss: 0.7494 - val_accuracy: 0.7767\n",
            "Epoch 20/25\n",
            "157/157 [==============================] - 1s 8ms/step - loss: 0.7446 - accuracy: 0.7833 - val_loss: 0.7384 - val_accuracy: 0.7812\n",
            "Epoch 21/25\n",
            "157/157 [==============================] - 1s 8ms/step - loss: 0.7351 - accuracy: 0.7860 - val_loss: 0.7313 - val_accuracy: 0.7836\n",
            "Epoch 22/25\n",
            "157/157 [==============================] - 1s 8ms/step - loss: 0.7262 - accuracy: 0.7889 - val_loss: 0.7219 - val_accuracy: 0.7857\n",
            "Epoch 23/25\n",
            "157/157 [==============================] - 1s 8ms/step - loss: 0.7177 - accuracy: 0.7910 - val_loss: 0.7167 - val_accuracy: 0.7876\n",
            "Epoch 24/25\n",
            "157/157 [==============================] - 1s 8ms/step - loss: 0.7098 - accuracy: 0.7928 - val_loss: 0.7097 - val_accuracy: 0.7887\n",
            "Epoch 25/25\n",
            "157/157 [==============================] - 1s 8ms/step - loss: 0.7017 - accuracy: 0.7955 - val_loss: 0.7028 - val_accuracy: 0.7922\n"
          ],
          "name": "stdout"
        }
      ]
    },
    {
      "cell_type": "code",
      "metadata": {
        "colab": {
          "base_uri": "https://localhost:8080/"
        },
        "id": "RtG6zN1txv07",
        "outputId": "69873fde-ca19-4624-8b4e-e70db02eba37"
      },
      "source": [
        "\n",
        "# Use function to create a default model\n",
        "model = create_model('relu', 0.01, SGD)\n",
        "\n",
        "# Batch size experiment #4\n",
        "bs64 = model.fit(\n",
        "  X_train, y_train,\n",
        "  epochs=25,\n",
        "  batch_size=64,\n",
        "  validation_data=(X_test, y_test)\n",
        ")"
      ],
      "execution_count": null,
      "outputs": [
        {
          "output_type": "stream",
          "text": [
            "Epoch 1/25\n",
            "1250/1250 [==============================] - 3s 2ms/step - loss: 1.3036 - accuracy: 0.5968 - val_loss: 0.8941 - val_accuracy: 0.7369\n",
            "Epoch 2/25\n",
            "1250/1250 [==============================] - 3s 2ms/step - loss: 0.8461 - accuracy: 0.7536 - val_loss: 0.7785 - val_accuracy: 0.7725\n",
            "Epoch 3/25\n",
            "1250/1250 [==============================] - 3s 2ms/step - loss: 0.7577 - accuracy: 0.7808 - val_loss: 0.7143 - val_accuracy: 0.7914\n",
            "Epoch 4/25\n",
            "1250/1250 [==============================] - 3s 2ms/step - loss: 0.6975 - accuracy: 0.7981 - val_loss: 0.6642 - val_accuracy: 0.8043\n",
            "Epoch 5/25\n",
            "1250/1250 [==============================] - 3s 2ms/step - loss: 0.6507 - accuracy: 0.8105 - val_loss: 0.6302 - val_accuracy: 0.8149\n",
            "Epoch 6/25\n",
            "1250/1250 [==============================] - 3s 2ms/step - loss: 0.6125 - accuracy: 0.8204 - val_loss: 0.5958 - val_accuracy: 0.8223\n",
            "Epoch 7/25\n",
            "1250/1250 [==============================] - 3s 2ms/step - loss: 0.5814 - accuracy: 0.8293 - val_loss: 0.5701 - val_accuracy: 0.8300\n",
            "Epoch 8/25\n",
            "1250/1250 [==============================] - 3s 2ms/step - loss: 0.5549 - accuracy: 0.8362 - val_loss: 0.5536 - val_accuracy: 0.8344\n",
            "Epoch 9/25\n",
            "1250/1250 [==============================] - 3s 2ms/step - loss: 0.5306 - accuracy: 0.8431 - val_loss: 0.5383 - val_accuracy: 0.8386\n",
            "Epoch 10/25\n",
            "1250/1250 [==============================] - 3s 2ms/step - loss: 0.5108 - accuracy: 0.8490 - val_loss: 0.5238 - val_accuracy: 0.8429\n",
            "Epoch 11/25\n",
            "1250/1250 [==============================] - 3s 2ms/step - loss: 0.4921 - accuracy: 0.8545 - val_loss: 0.5155 - val_accuracy: 0.8449\n",
            "Epoch 12/25\n",
            "1250/1250 [==============================] - 3s 2ms/step - loss: 0.4753 - accuracy: 0.8598 - val_loss: 0.5067 - val_accuracy: 0.8482\n",
            "Epoch 13/25\n",
            "1250/1250 [==============================] - 3s 2ms/step - loss: 0.4607 - accuracy: 0.8638 - val_loss: 0.4934 - val_accuracy: 0.8538\n",
            "Epoch 14/25\n",
            "1250/1250 [==============================] - 3s 2ms/step - loss: 0.4466 - accuracy: 0.8682 - val_loss: 0.4863 - val_accuracy: 0.8543\n",
            "Epoch 15/25\n",
            "1250/1250 [==============================] - 3s 2ms/step - loss: 0.4344 - accuracy: 0.8716 - val_loss: 0.4895 - val_accuracy: 0.8538\n",
            "Epoch 16/25\n",
            "1250/1250 [==============================] - 3s 2ms/step - loss: 0.4226 - accuracy: 0.8760 - val_loss: 0.4745 - val_accuracy: 0.8583\n",
            "Epoch 17/25\n",
            "1250/1250 [==============================] - 3s 2ms/step - loss: 0.4114 - accuracy: 0.8787 - val_loss: 0.4677 - val_accuracy: 0.8623\n",
            "Epoch 18/25\n",
            "1250/1250 [==============================] - 3s 2ms/step - loss: 0.4011 - accuracy: 0.8827 - val_loss: 0.4724 - val_accuracy: 0.8619\n",
            "Epoch 19/25\n",
            "1250/1250 [==============================] - 3s 2ms/step - loss: 0.3908 - accuracy: 0.8851 - val_loss: 0.4696 - val_accuracy: 0.8608\n",
            "Epoch 20/25\n",
            "1250/1250 [==============================] - 3s 2ms/step - loss: 0.3817 - accuracy: 0.8878 - val_loss: 0.4652 - val_accuracy: 0.8630\n",
            "Epoch 21/25\n",
            "1250/1250 [==============================] - 3s 2ms/step - loss: 0.3729 - accuracy: 0.8899 - val_loss: 0.4601 - val_accuracy: 0.8635\n",
            "Epoch 22/25\n",
            "1250/1250 [==============================] - 3s 2ms/step - loss: 0.3641 - accuracy: 0.8931 - val_loss: 0.4686 - val_accuracy: 0.8612\n",
            "Epoch 23/25\n",
            "1250/1250 [==============================] - 3s 2ms/step - loss: 0.3555 - accuracy: 0.8951 - val_loss: 0.4604 - val_accuracy: 0.8645\n",
            "Epoch 24/25\n",
            "1250/1250 [==============================] - 3s 3ms/step - loss: 0.3472 - accuracy: 0.8979 - val_loss: 0.4695 - val_accuracy: 0.8626\n",
            "Epoch 25/25\n",
            "1250/1250 [==============================] - 3s 2ms/step - loss: 0.3399 - accuracy: 0.9000 - val_loss: 0.4661 - val_accuracy: 0.8631\n"
          ],
          "name": "stdout"
        }
      ]
    },
    {
      "cell_type": "code",
      "metadata": {
        "colab": {
          "base_uri": "https://localhost:8080/"
        },
        "id": "_gBY0gpVx0Bl",
        "outputId": "f5469309-e966-4b19-db18-0b6f91888933"
      },
      "source": [
        "\n",
        "# Use function to create a default model\n",
        "model = create_model('relu', 0.01, SGD)\n",
        "\n",
        "# Batch size experiment #5\n",
        "bs8 = model.fit(\n",
        "  X_train, y_train,\n",
        "  epochs=25,\n",
        "  batch_size=8,\n",
        "  validation_data=(X_test, y_test)\n",
        ")"
      ],
      "execution_count": null,
      "outputs": [
        {
          "output_type": "stream",
          "text": [
            "Epoch 1/25\n",
            "10000/10000 [==============================] - 15s 1ms/step - loss: 0.8096 - accuracy: 0.7529 - val_loss: 0.5774 - val_accuracy: 0.8255\n",
            "Epoch 2/25\n",
            "10000/10000 [==============================] - 15s 2ms/step - loss: 0.5453 - accuracy: 0.8354 - val_loss: 0.5228 - val_accuracy: 0.8419\n",
            "Epoch 3/25\n",
            "10000/10000 [==============================] - 15s 2ms/step - loss: 0.4698 - accuracy: 0.8568 - val_loss: 0.4841 - val_accuracy: 0.8514\n",
            "Epoch 4/25\n",
            "10000/10000 [==============================] - 14s 1ms/step - loss: 0.4223 - accuracy: 0.8713 - val_loss: 0.4546 - val_accuracy: 0.8617\n",
            "Epoch 5/25\n",
            "10000/10000 [==============================] - 14s 1ms/step - loss: 0.3866 - accuracy: 0.8826 - val_loss: 0.4469 - val_accuracy: 0.8651\n",
            "Epoch 6/25\n",
            "10000/10000 [==============================] - 15s 1ms/step - loss: 0.3587 - accuracy: 0.8911 - val_loss: 0.4478 - val_accuracy: 0.8694\n",
            "Epoch 7/25\n",
            "10000/10000 [==============================] - 14s 1ms/step - loss: 0.3356 - accuracy: 0.8987 - val_loss: 0.4418 - val_accuracy: 0.8711\n",
            "Epoch 8/25\n",
            "10000/10000 [==============================] - 15s 1ms/step - loss: 0.3149 - accuracy: 0.9043 - val_loss: 0.4523 - val_accuracy: 0.8674\n",
            "Epoch 9/25\n",
            "10000/10000 [==============================] - 14s 1ms/step - loss: 0.2957 - accuracy: 0.9091 - val_loss: 0.4524 - val_accuracy: 0.8679\n",
            "Epoch 10/25\n",
            "10000/10000 [==============================] - 15s 1ms/step - loss: 0.2791 - accuracy: 0.9150 - val_loss: 0.4522 - val_accuracy: 0.8677\n",
            "Epoch 11/25\n",
            "10000/10000 [==============================] - 14s 1ms/step - loss: 0.2636 - accuracy: 0.9196 - val_loss: 0.4589 - val_accuracy: 0.8697\n",
            "Epoch 12/25\n",
            "10000/10000 [==============================] - 14s 1ms/step - loss: 0.2499 - accuracy: 0.9240 - val_loss: 0.4726 - val_accuracy: 0.8676\n",
            "Epoch 13/25\n",
            "10000/10000 [==============================] - 15s 1ms/step - loss: 0.2373 - accuracy: 0.9278 - val_loss: 0.4777 - val_accuracy: 0.8685\n",
            "Epoch 14/25\n",
            "10000/10000 [==============================] - 15s 1ms/step - loss: 0.2249 - accuracy: 0.9308 - val_loss: 0.5065 - val_accuracy: 0.8669\n",
            "Epoch 15/25\n",
            "10000/10000 [==============================] - 15s 1ms/step - loss: 0.2146 - accuracy: 0.9339 - val_loss: 0.5034 - val_accuracy: 0.8676\n",
            "Epoch 16/25\n",
            "10000/10000 [==============================] - 15s 1ms/step - loss: 0.2056 - accuracy: 0.9368 - val_loss: 0.5226 - val_accuracy: 0.8671\n",
            "Epoch 17/25\n",
            "10000/10000 [==============================] - 15s 1ms/step - loss: 0.1941 - accuracy: 0.9398 - val_loss: 0.5528 - val_accuracy: 0.8661\n",
            "Epoch 18/25\n",
            "10000/10000 [==============================] - 15s 1ms/step - loss: 0.1863 - accuracy: 0.9423 - val_loss: 0.5693 - val_accuracy: 0.8622\n",
            "Epoch 19/25\n",
            "10000/10000 [==============================] - 15s 1ms/step - loss: 0.1769 - accuracy: 0.9450 - val_loss: 0.5515 - val_accuracy: 0.8690\n",
            "Epoch 20/25\n",
            "10000/10000 [==============================] - 15s 1ms/step - loss: 0.1711 - accuracy: 0.9462 - val_loss: 0.5800 - val_accuracy: 0.8626\n",
            "Epoch 21/25\n",
            "10000/10000 [==============================] - 15s 1ms/step - loss: 0.1627 - accuracy: 0.9492 - val_loss: 0.6083 - val_accuracy: 0.8629\n",
            "Epoch 22/25\n",
            "10000/10000 [==============================] - 15s 1ms/step - loss: 0.1555 - accuracy: 0.9521 - val_loss: 0.6217 - val_accuracy: 0.8634\n",
            "Epoch 23/25\n",
            "10000/10000 [==============================] - 15s 2ms/step - loss: 0.1504 - accuracy: 0.9524 - val_loss: 0.6624 - val_accuracy: 0.8587\n",
            "Epoch 24/25\n",
            "10000/10000 [==============================] - 15s 2ms/step - loss: 0.1448 - accuracy: 0.9538 - val_loss: 0.6726 - val_accuracy: 0.8609\n",
            "Epoch 25/25\n",
            "10000/10000 [==============================] - 14s 1ms/step - loss: 0.1385 - accuracy: 0.9560 - val_loss: 0.6997 - val_accuracy: 0.8569\n"
          ],
          "name": "stdout"
        }
      ]
    },
    {
      "cell_type": "code",
      "metadata": {
        "colab": {
          "base_uri": "https://localhost:8080/"
        },
        "id": "kXpOcGB_x35o",
        "outputId": "19dda46a-196f-499f-a83b-dacff08a7416"
      },
      "source": [
        "\n",
        "# Use function to create a default model\n",
        "model = create_model('relu', 0.01, SGD)\n",
        "\n",
        "# Batch size experiment #6\n",
        "bs128 = model.fit(\n",
        "  X_train, y_train,\n",
        "  epochs=25,\n",
        "  batch_size=128,\n",
        "  validation_data=(X_test, y_test)\n",
        ")"
      ],
      "execution_count": null,
      "outputs": [
        {
          "output_type": "stream",
          "text": [
            "Epoch 1/25\n",
            "625/625 [==============================] - 2s 3ms/step - loss: 1.6880 - accuracy: 0.4338 - val_loss: 1.1792 - val_accuracy: 0.6385\n",
            "Epoch 2/25\n",
            "625/625 [==============================] - 2s 3ms/step - loss: 1.0372 - accuracy: 0.6882 - val_loss: 0.9137 - val_accuracy: 0.7286\n",
            "Epoch 3/25\n",
            "625/625 [==============================] - 2s 3ms/step - loss: 0.8823 - accuracy: 0.7394 - val_loss: 0.8251 - val_accuracy: 0.7584\n",
            "Epoch 4/25\n",
            "625/625 [==============================] - 2s 3ms/step - loss: 0.8145 - accuracy: 0.7640 - val_loss: 0.7762 - val_accuracy: 0.7720\n",
            "Epoch 5/25\n",
            "625/625 [==============================] - 2s 3ms/step - loss: 0.7701 - accuracy: 0.7778 - val_loss: 0.7391 - val_accuracy: 0.7850\n",
            "Epoch 6/25\n",
            "625/625 [==============================] - 2s 3ms/step - loss: 0.7356 - accuracy: 0.7876 - val_loss: 0.7128 - val_accuracy: 0.7922\n",
            "Epoch 7/25\n",
            "625/625 [==============================] - 2s 3ms/step - loss: 0.7058 - accuracy: 0.7960 - val_loss: 0.6855 - val_accuracy: 0.8007\n",
            "Epoch 8/25\n",
            "625/625 [==============================] - 2s 3ms/step - loss: 0.6799 - accuracy: 0.8024 - val_loss: 0.6636 - val_accuracy: 0.8076\n",
            "Epoch 9/25\n",
            "625/625 [==============================] - 2s 3ms/step - loss: 0.6571 - accuracy: 0.8096 - val_loss: 0.6498 - val_accuracy: 0.8104\n",
            "Epoch 10/25\n",
            "625/625 [==============================] - 2s 3ms/step - loss: 0.6356 - accuracy: 0.8148 - val_loss: 0.6300 - val_accuracy: 0.8165\n",
            "Epoch 11/25\n",
            "625/625 [==============================] - 2s 3ms/step - loss: 0.6164 - accuracy: 0.8207 - val_loss: 0.6127 - val_accuracy: 0.8206\n",
            "Epoch 12/25\n",
            "625/625 [==============================] - 2s 3ms/step - loss: 0.5981 - accuracy: 0.8256 - val_loss: 0.6020 - val_accuracy: 0.8235\n",
            "Epoch 13/25\n",
            "625/625 [==============================] - 2s 3ms/step - loss: 0.5821 - accuracy: 0.8294 - val_loss: 0.5855 - val_accuracy: 0.8281\n",
            "Epoch 14/25\n",
            "625/625 [==============================] - 2s 3ms/step - loss: 0.5674 - accuracy: 0.8335 - val_loss: 0.5837 - val_accuracy: 0.8284\n",
            "Epoch 15/25\n",
            "625/625 [==============================] - 2s 3ms/step - loss: 0.5538 - accuracy: 0.8372 - val_loss: 0.5660 - val_accuracy: 0.8328\n",
            "Epoch 16/25\n",
            "625/625 [==============================] - 2s 3ms/step - loss: 0.5416 - accuracy: 0.8405 - val_loss: 0.5553 - val_accuracy: 0.8362\n",
            "Epoch 17/25\n",
            "625/625 [==============================] - 2s 3ms/step - loss: 0.5297 - accuracy: 0.8443 - val_loss: 0.5481 - val_accuracy: 0.8388\n",
            "Epoch 18/25\n",
            "625/625 [==============================] - 2s 3ms/step - loss: 0.5188 - accuracy: 0.8467 - val_loss: 0.5385 - val_accuracy: 0.8409\n",
            "Epoch 19/25\n",
            "625/625 [==============================] - 2s 3ms/step - loss: 0.5084 - accuracy: 0.8497 - val_loss: 0.5344 - val_accuracy: 0.8415\n",
            "Epoch 20/25\n",
            "625/625 [==============================] - 2s 3ms/step - loss: 0.4988 - accuracy: 0.8532 - val_loss: 0.5334 - val_accuracy: 0.8421\n",
            "Epoch 21/25\n",
            "625/625 [==============================] - 2s 3ms/step - loss: 0.4900 - accuracy: 0.8553 - val_loss: 0.5184 - val_accuracy: 0.8464\n",
            "Epoch 22/25\n",
            "625/625 [==============================] - 2s 3ms/step - loss: 0.4816 - accuracy: 0.8584 - val_loss: 0.5166 - val_accuracy: 0.8478\n",
            "Epoch 23/25\n",
            "625/625 [==============================] - 2s 3ms/step - loss: 0.4732 - accuracy: 0.8606 - val_loss: 0.5123 - val_accuracy: 0.8493\n",
            "Epoch 24/25\n",
            "625/625 [==============================] - 2s 3ms/step - loss: 0.4656 - accuracy: 0.8631 - val_loss: 0.5066 - val_accuracy: 0.8514\n",
            "Epoch 25/25\n",
            "625/625 [==============================] - 2s 3ms/step - loss: 0.4580 - accuracy: 0.8653 - val_loss: 0.5057 - val_accuracy: 0.8506\n"
          ],
          "name": "stdout"
        }
      ]
    },
    {
      "cell_type": "code",
      "metadata": {
        "colab": {
          "base_uri": "https://localhost:8080/",
          "height": 198
        },
        "id": "ksXAW4PhyElk",
        "outputId": "303f4aca-376a-40f9-be63-d7ce653d00ed"
      },
      "source": [
        "batch_sizes = []\n",
        "\n",
        "for exp, result in zip([bs8, bs32, bs64, bs128, bs256, bs512], \n",
        "                       [\"8_\", \"32_\", \"64_\", \"128_\", \"256_\", \"512_\"]):\n",
        "    df = pd.DataFrame.from_dict(exp.history)\n",
        "    df['epoch'] = df.index.values\n",
        "    df['Batch Size'] = result\n",
        "    batch_sizes.append(df)\n",
        "\n",
        "df = pd.concat(batch_sizes)\n",
        "df['Batch Size'] = df['Batch Size'].astype('str')\n",
        "df.head()"
      ],
      "execution_count": null,
      "outputs": [
        {
          "output_type": "execute_result",
          "data": {
            "text/html": [
              "<div>\n",
              "<style scoped>\n",
              "    .dataframe tbody tr th:only-of-type {\n",
              "        vertical-align: middle;\n",
              "    }\n",
              "\n",
              "    .dataframe tbody tr th {\n",
              "        vertical-align: top;\n",
              "    }\n",
              "\n",
              "    .dataframe thead th {\n",
              "        text-align: right;\n",
              "    }\n",
              "</style>\n",
              "<table border=\"1\" class=\"dataframe\">\n",
              "  <thead>\n",
              "    <tr style=\"text-align: right;\">\n",
              "      <th></th>\n",
              "      <th>loss</th>\n",
              "      <th>accuracy</th>\n",
              "      <th>val_loss</th>\n",
              "      <th>val_accuracy</th>\n",
              "      <th>epoch</th>\n",
              "      <th>Batch Size</th>\n",
              "    </tr>\n",
              "  </thead>\n",
              "  <tbody>\n",
              "    <tr>\n",
              "      <th>0</th>\n",
              "      <td>0.809606</td>\n",
              "      <td>0.752925</td>\n",
              "      <td>0.577359</td>\n",
              "      <td>0.82550</td>\n",
              "      <td>0</td>\n",
              "      <td>8_</td>\n",
              "    </tr>\n",
              "    <tr>\n",
              "      <th>1</th>\n",
              "      <td>0.545264</td>\n",
              "      <td>0.835375</td>\n",
              "      <td>0.522800</td>\n",
              "      <td>0.84190</td>\n",
              "      <td>1</td>\n",
              "      <td>8_</td>\n",
              "    </tr>\n",
              "    <tr>\n",
              "      <th>2</th>\n",
              "      <td>0.469756</td>\n",
              "      <td>0.856812</td>\n",
              "      <td>0.484097</td>\n",
              "      <td>0.85140</td>\n",
              "      <td>2</td>\n",
              "      <td>8_</td>\n",
              "    </tr>\n",
              "    <tr>\n",
              "      <th>3</th>\n",
              "      <td>0.422279</td>\n",
              "      <td>0.871350</td>\n",
              "      <td>0.454624</td>\n",
              "      <td>0.86170</td>\n",
              "      <td>3</td>\n",
              "      <td>8_</td>\n",
              "    </tr>\n",
              "    <tr>\n",
              "      <th>4</th>\n",
              "      <td>0.386627</td>\n",
              "      <td>0.882600</td>\n",
              "      <td>0.446885</td>\n",
              "      <td>0.86515</td>\n",
              "      <td>4</td>\n",
              "      <td>8_</td>\n",
              "    </tr>\n",
              "  </tbody>\n",
              "</table>\n",
              "</div>"
            ],
            "text/plain": [
              "       loss  accuracy  val_loss  val_accuracy  epoch Batch Size\n",
              "0  0.809606  0.752925  0.577359       0.82550      0         8_\n",
              "1  0.545264  0.835375  0.522800       0.84190      1         8_\n",
              "2  0.469756  0.856812  0.484097       0.85140      2         8_\n",
              "3  0.422279  0.871350  0.454624       0.86170      3         8_\n",
              "4  0.386627  0.882600  0.446885       0.86515      4         8_"
            ]
          },
          "metadata": {
            "tags": []
          },
          "execution_count": 11
        }
      ]
    },
    {
      "cell_type": "code",
      "metadata": {
        "colab": {
          "base_uri": "https://localhost:8080/",
          "height": 285
        },
        "id": "XGJCpxWKyIup",
        "outputId": "66f73ae2-808f-40e0-d8e7-919a0e28a7b1"
      },
      "source": [
        "sns.lineplot(x='epoch', y='val_accuracy', hue='Batch Size', data=df);"
      ],
      "execution_count": null,
      "outputs": [
        {
          "output_type": "display_data",
          "data": {
            "image/png": "[encoded data removed]",
            "text/plain": [
              "<Figure size 432x288 with 1 Axes>"
            ]
          },
          "metadata": {
            "tags": [],
            "needs_background": "light"
          }
        }
      ]
    },
    {
      "cell_type": "code",
      "metadata": {
        "colab": {
          "base_uri": "https://localhost:8080/",
          "height": 444
        },
        "id": "A1t_pnIYyNLx",
        "outputId": "67ebaef4-dd36-428e-edd0-f7ad57a535c2"
      },
      "source": [
        "sns.lineplot(x='Batch Size', y='val_accuracy', data=df, c='b')\n",
        "sns.lineplot(x='Batch Size', y='accuracy', data=df, c='g');"
      ],
      "execution_count": null,
      "outputs": [
        {
          "output_type": "stream",
          "text": [
            "/usr/local/lib/python3.6/dist-packages/seaborn/relational.py:507: MatplotlibDeprecationWarning: Saw kwargs ['c', 'color'] which are all aliases for 'color'.  Kept value from 'color'.  Passing multiple aliases for the same property will raise a TypeError in 3.3.\n",
            "  line, = ax.plot([], [], **kws)\n",
            "/usr/local/lib/python3.6/dist-packages/seaborn/relational.py:522: MatplotlibDeprecationWarning: Saw kwargs ['c', 'color'] which are all aliases for 'color'.  Kept value from 'color'.  Passing multiple aliases for the same property will raise a TypeError in 3.3.\n",
            "  line, = ax.plot(x, y, **kws)\n",
            "/usr/local/lib/python3.6/dist-packages/seaborn/relational.py:507: MatplotlibDeprecationWarning: Saw kwargs ['c', 'color'] which are all aliases for 'color'.  Kept value from 'color'.  Passing multiple aliases for the same property will raise a TypeError in 3.3.\n",
            "  line, = ax.plot([], [], **kws)\n",
            "/usr/local/lib/python3.6/dist-packages/seaborn/relational.py:522: MatplotlibDeprecationWarning: Saw kwargs ['c', 'color'] which are all aliases for 'color'.  Kept value from 'color'.  Passing multiple aliases for the same property will raise a TypeError in 3.3.\n",
            "  line, = ax.plot(x, y, **kws)\n"
          ],
          "name": "stderr"
        },
        {
          "output_type": "display_data",
          "data": {
            "image/png": "[encoded data removed]",
            "text/plain": [
              "<Figure size 432x288 with 1 Axes>"
            ]
          },
          "metadata": {
            "tags": [],
            "needs_background": "light"
          }
        }
      ]
    },
    {
      "cell_type": "markdown",
      "metadata": {
        "id": "8b-r70o8p2Dm"
      },
      "source": [
        "### Experiment with Learning Rate\n",
        "* Run 5 experiments with various learning rate magnitudes: 1, .1, .01, .001, .0001.\n",
        "* Use the \"best\" batch size from the previous experiment\n",
        "* Visualize the results\n",
        "* Write up an analysis of the experiments and select the \"best\" performing model among your experiments. Make sure to compare against the previous experiments and your model's performance yesterday. "
      ]
    },
    {
      "cell_type": "code",
      "metadata": {
        "id": "_SA144xx8Luf",
        "colab": {
          "base_uri": "https://localhost:8080/"
        },
        "outputId": "8654b25f-15ba-47f1-87e2-708b87e79bd2"
      },
      "source": [
        "\n",
        "# Use function to create a default model\n",
        "model = create_model('relu', 0.1, SGD)\n",
        "\n",
        "# Learning Rate experiment #1\n",
        "bs64_1 = model.fit(\n",
        "  X_train, y_train,\n",
        "  epochs=20,\n",
        "  batch_size=64,\n",
        "  validation_data=(X_test, y_test)\n",
        ")"
      ],
      "execution_count": null,
      "outputs": [
        {
          "output_type": "stream",
          "text": [
            "Epoch 1/20\n",
            "1250/1250 [==============================] - 3s 2ms/step - loss: 0.7717 - accuracy: 0.7604 - val_loss: 0.5655 - val_accuracy: 0.8292\n",
            "Epoch 2/20\n",
            "1250/1250 [==============================] - 3s 2ms/step - loss: 0.5234 - accuracy: 0.8402 - val_loss: 0.4856 - val_accuracy: 0.8521\n",
            "Epoch 3/20\n",
            "1250/1250 [==============================] - 3s 2ms/step - loss: 0.4537 - accuracy: 0.8616 - val_loss: 0.4753 - val_accuracy: 0.8579\n",
            "Epoch 4/20\n",
            "1250/1250 [==============================] - 3s 2ms/step - loss: 0.4080 - accuracy: 0.8758 - val_loss: 0.4492 - val_accuracy: 0.8625\n",
            "Epoch 5/20\n",
            "1250/1250 [==============================] - 3s 2ms/step - loss: 0.3739 - accuracy: 0.8855 - val_loss: 0.4618 - val_accuracy: 0.8618\n",
            "Epoch 6/20\n",
            "1250/1250 [==============================] - 3s 2ms/step - loss: 0.3465 - accuracy: 0.8925 - val_loss: 0.4322 - val_accuracy: 0.8709\n",
            "Epoch 7/20\n",
            "1250/1250 [==============================] - 3s 2ms/step - loss: 0.3236 - accuracy: 0.9005 - val_loss: 0.4344 - val_accuracy: 0.8706\n",
            "Epoch 8/20\n",
            "1250/1250 [==============================] - 3s 2ms/step - loss: 0.3053 - accuracy: 0.9061 - val_loss: 0.4718 - val_accuracy: 0.8592\n",
            "Epoch 9/20\n",
            "1250/1250 [==============================] - 3s 2ms/step - loss: 0.2864 - accuracy: 0.9118 - val_loss: 0.4629 - val_accuracy: 0.8695\n",
            "Epoch 10/20\n",
            "1250/1250 [==============================] - 3s 2ms/step - loss: 0.2701 - accuracy: 0.9170 - val_loss: 0.4763 - val_accuracy: 0.8691\n",
            "Epoch 11/20\n",
            "1250/1250 [==============================] - 3s 2ms/step - loss: 0.2569 - accuracy: 0.9203 - val_loss: 0.4804 - val_accuracy: 0.8640\n",
            "Epoch 12/20\n",
            "1250/1250 [==============================] - 3s 2ms/step - loss: 0.2424 - accuracy: 0.9243 - val_loss: 0.5046 - val_accuracy: 0.8648\n",
            "Epoch 13/20\n",
            "1250/1250 [==============================] - 3s 2ms/step - loss: 0.2285 - accuracy: 0.9296 - val_loss: 0.4950 - val_accuracy: 0.8680\n",
            "Epoch 14/20\n",
            "1250/1250 [==============================] - 3s 2ms/step - loss: 0.2189 - accuracy: 0.9315 - val_loss: 0.4947 - val_accuracy: 0.8691\n",
            "Epoch 15/20\n",
            "1250/1250 [==============================] - 3s 2ms/step - loss: 0.2067 - accuracy: 0.9358 - val_loss: 0.5245 - val_accuracy: 0.8652\n",
            "Epoch 16/20\n",
            "1250/1250 [==============================] - 3s 2ms/step - loss: 0.1990 - accuracy: 0.9380 - val_loss: 0.5488 - val_accuracy: 0.8610\n",
            "Epoch 17/20\n",
            "1250/1250 [==============================] - 3s 2ms/step - loss: 0.1894 - accuracy: 0.9409 - val_loss: 0.5591 - val_accuracy: 0.8648\n",
            "Epoch 18/20\n",
            "1250/1250 [==============================] - 3s 2ms/step - loss: 0.1839 - accuracy: 0.9418 - val_loss: 0.5570 - val_accuracy: 0.8620\n",
            "Epoch 19/20\n",
            "1250/1250 [==============================] - 3s 2ms/step - loss: 0.1728 - accuracy: 0.9447 - val_loss: 0.5785 - val_accuracy: 0.8622\n",
            "Epoch 20/20\n",
            "1250/1250 [==============================] - 3s 2ms/step - loss: 0.1691 - accuracy: 0.9455 - val_loss: 0.5902 - val_accuracy: 0.8647\n"
          ],
          "name": "stdout"
        }
      ]
    },
    {
      "cell_type": "code",
      "metadata": {
        "colab": {
          "base_uri": "https://localhost:8080/"
        },
        "id": "t4XtpDHXyW-4",
        "outputId": "25e2afed-af5a-4686-88f8-746881306002"
      },
      "source": [
        "# Use function to create a default model\n",
        "model = create_model('relu', 0.25, SGD)\n",
        "\n",
        "# Learning Rate experiment #2\n",
        "bs64_25 = model.fit(\n",
        "  X_train, y_train,\n",
        "  epochs=20,\n",
        "  batch_size=64,\n",
        "  validation_data=(X_test, y_test)\n",
        ")"
      ],
      "execution_count": null,
      "outputs": [
        {
          "output_type": "stream",
          "text": [
            "Epoch 1/20\n",
            "1250/1250 [==============================] - 3s 2ms/step - loss: 0.7323 - accuracy: 0.7705 - val_loss: 0.5443 - val_accuracy: 0.8345\n",
            "Epoch 2/20\n",
            "1250/1250 [==============================] - 3s 2ms/step - loss: 0.4950 - accuracy: 0.8486 - val_loss: 0.4810 - val_accuracy: 0.8548\n",
            "Epoch 3/20\n",
            "1250/1250 [==============================] - 3s 2ms/step - loss: 0.4292 - accuracy: 0.8690 - val_loss: 0.4921 - val_accuracy: 0.8512\n",
            "Epoch 4/20\n",
            "1250/1250 [==============================] - 3s 2ms/step - loss: 0.3889 - accuracy: 0.8802 - val_loss: 0.4420 - val_accuracy: 0.8685\n",
            "Epoch 5/20\n",
            "1250/1250 [==============================] - 3s 2ms/step - loss: 0.3586 - accuracy: 0.8906 - val_loss: 0.4469 - val_accuracy: 0.8702\n",
            "Epoch 6/20\n",
            "1250/1250 [==============================] - 3s 2ms/step - loss: 0.3321 - accuracy: 0.8981 - val_loss: 0.4481 - val_accuracy: 0.8719\n",
            "Epoch 7/20\n",
            "1250/1250 [==============================] - 3s 2ms/step - loss: 0.3128 - accuracy: 0.9029 - val_loss: 0.4446 - val_accuracy: 0.8750\n",
            "Epoch 8/20\n",
            "1250/1250 [==============================] - 3s 2ms/step - loss: 0.2945 - accuracy: 0.9090 - val_loss: 0.4624 - val_accuracy: 0.8736\n",
            "Epoch 9/20\n",
            "1250/1250 [==============================] - 3s 2ms/step - loss: 0.2807 - accuracy: 0.9120 - val_loss: 0.4595 - val_accuracy: 0.8706\n",
            "Epoch 10/20\n",
            "1250/1250 [==============================] - 3s 2ms/step - loss: 0.2669 - accuracy: 0.9165 - val_loss: 0.4820 - val_accuracy: 0.8676\n",
            "Epoch 11/20\n",
            "1250/1250 [==============================] - 3s 2ms/step - loss: 0.2501 - accuracy: 0.9226 - val_loss: 0.4756 - val_accuracy: 0.8704\n",
            "Epoch 12/20\n",
            "1250/1250 [==============================] - 3s 2ms/step - loss: 0.2388 - accuracy: 0.9256 - val_loss: 0.5166 - val_accuracy: 0.8645\n",
            "Epoch 13/20\n",
            "1250/1250 [==============================] - 3s 2ms/step - loss: 0.2297 - accuracy: 0.9287 - val_loss: 0.5111 - val_accuracy: 0.8745\n",
            "Epoch 14/20\n",
            "1250/1250 [==============================] - 3s 2ms/step - loss: 0.2194 - accuracy: 0.9313 - val_loss: 0.5114 - val_accuracy: 0.8693\n",
            "Epoch 15/20\n",
            "1250/1250 [==============================] - 3s 2ms/step - loss: 0.2117 - accuracy: 0.9334 - val_loss: 0.5448 - val_accuracy: 0.8677\n",
            "Epoch 16/20\n",
            "1250/1250 [==============================] - 3s 3ms/step - loss: 0.2039 - accuracy: 0.9357 - val_loss: 0.5427 - val_accuracy: 0.8716\n",
            "Epoch 17/20\n",
            "1250/1250 [==============================] - 3s 3ms/step - loss: 0.1964 - accuracy: 0.9379 - val_loss: 0.5288 - val_accuracy: 0.8655\n",
            "Epoch 18/20\n",
            "1250/1250 [==============================] - 3s 3ms/step - loss: 0.1903 - accuracy: 0.9394 - val_loss: 0.5685 - val_accuracy: 0.8659\n",
            "Epoch 19/20\n",
            "1250/1250 [==============================] - 3s 2ms/step - loss: 0.1826 - accuracy: 0.9419 - val_loss: 0.6116 - val_accuracy: 0.8690\n",
            "Epoch 20/20\n",
            "1250/1250 [==============================] - 3s 2ms/step - loss: 0.1773 - accuracy: 0.9441 - val_loss: 0.6010 - val_accuracy: 0.8671\n"
          ],
          "name": "stdout"
        }
      ]
    },
    {
      "cell_type": "code",
      "metadata": {
        "colab": {
          "base_uri": "https://localhost:8080/"
        },
        "id": "1b2RvmLIygfH",
        "outputId": "14c4e628-3675-471e-d290-6a5ebf5bb14c"
      },
      "source": [
        "\n",
        "# Use function to create a default model\n",
        "model = create_model('relu', 0.3, SGD)\n",
        "\n",
        "# Learning Rate experiment #3\n",
        "bs64_3 = model.fit(\n",
        "  X_train, y_train,\n",
        "  epochs=20,\n",
        "  batch_size=64,\n",
        "  validation_data=(X_test, y_test)\n",
        ")"
      ],
      "execution_count": null,
      "outputs": [
        {
          "output_type": "stream",
          "text": [
            "Epoch 1/20\n",
            "1250/1250 [==============================] - 3s 2ms/step - loss: 0.7147 - accuracy: 0.7764 - val_loss: 0.5377 - val_accuracy: 0.8353\n",
            "Epoch 2/20\n",
            "1250/1250 [==============================] - 3s 2ms/step - loss: 0.4950 - accuracy: 0.8475 - val_loss: 0.4749 - val_accuracy: 0.8554\n",
            "Epoch 3/20\n",
            "1250/1250 [==============================] - 3s 2ms/step - loss: 0.4299 - accuracy: 0.8676 - val_loss: 0.4606 - val_accuracy: 0.8570\n",
            "Epoch 4/20\n",
            "1250/1250 [==============================] - 3s 2ms/step - loss: 0.3887 - accuracy: 0.8802 - val_loss: 0.4605 - val_accuracy: 0.8605\n",
            "Epoch 5/20\n",
            "1250/1250 [==============================] - 3s 2ms/step - loss: 0.3592 - accuracy: 0.8897 - val_loss: 0.4617 - val_accuracy: 0.8658\n",
            "Epoch 6/20\n",
            "1250/1250 [==============================] - 3s 2ms/step - loss: 0.3350 - accuracy: 0.8967 - val_loss: 0.4433 - val_accuracy: 0.8681\n",
            "Epoch 7/20\n",
            "1250/1250 [==============================] - 3s 2ms/step - loss: 0.3130 - accuracy: 0.9040 - val_loss: 0.4565 - val_accuracy: 0.8655\n",
            "Epoch 8/20\n",
            "1250/1250 [==============================] - 3s 2ms/step - loss: 0.2984 - accuracy: 0.9071 - val_loss: 0.4674 - val_accuracy: 0.8666\n",
            "Epoch 9/20\n",
            "1250/1250 [==============================] - 3s 2ms/step - loss: 0.2828 - accuracy: 0.9117 - val_loss: 0.4862 - val_accuracy: 0.8627\n",
            "Epoch 10/20\n",
            "1250/1250 [==============================] - 3s 2ms/step - loss: 0.2678 - accuracy: 0.9160 - val_loss: 0.4969 - val_accuracy: 0.8626\n",
            "Epoch 11/20\n",
            "1250/1250 [==============================] - 3s 2ms/step - loss: 0.2587 - accuracy: 0.9190 - val_loss: 0.5605 - val_accuracy: 0.8561\n",
            "Epoch 12/20\n",
            "1250/1250 [==============================] - 3s 2ms/step - loss: 0.2442 - accuracy: 0.9234 - val_loss: 0.5081 - val_accuracy: 0.8669\n",
            "Epoch 13/20\n",
            "1250/1250 [==============================] - 3s 2ms/step - loss: 0.2367 - accuracy: 0.9257 - val_loss: 0.5320 - val_accuracy: 0.8668\n",
            "Epoch 14/20\n",
            "1250/1250 [==============================] - 3s 2ms/step - loss: 0.2275 - accuracy: 0.9279 - val_loss: 0.5138 - val_accuracy: 0.8682\n",
            "Epoch 15/20\n",
            "1250/1250 [==============================] - 3s 2ms/step - loss: 0.2181 - accuracy: 0.9316 - val_loss: 0.5613 - val_accuracy: 0.8648\n",
            "Epoch 16/20\n",
            "1250/1250 [==============================] - 3s 2ms/step - loss: 0.2094 - accuracy: 0.9338 - val_loss: 0.5560 - val_accuracy: 0.8609\n",
            "Epoch 17/20\n",
            "1250/1250 [==============================] - 3s 2ms/step - loss: 0.2033 - accuracy: 0.9359 - val_loss: 0.5836 - val_accuracy: 0.8589\n",
            "Epoch 18/20\n",
            "1250/1250 [==============================] - 3s 2ms/step - loss: 0.1956 - accuracy: 0.9383 - val_loss: 0.5876 - val_accuracy: 0.8581\n",
            "Epoch 19/20\n",
            "1250/1250 [==============================] - 3s 2ms/step - loss: 0.1905 - accuracy: 0.9397 - val_loss: 0.5808 - val_accuracy: 0.8646\n",
            "Epoch 20/20\n",
            "1250/1250 [==============================] - 3s 2ms/step - loss: 0.1848 - accuracy: 0.9412 - val_loss: 0.6199 - val_accuracy: 0.8645\n"
          ],
          "name": "stdout"
        }
      ]
    },
    {
      "cell_type": "code",
      "metadata": {
        "colab": {
          "base_uri": "https://localhost:8080/"
        },
        "id": "C680cLuIykhT",
        "outputId": "6a171ee6-28e4-4791-ec50-08248e47a2d2"
      },
      "source": [
        "# Use function to create a default model\n",
        "model = create_model('relu', 0.001, SGD)\n",
        "\n",
        "# Learning Rate experiment #4\n",
        "bs64_001 = model.fit(\n",
        "  X_train, y_train,\n",
        "  epochs=20,\n",
        "  batch_size=64,\n",
        "  validation_data=(X_test, y_test)\n",
        ")"
      ],
      "execution_count": null,
      "outputs": [
        {
          "output_type": "stream",
          "text": [
            "Epoch 1/20\n",
            "1250/1250 [==============================] - 3s 2ms/step - loss: 2.2207 - accuracy: 0.2137 - val_loss: 2.0975 - val_accuracy: 0.3433\n",
            "Epoch 2/20\n",
            "1250/1250 [==============================] - 3s 2ms/step - loss: 1.9385 - accuracy: 0.4235 - val_loss: 1.7587 - val_accuracy: 0.4912\n",
            "Epoch 3/20\n",
            "1250/1250 [==============================] - 3s 2ms/step - loss: 1.5894 - accuracy: 0.5231 - val_loss: 1.4337 - val_accuracy: 0.5535\n",
            "Epoch 4/20\n",
            "1250/1250 [==============================] - 3s 2ms/step - loss: 1.3372 - accuracy: 0.5905 - val_loss: 1.2475 - val_accuracy: 0.6194\n",
            "Epoch 5/20\n",
            "1250/1250 [==============================] - 3s 2ms/step - loss: 1.1949 - accuracy: 0.6389 - val_loss: 1.1341 - val_accuracy: 0.6548\n",
            "Epoch 6/20\n",
            "1250/1250 [==============================] - 3s 2ms/step - loss: 1.1002 - accuracy: 0.6708 - val_loss: 1.0519 - val_accuracy: 0.6830\n",
            "Epoch 7/20\n",
            "1250/1250 [==============================] - 3s 2ms/step - loss: 1.0303 - accuracy: 0.6933 - val_loss: 0.9904 - val_accuracy: 0.7025\n",
            "Epoch 8/20\n",
            "1250/1250 [==============================] - 3s 2ms/step - loss: 0.9780 - accuracy: 0.7097 - val_loss: 0.9450 - val_accuracy: 0.7196\n",
            "Epoch 9/20\n",
            "1250/1250 [==============================] - 3s 2ms/step - loss: 0.9386 - accuracy: 0.7219 - val_loss: 0.9123 - val_accuracy: 0.7295\n",
            "Epoch 10/20\n",
            "1250/1250 [==============================] - 3s 2ms/step - loss: 0.9086 - accuracy: 0.7314 - val_loss: 0.8855 - val_accuracy: 0.7377\n",
            "Epoch 11/20\n",
            "1250/1250 [==============================] - 3s 2ms/step - loss: 0.8849 - accuracy: 0.7392 - val_loss: 0.8645 - val_accuracy: 0.7437\n",
            "Epoch 12/20\n",
            "1250/1250 [==============================] - 3s 2ms/step - loss: 0.8654 - accuracy: 0.7449 - val_loss: 0.8470 - val_accuracy: 0.7497\n",
            "Epoch 13/20\n",
            "1250/1250 [==============================] - 3s 2ms/step - loss: 0.8488 - accuracy: 0.7508 - val_loss: 0.8329 - val_accuracy: 0.7548\n",
            "Epoch 14/20\n",
            "1250/1250 [==============================] - 3s 2ms/step - loss: 0.8343 - accuracy: 0.7550 - val_loss: 0.8191 - val_accuracy: 0.7590\n",
            "Epoch 15/20\n",
            "1250/1250 [==============================] - 3s 2ms/step - loss: 0.8213 - accuracy: 0.7590 - val_loss: 0.8074 - val_accuracy: 0.7612\n",
            "Epoch 16/20\n",
            "1250/1250 [==============================] - 3s 2ms/step - loss: 0.8094 - accuracy: 0.7624 - val_loss: 0.7970 - val_accuracy: 0.7645\n",
            "Epoch 17/20\n",
            "1250/1250 [==============================] - 3s 2ms/step - loss: 0.7987 - accuracy: 0.7664 - val_loss: 0.7870 - val_accuracy: 0.7677\n",
            "Epoch 18/20\n",
            "1250/1250 [==============================] - 3s 2ms/step - loss: 0.7885 - accuracy: 0.7695 - val_loss: 0.7791 - val_accuracy: 0.7704\n",
            "Epoch 19/20\n",
            "1250/1250 [==============================] - 3s 2ms/step - loss: 0.7791 - accuracy: 0.7719 - val_loss: 0.7703 - val_accuracy: 0.7732\n",
            "Epoch 20/20\n",
            "1250/1250 [==============================] - 3s 2ms/step - loss: 0.7704 - accuracy: 0.7751 - val_loss: 0.7622 - val_accuracy: 0.7739\n"
          ],
          "name": "stdout"
        }
      ]
    },
    {
      "cell_type": "code",
      "metadata": {
        "colab": {
          "base_uri": "https://localhost:8080/"
        },
        "id": "_Rqn07SCyoLA",
        "outputId": "a20d28b6-fe6e-4256-a205-b4200a0f6a6a"
      },
      "source": [
        "\n",
        "# Use function to create a default model\n",
        "model = create_model('relu', 0.5, SGD)\n",
        "\n",
        "# Learning Rate experiment #5\n",
        "bs64_5 = model.fit(\n",
        "  X_train, y_train,\n",
        "  epochs=20,\n",
        "  batch_size=64,\n",
        "  validation_data=(X_test, y_test)\n",
        ")"
      ],
      "execution_count": null,
      "outputs": [
        {
          "output_type": "stream",
          "text": [
            "Epoch 1/20\n",
            "1250/1250 [==============================] - 3s 2ms/step - loss: 0.7316 - accuracy: 0.7705 - val_loss: 0.6619 - val_accuracy: 0.7987\n",
            "Epoch 2/20\n",
            "1250/1250 [==============================] - 3s 2ms/step - loss: 0.5039 - accuracy: 0.8450 - val_loss: 0.5131 - val_accuracy: 0.8482\n",
            "Epoch 3/20\n",
            "1250/1250 [==============================] - 3s 2ms/step - loss: 0.4461 - accuracy: 0.8632 - val_loss: 0.5116 - val_accuracy: 0.8485\n",
            "Epoch 4/20\n",
            "1250/1250 [==============================] - 3s 2ms/step - loss: 0.4102 - accuracy: 0.8741 - val_loss: 0.4794 - val_accuracy: 0.8529\n",
            "Epoch 5/20\n",
            "1250/1250 [==============================] - 3s 2ms/step - loss: 0.3813 - accuracy: 0.8821 - val_loss: 0.4751 - val_accuracy: 0.8601\n",
            "Epoch 6/20\n",
            "1250/1250 [==============================] - 3s 2ms/step - loss: 0.3565 - accuracy: 0.8904 - val_loss: 0.4607 - val_accuracy: 0.8622\n",
            "Epoch 7/20\n",
            "1250/1250 [==============================] - 3s 2ms/step - loss: 0.3377 - accuracy: 0.8944 - val_loss: 0.4626 - val_accuracy: 0.8673\n",
            "Epoch 8/20\n",
            "1250/1250 [==============================] - 3s 2ms/step - loss: 0.3232 - accuracy: 0.9003 - val_loss: 0.4788 - val_accuracy: 0.8687\n",
            "Epoch 9/20\n",
            "1250/1250 [==============================] - 3s 2ms/step - loss: 0.3087 - accuracy: 0.9038 - val_loss: 0.4685 - val_accuracy: 0.8670\n",
            "Epoch 10/20\n",
            "1250/1250 [==============================] - 3s 2ms/step - loss: 0.2953 - accuracy: 0.9075 - val_loss: 0.5043 - val_accuracy: 0.8652\n",
            "Epoch 11/20\n",
            "1250/1250 [==============================] - 3s 2ms/step - loss: 0.2838 - accuracy: 0.9122 - val_loss: 0.4955 - val_accuracy: 0.8688\n",
            "Epoch 12/20\n",
            "1250/1250 [==============================] - 3s 2ms/step - loss: 0.2729 - accuracy: 0.9153 - val_loss: 0.5359 - val_accuracy: 0.8644\n",
            "Epoch 13/20\n",
            "1250/1250 [==============================] - 3s 2ms/step - loss: 0.2646 - accuracy: 0.9181 - val_loss: 0.5061 - val_accuracy: 0.8679\n",
            "Epoch 14/20\n",
            "1250/1250 [==============================] - 3s 2ms/step - loss: 0.2543 - accuracy: 0.9212 - val_loss: 0.5127 - val_accuracy: 0.8687\n",
            "Epoch 15/20\n",
            "1250/1250 [==============================] - 3s 3ms/step - loss: 0.2462 - accuracy: 0.9230 - val_loss: 0.5383 - val_accuracy: 0.8674\n",
            "Epoch 16/20\n",
            "1250/1250 [==============================] - 3s 3ms/step - loss: 0.2384 - accuracy: 0.9261 - val_loss: 0.5453 - val_accuracy: 0.8626\n",
            "Epoch 17/20\n",
            "1250/1250 [==============================] - 3s 2ms/step - loss: 0.2374 - accuracy: 0.9264 - val_loss: 0.5494 - val_accuracy: 0.8644\n",
            "Epoch 18/20\n",
            "1250/1250 [==============================] - 3s 2ms/step - loss: 0.2293 - accuracy: 0.9284 - val_loss: 0.5740 - val_accuracy: 0.8577\n",
            "Epoch 19/20\n",
            "1250/1250 [==============================] - 3s 2ms/step - loss: 0.2241 - accuracy: 0.9305 - val_loss: 0.6047 - val_accuracy: 0.8594\n",
            "Epoch 20/20\n",
            "1250/1250 [==============================] - 3s 2ms/step - loss: 0.2194 - accuracy: 0.9315 - val_loss: 0.5759 - val_accuracy: 0.8650\n"
          ],
          "name": "stdout"
        }
      ]
    },
    {
      "cell_type": "code",
      "metadata": {
        "colab": {
          "base_uri": "https://localhost:8080/"
        },
        "id": "TAMdJbQgyrue",
        "outputId": "83f60b27-e007-4efa-9b9c-2a1d89e19b88"
      },
      "source": [
        "\n",
        "# Use function to create a default model\n",
        "model = create_model('relu', 0.75, SGD)\n",
        "\n",
        "# Learning Rate experiment #6\n",
        "bs64_75 = model.fit(\n",
        "  X_train, y_train,\n",
        "  epochs=20,\n",
        "  batch_size=64,\n",
        "  validation_data=(X_test, y_test)\n",
        ")"
      ],
      "execution_count": null,
      "outputs": [
        {
          "output_type": "stream",
          "text": [
            "Epoch 1/20\n",
            "1250/1250 [==============================] - 3s 2ms/step - loss: 0.8043 - accuracy: 0.7446 - val_loss: 0.5861 - val_accuracy: 0.8209\n",
            "Epoch 2/20\n",
            "1250/1250 [==============================] - 3s 2ms/step - loss: 0.5506 - accuracy: 0.8328 - val_loss: 0.5343 - val_accuracy: 0.8421\n",
            "Epoch 3/20\n",
            "1250/1250 [==============================] - 3s 2ms/step - loss: 0.4947 - accuracy: 0.8505 - val_loss: 0.5103 - val_accuracy: 0.8475\n",
            "Epoch 4/20\n",
            "1250/1250 [==============================] - 3s 2ms/step - loss: 0.4593 - accuracy: 0.8597 - val_loss: 0.5039 - val_accuracy: 0.8526\n",
            "Epoch 5/20\n",
            "1250/1250 [==============================] - 3s 2ms/step - loss: 0.4326 - accuracy: 0.8687 - val_loss: 0.5115 - val_accuracy: 0.8464\n",
            "Epoch 6/20\n",
            "1250/1250 [==============================] - 3s 2ms/step - loss: 0.4146 - accuracy: 0.8743 - val_loss: 0.5022 - val_accuracy: 0.8549\n",
            "Epoch 7/20\n",
            "1250/1250 [==============================] - 3s 2ms/step - loss: 0.3960 - accuracy: 0.8793 - val_loss: 0.5299 - val_accuracy: 0.8395\n",
            "Epoch 8/20\n",
            "1250/1250 [==============================] - 3s 2ms/step - loss: 0.3813 - accuracy: 0.8847 - val_loss: 0.5186 - val_accuracy: 0.8554\n",
            "Epoch 9/20\n",
            "1250/1250 [==============================] - 3s 2ms/step - loss: 0.3669 - accuracy: 0.8882 - val_loss: 0.4971 - val_accuracy: 0.8536\n",
            "Epoch 10/20\n",
            "1250/1250 [==============================] - 3s 2ms/step - loss: 0.3564 - accuracy: 0.8907 - val_loss: 0.5364 - val_accuracy: 0.8564\n",
            "Epoch 11/20\n",
            "1250/1250 [==============================] - 3s 2ms/step - loss: 0.3447 - accuracy: 0.8949 - val_loss: 0.5882 - val_accuracy: 0.8444\n",
            "Epoch 12/20\n",
            "1250/1250 [==============================] - 3s 2ms/step - loss: 0.3404 - accuracy: 0.8967 - val_loss: 0.5367 - val_accuracy: 0.8522\n",
            "Epoch 13/20\n",
            "1250/1250 [==============================] - 3s 2ms/step - loss: 0.3268 - accuracy: 0.9000 - val_loss: 0.5468 - val_accuracy: 0.8572\n",
            "Epoch 14/20\n",
            "1250/1250 [==============================] - 3s 2ms/step - loss: 0.3217 - accuracy: 0.9022 - val_loss: 0.5610 - val_accuracy: 0.8543\n",
            "Epoch 15/20\n",
            "1250/1250 [==============================] - 3s 2ms/step - loss: 0.3144 - accuracy: 0.9044 - val_loss: 0.5503 - val_accuracy: 0.8524\n",
            "Epoch 16/20\n",
            "1250/1250 [==============================] - 3s 2ms/step - loss: 0.3057 - accuracy: 0.9069 - val_loss: 0.5862 - val_accuracy: 0.8504\n",
            "Epoch 17/20\n",
            "1250/1250 [==============================] - 3s 2ms/step - loss: 0.2972 - accuracy: 0.9089 - val_loss: 0.5542 - val_accuracy: 0.8562\n",
            "Epoch 18/20\n",
            "1250/1250 [==============================] - 3s 2ms/step - loss: 0.2916 - accuracy: 0.9111 - val_loss: 0.5676 - val_accuracy: 0.8547\n",
            "Epoch 19/20\n",
            "1250/1250 [==============================] - 3s 2ms/step - loss: 0.2858 - accuracy: 0.9133 - val_loss: 0.5891 - val_accuracy: 0.8476\n",
            "Epoch 20/20\n",
            "1250/1250 [==============================] - 3s 2ms/step - loss: 0.2925 - accuracy: 0.9116 - val_loss: 0.6190 - val_accuracy: 0.8534\n"
          ],
          "name": "stdout"
        }
      ]
    },
    {
      "cell_type": "code",
      "metadata": {
        "colab": {
          "base_uri": "https://localhost:8080/",
          "height": 198
        },
        "id": "VJopXNc3y5_9",
        "outputId": "c01a2571-1de0-40e6-e68c-acdd241e6458"
      },
      "source": [
        "\n",
        "learning_rate = []\n",
        "\n",
        "for exp, result in zip([bs64_001, bs64_1, bs64_25, bs64_3, bs64_5, bs64_75], \n",
        "                       [\".001\", \".1\", \".25\", \".3\", \".5\", \".75\"]):\n",
        "    df = pd.DataFrame.from_dict(exp.history)\n",
        "    df['epoch'] = df.index.values\n",
        "    df['Learning Rate'] = result\n",
        "    learning_rate.append(df)\n",
        "\n",
        "df = pd.concat(learning_rate)\n",
        "df['Learning Rate'] = df['Learning Rate'].astype('str')\n",
        "df.head()"
      ],
      "execution_count": null,
      "outputs": [
        {
          "output_type": "execute_result",
          "data": {
            "text/html": [
              "<div>\n",
              "<style scoped>\n",
              "    .dataframe tbody tr th:only-of-type {\n",
              "        vertical-align: middle;\n",
              "    }\n",
              "\n",
              "    .dataframe tbody tr th {\n",
              "        vertical-align: top;\n",
              "    }\n",
              "\n",
              "    .dataframe thead th {\n",
              "        text-align: right;\n",
              "    }\n",
              "</style>\n",
              "<table border=\"1\" class=\"dataframe\">\n",
              "  <thead>\n",
              "    <tr style=\"text-align: right;\">\n",
              "      <th></th>\n",
              "      <th>loss</th>\n",
              "      <th>accuracy</th>\n",
              "      <th>val_loss</th>\n",
              "      <th>val_accuracy</th>\n",
              "      <th>epoch</th>\n",
              "      <th>Learning Rate</th>\n",
              "    </tr>\n",
              "  </thead>\n",
              "  <tbody>\n",
              "    <tr>\n",
              "      <th>0</th>\n",
              "      <td>2.220710</td>\n",
              "      <td>0.213650</td>\n",
              "      <td>2.097535</td>\n",
              "      <td>0.34335</td>\n",
              "      <td>0</td>\n",
              "      <td>.001</td>\n",
              "    </tr>\n",
              "    <tr>\n",
              "      <th>1</th>\n",
              "      <td>1.938467</td>\n",
              "      <td>0.423537</td>\n",
              "      <td>1.758717</td>\n",
              "      <td>0.49120</td>\n",
              "      <td>1</td>\n",
              "      <td>.001</td>\n",
              "    </tr>\n",
              "    <tr>\n",
              "      <th>2</th>\n",
              "      <td>1.589365</td>\n",
              "      <td>0.523125</td>\n",
              "      <td>1.433685</td>\n",
              "      <td>0.55350</td>\n",
              "      <td>2</td>\n",
              "      <td>.001</td>\n",
              "    </tr>\n",
              "    <tr>\n",
              "      <th>3</th>\n",
              "      <td>1.337235</td>\n",
              "      <td>0.590500</td>\n",
              "      <td>1.247513</td>\n",
              "      <td>0.61940</td>\n",
              "      <td>3</td>\n",
              "      <td>.001</td>\n",
              "    </tr>\n",
              "    <tr>\n",
              "      <th>4</th>\n",
              "      <td>1.194865</td>\n",
              "      <td>0.638875</td>\n",
              "      <td>1.134122</td>\n",
              "      <td>0.65480</td>\n",
              "      <td>4</td>\n",
              "      <td>.001</td>\n",
              "    </tr>\n",
              "  </tbody>\n",
              "</table>\n",
              "</div>"
            ],
            "text/plain": [
              "       loss  accuracy  val_loss  val_accuracy  epoch Learning Rate\n",
              "0  2.220710  0.213650  2.097535       0.34335      0          .001\n",
              "1  1.938467  0.423537  1.758717       0.49120      1          .001\n",
              "2  1.589365  0.523125  1.433685       0.55350      2          .001\n",
              "3  1.337235  0.590500  1.247513       0.61940      3          .001\n",
              "4  1.194865  0.638875  1.134122       0.65480      4          .001"
            ]
          },
          "metadata": {
            "tags": []
          },
          "execution_count": 20
        }
      ]
    },
    {
      "cell_type": "code",
      "metadata": {
        "colab": {
          "base_uri": "https://localhost:8080/",
          "height": 288
        },
        "id": "CztcaIWdzKyy",
        "outputId": "cb0fcc74-31eb-4559-9ffe-0bfeddb9988d"
      },
      "source": [
        "sns.lineplot(x='epoch', y='val_accuracy', hue='Learning Rate', data=df);"
      ],
      "execution_count": null,
      "outputs": [
        {
          "output_type": "display_data",
          "data": {
            "image/png": "[encoded data removed]",
            "text/plain": [
              "<Figure size 432x288 with 1 Axes>"
            ]
          },
          "metadata": {
            "tags": [],
            "needs_background": "light"
          }
        }
      ]
    },
    {
      "cell_type": "code",
      "metadata": {
        "colab": {
          "base_uri": "https://localhost:8080/",
          "height": 443
        },
        "id": "xiw5zV_vzHRX",
        "outputId": "304f74e4-cc45-4fe7-92df-4da3afce69d3"
      },
      "source": [
        "sns.lineplot(x='Learning Rate', y='val_accuracy', data=df, c='b')\n",
        "sns.lineplot(x='Learning Rate', y='accuracy', data=df, c='g');"
      ],
      "execution_count": null,
      "outputs": [
        {
          "output_type": "stream",
          "text": [
            "/usr/local/lib/python3.6/dist-packages/seaborn/relational.py:507: MatplotlibDeprecationWarning: Saw kwargs ['c', 'color'] which are all aliases for 'color'.  Kept value from 'color'.  Passing multiple aliases for the same property will raise a TypeError in 3.3.\n",
            "  line, = ax.plot([], [], **kws)\n",
            "/usr/local/lib/python3.6/dist-packages/seaborn/relational.py:522: MatplotlibDeprecationWarning: Saw kwargs ['c', 'color'] which are all aliases for 'color'.  Kept value from 'color'.  Passing multiple aliases for the same property will raise a TypeError in 3.3.\n",
            "  line, = ax.plot(x, y, **kws)\n",
            "/usr/local/lib/python3.6/dist-packages/seaborn/relational.py:507: MatplotlibDeprecationWarning: Saw kwargs ['c', 'color'] which are all aliases for 'color'.  Kept value from 'color'.  Passing multiple aliases for the same property will raise a TypeError in 3.3.\n",
            "  line, = ax.plot([], [], **kws)\n",
            "/usr/local/lib/python3.6/dist-packages/seaborn/relational.py:522: MatplotlibDeprecationWarning: Saw kwargs ['c', 'color'] which are all aliases for 'color'.  Kept value from 'color'.  Passing multiple aliases for the same property will raise a TypeError in 3.3.\n",
            "  line, = ax.plot(x, y, **kws)\n"
          ],
          "name": "stderr"
        },
        {
          "output_type": "display_data",
          "data": {
            "image/png": "[encoded data removed]",
            "text/plain": [
              "<Figure size 432x288 with 1 Axes>"
            ]
          },
          "metadata": {
            "tags": [],
            "needs_background": "light"
          }
        }
      ]
    },
    {
      "cell_type": "markdown",
      "metadata": {
        "id": "gxMtSRhV9Q7I"
      },
      "source": [
        "### Experiment with different Optimizers\n",
        "* Run 5 experiments with various optimizers available in TensorFlow. See list [here](https://www.tensorflow.org/api_docs/python/tf/keras/optimizers)\n",
        "* Visualize the results\n",
        "* Write up an analysis of the experiments and select the \"best\" performing model among your experiments. Make sure to compare against the previous experiments and your model's performance yesterday.\n",
        "* Repeat the experiment combining Learning Rate and different optimizers. Does the best performing model change? "
      ]
    },
    {
      "cell_type": "code",
      "metadata": {
        "colab": {
          "base_uri": "https://localhost:8080/"
        },
        "id": "_SWG-Adezr9L",
        "outputId": "9702bde6-f5fc-4889-8109-4163b3e098ed"
      },
      "source": [
        "\n",
        "# Use function to create a default model\n",
        "model = create_model('relu', 0.01, Adam)\n",
        "\n",
        "# Optimizer experiment #1\n",
        "bs64_Adam = model.fit(\n",
        "  X_train, y_train,\n",
        "  epochs=20,\n",
        "  batch_size=64,\n",
        "  validation_data=(X_test, y_test)\n",
        ")"
      ],
      "execution_count": null,
      "outputs": [
        {
          "output_type": "stream",
          "text": [
            "Epoch 1/20\n",
            "1250/1250 [==============================] - 3s 3ms/step - loss: 0.6879 - accuracy: 0.7916 - val_loss: 0.5616 - val_accuracy: 0.8321\n",
            "Epoch 2/20\n",
            "1250/1250 [==============================] - 3s 3ms/step - loss: 0.5395 - accuracy: 0.8401 - val_loss: 0.5474 - val_accuracy: 0.8469\n",
            "Epoch 3/20\n",
            "1250/1250 [==============================] - 3s 3ms/step - loss: 0.4991 - accuracy: 0.8522 - val_loss: 0.5240 - val_accuracy: 0.8465\n",
            "Epoch 4/20\n",
            "1250/1250 [==============================] - 3s 3ms/step - loss: 0.4740 - accuracy: 0.8599 - val_loss: 0.5014 - val_accuracy: 0.8564\n",
            "Epoch 5/20\n",
            "1250/1250 [==============================] - 3s 3ms/step - loss: 0.4595 - accuracy: 0.8644 - val_loss: 0.5486 - val_accuracy: 0.8425\n",
            "Epoch 6/20\n",
            "1250/1250 [==============================] - 4s 3ms/step - loss: 0.4409 - accuracy: 0.8695 - val_loss: 0.5278 - val_accuracy: 0.8497\n",
            "Epoch 7/20\n",
            "1250/1250 [==============================] - 4s 3ms/step - loss: 0.4271 - accuracy: 0.8740 - val_loss: 0.5286 - val_accuracy: 0.8531\n",
            "Epoch 8/20\n",
            "1250/1250 [==============================] - 4s 3ms/step - loss: 0.4145 - accuracy: 0.8779 - val_loss: 0.5537 - val_accuracy: 0.8518\n",
            "Epoch 9/20\n",
            "1250/1250 [==============================] - 4s 3ms/step - loss: 0.4069 - accuracy: 0.8812 - val_loss: 0.5150 - val_accuracy: 0.8590\n",
            "Epoch 10/20\n",
            "1250/1250 [==============================] - 4s 3ms/step - loss: 0.3953 - accuracy: 0.8838 - val_loss: 0.5461 - val_accuracy: 0.8576\n",
            "Epoch 11/20\n",
            "1250/1250 [==============================] - 3s 3ms/step - loss: 0.3863 - accuracy: 0.8874 - val_loss: 0.5299 - val_accuracy: 0.8575\n",
            "Epoch 12/20\n",
            "1250/1250 [==============================] - 4s 3ms/step - loss: 0.3791 - accuracy: 0.8901 - val_loss: 0.5657 - val_accuracy: 0.8554\n",
            "Epoch 13/20\n",
            "1250/1250 [==============================] - 3s 3ms/step - loss: 0.3696 - accuracy: 0.8918 - val_loss: 0.5409 - val_accuracy: 0.8556\n",
            "Epoch 14/20\n",
            "1250/1250 [==============================] - 3s 3ms/step - loss: 0.3655 - accuracy: 0.8928 - val_loss: 0.5700 - val_accuracy: 0.8562\n",
            "Epoch 15/20\n",
            "1250/1250 [==============================] - 3s 3ms/step - loss: 0.3545 - accuracy: 0.8966 - val_loss: 0.5562 - val_accuracy: 0.8590\n",
            "Epoch 16/20\n",
            "1250/1250 [==============================] - 3s 3ms/step - loss: 0.3526 - accuracy: 0.8989 - val_loss: 0.5618 - val_accuracy: 0.8569\n",
            "Epoch 17/20\n",
            "1250/1250 [==============================] - 3s 3ms/step - loss: 0.3418 - accuracy: 0.9009 - val_loss: 0.5587 - val_accuracy: 0.8565\n",
            "Epoch 18/20\n",
            "1250/1250 [==============================] - 3s 3ms/step - loss: 0.3468 - accuracy: 0.9004 - val_loss: 0.6068 - val_accuracy: 0.8583\n",
            "Epoch 19/20\n",
            "1250/1250 [==============================] - 3s 3ms/step - loss: 0.3376 - accuracy: 0.9027 - val_loss: 0.6042 - val_accuracy: 0.8579\n",
            "Epoch 20/20\n",
            "1250/1250 [==============================] - 3s 3ms/step - loss: 0.3273 - accuracy: 0.9058 - val_loss: 0.5907 - val_accuracy: 0.8577\n"
          ],
          "name": "stdout"
        }
      ]
    },
    {
      "cell_type": "code",
      "metadata": {
        "colab": {
          "base_uri": "https://localhost:8080/"
        },
        "id": "DtlKLOZYzwbi",
        "outputId": "f77fea39-f760-4718-91c2-dfb560b46fe5"
      },
      "source": [
        "\n",
        "# Use function to create a default model\n",
        "model = create_model('relu', 0.01, Adamax)\n",
        "\n",
        "# Optimizer experiment #2\n",
        "bs64_Adamax = model.fit(\n",
        "  X_train, y_train,\n",
        "  epochs=20,\n",
        "  batch_size=64,\n",
        "  validation_data=(X_test, y_test)\n",
        ")"
      ],
      "execution_count": null,
      "outputs": [
        {
          "output_type": "stream",
          "text": [
            "Epoch 1/20\n",
            "1250/1250 [==============================] - 3s 3ms/step - loss: 0.6796 - accuracy: 0.7918 - val_loss: 0.5434 - val_accuracy: 0.8359\n",
            "Epoch 2/20\n",
            "1250/1250 [==============================] - 3s 3ms/step - loss: 0.4889 - accuracy: 0.8508 - val_loss: 0.4892 - val_accuracy: 0.8519\n",
            "Epoch 3/20\n",
            "1250/1250 [==============================] - 3s 3ms/step - loss: 0.4308 - accuracy: 0.8678 - val_loss: 0.4567 - val_accuracy: 0.8608\n",
            "Epoch 4/20\n",
            "1250/1250 [==============================] - 3s 3ms/step - loss: 0.3916 - accuracy: 0.8801 - val_loss: 0.4481 - val_accuracy: 0.8639\n",
            "Epoch 5/20\n",
            "1250/1250 [==============================] - 3s 3ms/step - loss: 0.3631 - accuracy: 0.8884 - val_loss: 0.4519 - val_accuracy: 0.8643\n",
            "Epoch 6/20\n",
            "1250/1250 [==============================] - 3s 3ms/step - loss: 0.3390 - accuracy: 0.8956 - val_loss: 0.4489 - val_accuracy: 0.8676\n",
            "Epoch 7/20\n",
            "1250/1250 [==============================] - 4s 3ms/step - loss: 0.3200 - accuracy: 0.9014 - val_loss: 0.4544 - val_accuracy: 0.8694\n",
            "Epoch 8/20\n",
            "1250/1250 [==============================] - 4s 3ms/step - loss: 0.3007 - accuracy: 0.9072 - val_loss: 0.4787 - val_accuracy: 0.8637\n",
            "Epoch 9/20\n",
            "1250/1250 [==============================] - 3s 3ms/step - loss: 0.2841 - accuracy: 0.9116 - val_loss: 0.4789 - val_accuracy: 0.8677\n",
            "Epoch 10/20\n",
            "1250/1250 [==============================] - 3s 3ms/step - loss: 0.2686 - accuracy: 0.9169 - val_loss: 0.5015 - val_accuracy: 0.8630\n",
            "Epoch 11/20\n",
            "1250/1250 [==============================] - 3s 3ms/step - loss: 0.2563 - accuracy: 0.9202 - val_loss: 0.4979 - val_accuracy: 0.8672\n",
            "Epoch 12/20\n",
            "1250/1250 [==============================] - 3s 3ms/step - loss: 0.2438 - accuracy: 0.9241 - val_loss: 0.5244 - val_accuracy: 0.8670\n",
            "Epoch 13/20\n",
            "1250/1250 [==============================] - 3s 3ms/step - loss: 0.2320 - accuracy: 0.9275 - val_loss: 0.5331 - val_accuracy: 0.8673\n",
            "Epoch 14/20\n",
            "1250/1250 [==============================] - 3s 3ms/step - loss: 0.2219 - accuracy: 0.9308 - val_loss: 0.5517 - val_accuracy: 0.8655\n",
            "Epoch 15/20\n",
            "1250/1250 [==============================] - 3s 3ms/step - loss: 0.2108 - accuracy: 0.9341 - val_loss: 0.5756 - val_accuracy: 0.8565\n",
            "Epoch 16/20\n",
            "1250/1250 [==============================] - 3s 3ms/step - loss: 0.2018 - accuracy: 0.9357 - val_loss: 0.5969 - val_accuracy: 0.8609\n",
            "Epoch 17/20\n",
            "1250/1250 [==============================] - 3s 3ms/step - loss: 0.1919 - accuracy: 0.9397 - val_loss: 0.6002 - val_accuracy: 0.8618\n",
            "Epoch 18/20\n",
            "1250/1250 [==============================] - 3s 3ms/step - loss: 0.1841 - accuracy: 0.9422 - val_loss: 0.6509 - val_accuracy: 0.8597\n",
            "Epoch 19/20\n",
            "1250/1250 [==============================] - 3s 3ms/step - loss: 0.1774 - accuracy: 0.9438 - val_loss: 0.6508 - val_accuracy: 0.8573\n",
            "Epoch 20/20\n",
            "1250/1250 [==============================] - 3s 3ms/step - loss: 0.1694 - accuracy: 0.9455 - val_loss: 0.6893 - val_accuracy: 0.8598\n"
          ],
          "name": "stdout"
        }
      ]
    },
    {
      "cell_type": "code",
      "metadata": {
        "colab": {
          "base_uri": "https://localhost:8080/"
        },
        "id": "snNWzuG3z066",
        "outputId": "fd4713e9-2e9b-4704-ffce-fa171e14cd9d"
      },
      "source": [
        "\n",
        "# Use function to create a default model\n",
        "model = create_model('relu', 0.01, Ftrl)\n",
        "\n",
        "# Optimizer experiment #3\n",
        "bs64_Ftrl = model.fit(\n",
        "  X_train, y_train,\n",
        "  epochs=20,\n",
        "  batch_size=64,\n",
        "  validation_data=(X_test, y_test)\n",
        ")"
      ],
      "execution_count": null,
      "outputs": [
        {
          "output_type": "stream",
          "text": [
            "Epoch 1/20\n",
            "1250/1250 [==============================] - 4s 3ms/step - loss: 2.3027 - accuracy: 0.0979 - val_loss: 2.3026 - val_accuracy: 0.1000\n",
            "Epoch 2/20\n",
            "1250/1250 [==============================] - 4s 3ms/step - loss: 2.3026 - accuracy: 0.0975 - val_loss: 2.3026 - val_accuracy: 0.1000\n",
            "Epoch 3/20\n",
            "1250/1250 [==============================] - 4s 3ms/step - loss: 2.3026 - accuracy: 0.0982 - val_loss: 2.3026 - val_accuracy: 0.1000\n",
            "Epoch 4/20\n",
            "1250/1250 [==============================] - 4s 3ms/step - loss: 2.3026 - accuracy: 0.0970 - val_loss: 2.3026 - val_accuracy: 0.1000\n",
            "Epoch 5/20\n",
            "1250/1250 [==============================] - 4s 3ms/step - loss: 2.3026 - accuracy: 0.0980 - val_loss: 2.3026 - val_accuracy: 0.1000\n",
            "Epoch 6/20\n",
            "1250/1250 [==============================] - 4s 3ms/step - loss: 2.3026 - accuracy: 0.0970 - val_loss: 2.3026 - val_accuracy: 0.1000\n",
            "Epoch 7/20\n",
            "1250/1250 [==============================] - 4s 3ms/step - loss: 2.3026 - accuracy: 0.0966 - val_loss: 2.3026 - val_accuracy: 0.1000\n",
            "Epoch 8/20\n",
            "1250/1250 [==============================] - 4s 3ms/step - loss: 2.3026 - accuracy: 0.0957 - val_loss: 2.3026 - val_accuracy: 0.1000\n",
            "Epoch 9/20\n",
            "1250/1250 [==============================] - 4s 3ms/step - loss: 2.3026 - accuracy: 0.0967 - val_loss: 2.3026 - val_accuracy: 0.1000\n",
            "Epoch 10/20\n",
            "1250/1250 [==============================] - 4s 3ms/step - loss: 2.3026 - accuracy: 0.0968 - val_loss: 2.3026 - val_accuracy: 0.1000\n",
            "Epoch 11/20\n",
            "1250/1250 [==============================] - 4s 3ms/step - loss: 2.3026 - accuracy: 0.0979 - val_loss: 2.3026 - val_accuracy: 0.1000\n",
            "Epoch 12/20\n",
            "1250/1250 [==============================] - 4s 3ms/step - loss: 2.3026 - accuracy: 0.0984 - val_loss: 2.3026 - val_accuracy: 0.1000\n",
            "Epoch 13/20\n",
            "1250/1250 [==============================] - 4s 3ms/step - loss: 2.3026 - accuracy: 0.0975 - val_loss: 2.3026 - val_accuracy: 0.1000\n",
            "Epoch 14/20\n",
            "1250/1250 [==============================] - 4s 3ms/step - loss: 2.3026 - accuracy: 0.0978 - val_loss: 2.3026 - val_accuracy: 0.1000\n",
            "Epoch 15/20\n",
            "1250/1250 [==============================] - 4s 3ms/step - loss: 2.3026 - accuracy: 0.0969 - val_loss: 2.3026 - val_accuracy: 0.1000\n",
            "Epoch 16/20\n",
            "1250/1250 [==============================] - 4s 3ms/step - loss: 2.3026 - accuracy: 0.0976 - val_loss: 2.3026 - val_accuracy: 0.1000\n",
            "Epoch 17/20\n",
            "1250/1250 [==============================] - 4s 3ms/step - loss: 2.3026 - accuracy: 0.0977 - val_loss: 2.3026 - val_accuracy: 0.1000\n",
            "Epoch 18/20\n",
            "1250/1250 [==============================] - 4s 3ms/step - loss: 2.3026 - accuracy: 0.0981 - val_loss: 2.3026 - val_accuracy: 0.1000\n",
            "Epoch 19/20\n",
            "1250/1250 [==============================] - 4s 3ms/step - loss: 2.3026 - accuracy: 0.0976 - val_loss: 2.3026 - val_accuracy: 0.1000\n",
            "Epoch 20/20\n",
            "1250/1250 [==============================] - 4s 3ms/step - loss: 2.3026 - accuracy: 0.0976 - val_loss: 2.3026 - val_accuracy: 0.1000\n"
          ],
          "name": "stdout"
        }
      ]
    },
    {
      "cell_type": "code",
      "metadata": {
        "colab": {
          "base_uri": "https://localhost:8080/"
        },
        "id": "p0EwOutdz5-o",
        "outputId": "a98b1775-e7a7-419c-f2db-b2c448ea2da8"
      },
      "source": [
        "\n",
        "# Use function to create a default model\n",
        "model = create_model('relu', 0.01, Nadam)\n",
        "\n",
        "# Optimizer experiment #4\n",
        "bs64_Nadam = model.fit(\n",
        "  X_train, y_train,\n",
        "  epochs=20,\n",
        "  batch_size=64,\n",
        "  validation_data=(X_test, y_test)\n",
        ")"
      ],
      "execution_count": null,
      "outputs": [
        {
          "output_type": "stream",
          "text": [
            "Epoch 1/20\n",
            "1250/1250 [==============================] - 5s 4ms/step - loss: 0.6829 - accuracy: 0.7908 - val_loss: 0.5560 - val_accuracy: 0.8350\n",
            "Epoch 2/20\n",
            "1250/1250 [==============================] - 5s 4ms/step - loss: 0.5318 - accuracy: 0.8411 - val_loss: 0.5107 - val_accuracy: 0.8500\n",
            "Epoch 3/20\n",
            "1250/1250 [==============================] - 5s 4ms/step - loss: 0.4959 - accuracy: 0.8515 - val_loss: 0.5188 - val_accuracy: 0.8485\n",
            "Epoch 4/20\n",
            "1250/1250 [==============================] - 5s 4ms/step - loss: 0.4656 - accuracy: 0.8620 - val_loss: 0.5367 - val_accuracy: 0.8488\n",
            "Epoch 5/20\n",
            "1250/1250 [==============================] - 5s 4ms/step - loss: 0.4484 - accuracy: 0.8675 - val_loss: 0.5120 - val_accuracy: 0.8551\n",
            "Epoch 6/20\n",
            "1250/1250 [==============================] - 5s 4ms/step - loss: 0.4270 - accuracy: 0.8734 - val_loss: 0.5198 - val_accuracy: 0.8505\n",
            "Epoch 7/20\n",
            "1250/1250 [==============================] - 5s 4ms/step - loss: 0.4135 - accuracy: 0.8778 - val_loss: 0.5112 - val_accuracy: 0.8571\n",
            "Epoch 8/20\n",
            "1250/1250 [==============================] - 5s 4ms/step - loss: 0.4036 - accuracy: 0.8811 - val_loss: 0.5194 - val_accuracy: 0.8558\n",
            "Epoch 9/20\n",
            "1250/1250 [==============================] - 5s 4ms/step - loss: 0.3906 - accuracy: 0.8852 - val_loss: 0.5175 - val_accuracy: 0.8569\n",
            "Epoch 10/20\n",
            "1250/1250 [==============================] - 6s 4ms/step - loss: 0.3824 - accuracy: 0.8873 - val_loss: 0.5320 - val_accuracy: 0.8563\n",
            "Epoch 11/20\n",
            "1250/1250 [==============================] - 5s 4ms/step - loss: 0.3764 - accuracy: 0.8893 - val_loss: 0.5254 - val_accuracy: 0.8571\n",
            "Epoch 12/20\n",
            "1250/1250 [==============================] - 5s 4ms/step - loss: 0.3666 - accuracy: 0.8928 - val_loss: 0.5647 - val_accuracy: 0.8557\n",
            "Epoch 13/20\n",
            "1250/1250 [==============================] - 5s 4ms/step - loss: 0.3565 - accuracy: 0.8943 - val_loss: 0.5725 - val_accuracy: 0.8546\n",
            "Epoch 14/20\n",
            "1250/1250 [==============================] - 5s 4ms/step - loss: 0.3519 - accuracy: 0.8970 - val_loss: 0.5627 - val_accuracy: 0.8529\n",
            "Epoch 15/20\n",
            "1250/1250 [==============================] - 5s 4ms/step - loss: 0.3447 - accuracy: 0.8987 - val_loss: 0.5767 - val_accuracy: 0.8560\n",
            "Epoch 16/20\n",
            "1250/1250 [==============================] - 5s 4ms/step - loss: 0.3377 - accuracy: 0.9010 - val_loss: 0.6018 - val_accuracy: 0.8500\n",
            "Epoch 17/20\n",
            "1250/1250 [==============================] - 5s 4ms/step - loss: 0.3385 - accuracy: 0.9018 - val_loss: 0.5879 - val_accuracy: 0.8564\n",
            "Epoch 18/20\n",
            "1250/1250 [==============================] - 5s 4ms/step - loss: 0.3304 - accuracy: 0.9039 - val_loss: 0.6026 - val_accuracy: 0.8570\n",
            "Epoch 19/20\n",
            "1250/1250 [==============================] - 5s 4ms/step - loss: 0.3198 - accuracy: 0.9063 - val_loss: 0.6126 - val_accuracy: 0.8522\n",
            "Epoch 20/20\n",
            "1250/1250 [==============================] - 5s 4ms/step - loss: 0.3202 - accuracy: 0.9072 - val_loss: 0.6197 - val_accuracy: 0.8578\n"
          ],
          "name": "stdout"
        }
      ]
    },
    {
      "cell_type": "code",
      "metadata": {
        "colab": {
          "base_uri": "https://localhost:8080/"
        },
        "id": "5Rosgsw70Bjn",
        "outputId": "443db8c4-6271-47d4-c483-681f2dccf1aa"
      },
      "source": [
        "# Use function to create a default model\n",
        "model = create_model('relu', 0.01, RMSprop)\n",
        "\n",
        "# Optimizer experiment #5\n",
        "bs64_RMSprop = model.fit(\n",
        "  X_train, y_train,\n",
        "  epochs=20,\n",
        "  batch_size=64,\n",
        "  validation_data=(X_test, y_test)\n",
        ")"
      ],
      "execution_count": null,
      "outputs": [
        {
          "output_type": "stream",
          "text": [
            "Epoch 1/20\n",
            "1250/1250 [==============================] - 4s 3ms/step - loss: 0.7673 - accuracy: 0.7724 - val_loss: 0.6464 - val_accuracy: 0.8076\n",
            "Epoch 2/20\n",
            "1250/1250 [==============================] - 4s 3ms/step - loss: 0.6408 - accuracy: 0.8226 - val_loss: 0.6274 - val_accuracy: 0.8223\n",
            "Epoch 3/20\n",
            "1250/1250 [==============================] - 4s 3ms/step - loss: 0.6233 - accuracy: 0.8309 - val_loss: 0.6365 - val_accuracy: 0.8246\n",
            "Epoch 4/20\n",
            "1250/1250 [==============================] - 4s 3ms/step - loss: 0.6082 - accuracy: 0.8370 - val_loss: 0.7204 - val_accuracy: 0.8219\n",
            "Epoch 5/20\n",
            "1250/1250 [==============================] - 4s 3ms/step - loss: 0.6158 - accuracy: 0.8395 - val_loss: 0.8530 - val_accuracy: 0.8303\n",
            "Epoch 6/20\n",
            "1250/1250 [==============================] - 4s 3ms/step - loss: 0.6172 - accuracy: 0.8403 - val_loss: 0.6682 - val_accuracy: 0.8323\n",
            "Epoch 7/20\n",
            "1250/1250 [==============================] - 4s 3ms/step - loss: 0.6334 - accuracy: 0.8389 - val_loss: 0.8739 - val_accuracy: 0.8153\n",
            "Epoch 8/20\n",
            "1250/1250 [==============================] - 4s 3ms/step - loss: 0.6344 - accuracy: 0.8374 - val_loss: 0.9642 - val_accuracy: 0.8224\n",
            "Epoch 9/20\n",
            "1250/1250 [==============================] - 4s 3ms/step - loss: 0.6439 - accuracy: 0.8378 - val_loss: 1.1715 - val_accuracy: 0.8134\n",
            "Epoch 10/20\n",
            "1250/1250 [==============================] - 4s 3ms/step - loss: 0.6790 - accuracy: 0.8363 - val_loss: 0.8228 - val_accuracy: 0.8300\n",
            "Epoch 11/20\n",
            "1250/1250 [==============================] - 4s 3ms/step - loss: 0.6577 - accuracy: 0.8351 - val_loss: 1.1799 - val_accuracy: 0.8391\n",
            "Epoch 12/20\n",
            "1250/1250 [==============================] - 4s 3ms/step - loss: 0.6771 - accuracy: 0.8335 - val_loss: 1.6758 - val_accuracy: 0.8062\n",
            "Epoch 13/20\n",
            "1250/1250 [==============================] - 4s 3ms/step - loss: 0.6931 - accuracy: 0.8333 - val_loss: 1.0864 - val_accuracy: 0.8238\n",
            "Epoch 14/20\n",
            "1250/1250 [==============================] - 4s 3ms/step - loss: 0.6860 - accuracy: 0.8290 - val_loss: 1.7026 - val_accuracy: 0.7830\n",
            "Epoch 15/20\n",
            "1250/1250 [==============================] - 4s 3ms/step - loss: 0.6969 - accuracy: 0.8340 - val_loss: 0.9537 - val_accuracy: 0.8199\n",
            "Epoch 16/20\n",
            "1250/1250 [==============================] - 4s 3ms/step - loss: 0.7107 - accuracy: 0.8298 - val_loss: 1.1673 - val_accuracy: 0.8198\n",
            "Epoch 17/20\n",
            "1250/1250 [==============================] - 4s 3ms/step - loss: 0.7459 - accuracy: 0.8227 - val_loss: 1.0609 - val_accuracy: 0.7923\n",
            "Epoch 18/20\n",
            "1250/1250 [==============================] - 4s 3ms/step - loss: 0.7718 - accuracy: 0.8132 - val_loss: 1.5971 - val_accuracy: 0.7808\n",
            "Epoch 19/20\n",
            "1250/1250 [==============================] - 4s 3ms/step - loss: 0.8063 - accuracy: 0.8088 - val_loss: 3.9248 - val_accuracy: 0.7438\n",
            "Epoch 20/20\n",
            "1250/1250 [==============================] - 4s 3ms/step - loss: 0.8268 - accuracy: 0.7953 - val_loss: 2.3894 - val_accuracy: 0.7603\n"
          ],
          "name": "stdout"
        }
      ]
    },
    {
      "cell_type": "code",
      "metadata": {
        "colab": {
          "base_uri": "https://localhost:8080/",
          "height": 198
        },
        "id": "Iw3uFGlg0GNb",
        "outputId": "cabac164-c39c-41c3-f40e-fb9ce690e369"
      },
      "source": [
        "optimize = []\n",
        "\n",
        "for exp, result in zip([bs64_Adam, bs64_Adamax, bs64_Ftrl, bs64_Nadam, \n",
        "                        bs64_RMSprop], ['Adam', 'Adamax', 'Ftrl', 'Nadam', \n",
        "                                        'RMSprop']):\n",
        "    df = pd.DataFrame.from_dict(exp.history)\n",
        "    df['epoch'] = df.index.values\n",
        "    df['Optimizer'] = result\n",
        "    optimize.append(df)\n",
        "\n",
        "df = pd.concat(optimize)\n",
        "df['Optimizer'] = df['Optimizer'].astype('str')\n",
        "df.head()"
      ],
      "execution_count": null,
      "outputs": [
        {
          "output_type": "execute_result",
          "data": {
            "text/html": [
              "<div>\n",
              "<style scoped>\n",
              "    .dataframe tbody tr th:only-of-type {\n",
              "        vertical-align: middle;\n",
              "    }\n",
              "\n",
              "    .dataframe tbody tr th {\n",
              "        vertical-align: top;\n",
              "    }\n",
              "\n",
              "    .dataframe thead th {\n",
              "        text-align: right;\n",
              "    }\n",
              "</style>\n",
              "<table border=\"1\" class=\"dataframe\">\n",
              "  <thead>\n",
              "    <tr style=\"text-align: right;\">\n",
              "      <th></th>\n",
              "      <th>loss</th>\n",
              "      <th>accuracy</th>\n",
              "      <th>val_loss</th>\n",
              "      <th>val_accuracy</th>\n",
              "      <th>epoch</th>\n",
              "      <th>Optimizer</th>\n",
              "    </tr>\n",
              "  </thead>\n",
              "  <tbody>\n",
              "    <tr>\n",
              "      <th>0</th>\n",
              "      <td>0.687946</td>\n",
              "      <td>0.791625</td>\n",
              "      <td>0.561561</td>\n",
              "      <td>0.83210</td>\n",
              "      <td>0</td>\n",
              "      <td>Adam</td>\n",
              "    </tr>\n",
              "    <tr>\n",
              "      <th>1</th>\n",
              "      <td>0.539510</td>\n",
              "      <td>0.840137</td>\n",
              "      <td>0.547416</td>\n",
              "      <td>0.84695</td>\n",
              "      <td>1</td>\n",
              "      <td>Adam</td>\n",
              "    </tr>\n",
              "    <tr>\n",
              "      <th>2</th>\n",
              "      <td>0.499144</td>\n",
              "      <td>0.852162</td>\n",
              "      <td>0.524030</td>\n",
              "      <td>0.84655</td>\n",
              "      <td>2</td>\n",
              "      <td>Adam</td>\n",
              "    </tr>\n",
              "    <tr>\n",
              "      <th>3</th>\n",
              "      <td>0.473997</td>\n",
              "      <td>0.859913</td>\n",
              "      <td>0.501387</td>\n",
              "      <td>0.85640</td>\n",
              "      <td>3</td>\n",
              "      <td>Adam</td>\n",
              "    </tr>\n",
              "    <tr>\n",
              "      <th>4</th>\n",
              "      <td>0.459471</td>\n",
              "      <td>0.864400</td>\n",
              "      <td>0.548597</td>\n",
              "      <td>0.84255</td>\n",
              "      <td>4</td>\n",
              "      <td>Adam</td>\n",
              "    </tr>\n",
              "  </tbody>\n",
              "</table>\n",
              "</div>"
            ],
            "text/plain": [
              "       loss  accuracy  val_loss  val_accuracy  epoch Optimizer\n",
              "0  0.687946  0.791625  0.561561       0.83210      0      Adam\n",
              "1  0.539510  0.840137  0.547416       0.84695      1      Adam\n",
              "2  0.499144  0.852162  0.524030       0.84655      2      Adam\n",
              "3  0.473997  0.859913  0.501387       0.85640      3      Adam\n",
              "4  0.459471  0.864400  0.548597       0.84255      4      Adam"
            ]
          },
          "metadata": {
            "tags": []
          },
          "execution_count": 28
        }
      ]
    },
    {
      "cell_type": "code",
      "metadata": {
        "colab": {
          "base_uri": "https://localhost:8080/",
          "height": 287
        },
        "id": "oHGucMg_0J0s",
        "outputId": "f8e1a4f1-810f-45ad-87f7-df46e4969c26"
      },
      "source": [
        "sns.lineplot(x='epoch', y='val_accuracy', hue='Optimizer', data=df);"
      ],
      "execution_count": null,
      "outputs": [
        {
          "output_type": "display_data",
          "data": {
            "image/png": "[encoded data removed]",
            "text/plain": [
              "<Figure size 432x288 with 1 Axes>"
            ]
          },
          "metadata": {
            "tags": [],
            "needs_background": "light"
          }
        }
      ]
    },
    {
      "cell_type": "code",
      "metadata": {
        "colab": {
          "base_uri": "https://localhost:8080/",
          "height": 443
        },
        "id": "Q-MtzVHO0QAh",
        "outputId": "a5fab5a7-6c71-44b1-dc19-8948b42c9e94"
      },
      "source": [
        "sns.lineplot(x='Optimizer', y='val_accuracy', data=df, c='b')\n",
        "sns.lineplot(x='Optimizer', y='accuracy', data=df, c='g');"
      ],
      "execution_count": null,
      "outputs": [
        {
          "output_type": "stream",
          "text": [
            "/usr/local/lib/python3.6/dist-packages/seaborn/relational.py:507: MatplotlibDeprecationWarning: Saw kwargs ['c', 'color'] which are all aliases for 'color'.  Kept value from 'color'.  Passing multiple aliases for the same property will raise a TypeError in 3.3.\n",
            "  line, = ax.plot([], [], **kws)\n",
            "/usr/local/lib/python3.6/dist-packages/seaborn/relational.py:522: MatplotlibDeprecationWarning: Saw kwargs ['c', 'color'] which are all aliases for 'color'.  Kept value from 'color'.  Passing multiple aliases for the same property will raise a TypeError in 3.3.\n",
            "  line, = ax.plot(x, y, **kws)\n",
            "/usr/local/lib/python3.6/dist-packages/seaborn/relational.py:507: MatplotlibDeprecationWarning: Saw kwargs ['c', 'color'] which are all aliases for 'color'.  Kept value from 'color'.  Passing multiple aliases for the same property will raise a TypeError in 3.3.\n",
            "  line, = ax.plot([], [], **kws)\n",
            "/usr/local/lib/python3.6/dist-packages/seaborn/relational.py:522: MatplotlibDeprecationWarning: Saw kwargs ['c', 'color'] which are all aliases for 'color'.  Kept value from 'color'.  Passing multiple aliases for the same property will raise a TypeError in 3.3.\n",
            "  line, = ax.plot(x, y, **kws)\n"
          ],
          "name": "stderr"
        },
        {
          "output_type": "display_data",
          "data": {
            "image/png": "[encoded data removed]",
            "text/plain": [
              "<Figure size 432x288 with 1 Axes>"
            ]
          },
          "metadata": {
            "tags": [],
            "needs_background": "light"
          }
        }
      ]
    },
    {
      "cell_type": "markdown",
      "metadata": {
        "id": "ydAqeY9S8uHA"
      },
      "source": [
        "### Additional Written Tasks\n",
        "\n",
        "1. Describe the process of backpropagation in your own words: \n",
        "```\n",
        "Your answer goes here.\n",
        "```\n",
        "\n"
      ]
    },
    {
      "cell_type": "markdown",
      "metadata": {
        "id": "FwlRJSfBlCvy"
      },
      "source": [
        "## Stretch Goals: \n",
        "\n",
        "- Implement GridSearch on anyone of the experiments\n",
        "- On the learning rate experiments, implement [EarlyStopping](https://www.tensorflow.org/api_docs/python/tf/keras/callbacks/EarlyStopping)\n",
        "- Review material on the math behind gradient descent: \n",
        "\n",
        "  - Gradient Descent\n",
        "    - Gradient Descent, Step-by-Step  by StatQuest w/ Josh Starmer. This will help you understand the gradient descent based optimization that happens underneath the hood of neural networks. It uses a non-neural network example, which I believe is a gentler introduction. You will hear me refer to this technique as \"vanilla\" gradient descent. \n",
        "    - Stochastic Gradient Descent, Clearly Explained!!! by StatQuest w/ Josh Starmer. This builds on the techniques in the previous video.  This technique is the one that is actually implemented inside modern 'nets. \n",
        "These are great resources to help you understand tomorrow's material at a deeper level. I highly recommend watching these ahead of tomorrow.\n",
        "\n",
        "  - Background Math\n",
        "    - Dot products and duality by 3Blue1Brown. Explains the core linear algebra operation happening in today's perceptron.\n",
        "The paradox of the derivative by 3Blue1Brown. Does a great job explaining a derivative. \n",
        "    - Visualizing the chain rule and product rule by 3Blue1Brown. Explains the black magic that happens within Stochastic Gradient Descent. \n",
        "These math resources are very much optional. They can be very heady, but I encourage you to explore. Your understanding of neural networks will greatly increase if you understand this math background.\n",
        "\n",
        "\n"
      ]
    }
  ]
}